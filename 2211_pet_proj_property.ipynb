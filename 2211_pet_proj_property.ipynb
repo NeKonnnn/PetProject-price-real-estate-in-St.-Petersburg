{
  "nbformat": 4,
  "nbformat_minor": 0,
  "metadata": {
    "colab": {
      "provenance": [],
      "collapsed_sections": [],
      "authorship_tag": "ABX9TyPEwttJY7+LN7LvFOP1lbw1",
      "include_colab_link": true
    },
    "kernelspec": {
      "name": "python3",
      "display_name": "Python 3"
    },
    "language_info": {
      "name": "python"
    }
  },
  "cells": [
    {
      "cell_type": "markdown",
      "metadata": {
        "id": "view-in-github",
        "colab_type": "text"
      },
      "source": [
        "<a href=\"https://colab.research.google.com/github/NeKonnnn/PetProject-price-real-estate-in-St.-Petersburg/blob/main/2211_pet_proj_property.ipynb\" target=\"_parent\"><img src=\"https://colab.research.google.com/assets/colab-badge.svg\" alt=\"Open In Colab\"/></a>"
      ]
    },
    {
      "cell_type": "code",
      "source": [
        "! git clone https://github.com/NeKonnnn/PetProject-price-real-estate-in-St.-Petersburg"
      ],
      "metadata": {
        "colab": {
          "base_uri": "https://localhost:8080/"
        },
        "id": "gVRlC7IX6S9V",
        "outputId": "8184306c-68c8-4ddc-9c87-ffffdda19f99"
      },
      "execution_count": 1,
      "outputs": [
        {
          "output_type": "stream",
          "name": "stdout",
          "text": [
            "Cloning into 'PetProject-price-real-estate-in-St.-Petersburg'...\n",
            "remote: Enumerating objects: 12, done.\u001b[K\n",
            "remote: Counting objects: 100% (12/12), done.\u001b[K\n",
            "remote: Compressing objects: 100% (9/9), done.\u001b[K\n",
            "remote: Total 12 (delta 1), reused 0 (delta 0), pack-reused 0\u001b[K\n",
            "Unpacking objects: 100% (12/12), done.\n"
          ]
        }
      ]
    },
    {
      "cell_type": "code",
      "execution_count": 2,
      "metadata": {
        "id": "iQgoT2W5_N07"
      },
      "outputs": [],
      "source": [
        "import numpy as np\n",
        "import pandas as pd\n",
        "import re\n",
        "\n",
        "pd.set_option(\"display.max_columns\", None)"
      ]
    },
    {
      "cell_type": "markdown",
      "source": [
        "!gdown 1IwF_mitjvhZZ4QJms0VMXJT8lrofnbxm"
      ],
      "metadata": {
        "id": "jEENaGCa_nRr"
      }
    },
    {
      "cell_type": "markdown",
      "source": [
        "# Explore"
      ],
      "metadata": {
        "id": "zedk3vKGZlxX"
      }
    },
    {
      "cell_type": "code",
      "source": [
        "df = pd.read_csv('/content/PetProject-price-real-estate-in-St.-Petersburg/avito_add_coordinates.csv')"
      ],
      "metadata": {
        "id": "l0t7tghE_wX1"
      },
      "execution_count": 3,
      "outputs": []
    },
    {
      "cell_type": "code",
      "source": [
        "df.head()"
      ],
      "metadata": {
        "colab": {
          "base_uri": "https://localhost:8080/",
          "height": 582
        },
        "id": "cdor5bzj_4dN",
        "outputId": "f14a7fff-a7fa-4428-c093-25da2c74eae8"
      },
      "execution_count": 4,
      "outputs": [
        {
          "output_type": "execute_result",
          "data": {
            "text/plain": [
              "          id      Цена                                              Адрес  \\\n",
              "0  105724302   9800000  Санкт-Петербург, Пушкинский р-н, пос. Шушары, ...   \n",
              "1  110963888  24000000            Санкт-Петербург, наб. реки Фонтанки, 28   \n",
              "2  128257189  12500000                Санкт-Петербург, Камышовая ул., 3к1   \n",
              "3  139963851  14200000                    Санкт-Петербург, ул. Беринга, 1   \n",
              "4  204005328   5500000               Санкт-Петербург, Пулковская ул., 8к2   \n",
              "\n",
              "                                     Ближайшее_метро     Дата_публикации  \\\n",
              "0                                                NaN  17.10.2022 в 10:16   \n",
              "1  Гостиный двор11–15 мин.Невский проспект11–15 м...  17.10.2022 в 01:22   \n",
              "2  Комендантский проспект6–10 мин.Старая деревняо...  22.10.2022 в 10:29   \n",
              "3     Приморскаяот 31 мин.Василеостровскаяот 31 мин.  21.10.2022 в 16:53   \n",
              "4  Звёздная6–10 мин.Купчино21–30 мин.Московская21...  16.10.2022 в 03:52   \n",
              "\n",
              "  Количество_комнат Общая_площадь Жилая_площадь      Этаж Балкон_или_лоджия  \\\n",
              "0                 3         73 м²           NaN    1 из 5            балкон   \n",
              "1                 3         85 м²           NaN    3 из 5               NaN   \n",
              "2                 2         55 м²           NaN   8 из 12            лоджия   \n",
              "3                 1         50 м²         32 м²  17 из 17            балкон   \n",
              "4            студия         26 м²         14 м²   9 из 25            балкон   \n",
              "\n",
              "      Тип_комнат Высота_потолков      Санузел  \\\n",
              "0  изолированные             NaN   раздельный   \n",
              "1  изолированные             NaN  совмещенный   \n",
              "2  изолированные           2.6 м   раздельный   \n",
              "3            NaN           3.4 м  совмещенный   \n",
              "4            NaN           2.7 м  совмещенный   \n",
              "\n",
              "                                      Окна           Ремонт  \\\n",
              "0  во двор, на улицу, на солнечную сторону    косметический   \n",
              "1            во двор, на солнечную сторону     дизайнерский   \n",
              "2                                 на улицу  требует ремонта   \n",
              "3                                      NaN  требует ремонта   \n",
              "4            во двор, на солнечную сторону    косметический   \n",
              "\n",
              "                                   Мебель Тёплый_пол Отделка  \\\n",
              "0                                     NaN        NaN     NaN   \n",
              "1                                     NaN        NaN     NaN   \n",
              "2                                   кухня        NaN     NaN   \n",
              "3                                     NaN        NaN     NaN   \n",
              "4  кухня, хранение одежды, спальные места        NaN     NaN   \n",
              "\n",
              "                          Техника  Способ_продажи        Вид_сделки  \\\n",
              "0                             NaN       свободная               NaN   \n",
              "1                             NaN       свободная               NaN   \n",
              "2                             NaN  альтернативная               NaN   \n",
              "3                             NaN  альтернативная               NaN   \n",
              "4  холодильник, стиральная машина       свободная  возможна ипотека   \n",
              "\n",
              "     Тип_дома  Год_постройки  Этажей_в_доме Пассажирский_лифт  \\\n",
              "0   кирпичный         2012.0            5.0               NaN   \n",
              "1   кирпичный            NaN            5.0               NaN   \n",
              "2   панельный         1992.0           12.0                 2   \n",
              "3  монолитный         2009.0           17.0                 1   \n",
              "4  монолитный         2008.0           25.0               NaN   \n",
              "\n",
              "                            Парковка        В_доме  \\\n",
              "0                                NaN           NaN   \n",
              "1                  открытая во дворе           NaN   \n",
              "2                  открытая во дворе  мусоропровод   \n",
              "3  подземная, за шлагбаумом во дворе      консьерж   \n",
              "4                  открытая во дворе  мусоропровод   \n",
              "\n",
              "                                    Двор Грузовой_лифт Название_новостройки  \\\n",
              "0                       детская площадка           NaN                  NaN   \n",
              "1                    закрытая территория           NaN                  NaN   \n",
              "2                                    NaN           нет                  NaN   \n",
              "3  закрытая территория, детская площадка             1                  NaN   \n",
              "4  детская площадка, спортивная площадка           NaN                  NaN   \n",
              "\n",
              "  Корпус_строение Официальный_застройщик Тип_участия Срок_сдачи  \\\n",
              "0             NaN                    NaN         NaN        NaN   \n",
              "1             NaN                    NaN         NaN        NaN   \n",
              "2             NaN                    NaN         NaN        NaN   \n",
              "3             NaN                    NaN         NaN        NaN   \n",
              "4             NaN                    NaN         NaN        NaN   \n",
              "\n",
              "                                              Ссылка            Координаты  \n",
              "0  https://avito.ru//sankt-peterburg/kvartiry/3-k...  59.737926, 30.461476  \n",
              "1  https://avito.ru//sankt-peterburg/kvartiry/3-k...  59.939086, 30.343213  \n",
              "2  https://avito.ru//sankt-peterburg/kvartiry/2-k...  60.005504, 30.254046  \n",
              "3  https://avito.ru//sankt-peterburg/kvartiry/1-k...  59.935831, 30.249087  \n",
              "4  https://avito.ru//sankt-peterburg/kvartiry/kva...  59.838028, 30.352169  "
            ],
            "text/html": [
              "\n",
              "  <div id=\"df-bad2a942-910e-4b97-843b-5a26ea9624d2\">\n",
              "    <div class=\"colab-df-container\">\n",
              "      <div>\n",
              "<style scoped>\n",
              "    .dataframe tbody tr th:only-of-type {\n",
              "        vertical-align: middle;\n",
              "    }\n",
              "\n",
              "    .dataframe tbody tr th {\n",
              "        vertical-align: top;\n",
              "    }\n",
              "\n",
              "    .dataframe thead th {\n",
              "        text-align: right;\n",
              "    }\n",
              "</style>\n",
              "<table border=\"1\" class=\"dataframe\">\n",
              "  <thead>\n",
              "    <tr style=\"text-align: right;\">\n",
              "      <th></th>\n",
              "      <th>id</th>\n",
              "      <th>Цена</th>\n",
              "      <th>Адрес</th>\n",
              "      <th>Ближайшее_метро</th>\n",
              "      <th>Дата_публикации</th>\n",
              "      <th>Количество_комнат</th>\n",
              "      <th>Общая_площадь</th>\n",
              "      <th>Жилая_площадь</th>\n",
              "      <th>Этаж</th>\n",
              "      <th>Балкон_или_лоджия</th>\n",
              "      <th>Тип_комнат</th>\n",
              "      <th>Высота_потолков</th>\n",
              "      <th>Санузел</th>\n",
              "      <th>Окна</th>\n",
              "      <th>Ремонт</th>\n",
              "      <th>Мебель</th>\n",
              "      <th>Тёплый_пол</th>\n",
              "      <th>Отделка</th>\n",
              "      <th>Техника</th>\n",
              "      <th>Способ_продажи</th>\n",
              "      <th>Вид_сделки</th>\n",
              "      <th>Тип_дома</th>\n",
              "      <th>Год_постройки</th>\n",
              "      <th>Этажей_в_доме</th>\n",
              "      <th>Пассажирский_лифт</th>\n",
              "      <th>Парковка</th>\n",
              "      <th>В_доме</th>\n",
              "      <th>Двор</th>\n",
              "      <th>Грузовой_лифт</th>\n",
              "      <th>Название_новостройки</th>\n",
              "      <th>Корпус_строение</th>\n",
              "      <th>Официальный_застройщик</th>\n",
              "      <th>Тип_участия</th>\n",
              "      <th>Срок_сдачи</th>\n",
              "      <th>Ссылка</th>\n",
              "      <th>Координаты</th>\n",
              "    </tr>\n",
              "  </thead>\n",
              "  <tbody>\n",
              "    <tr>\n",
              "      <th>0</th>\n",
              "      <td>105724302</td>\n",
              "      <td>9800000</td>\n",
              "      <td>Санкт-Петербург, Пушкинский р-н, пос. Шушары, ...</td>\n",
              "      <td>NaN</td>\n",
              "      <td>17.10.2022 в 10:16</td>\n",
              "      <td>3</td>\n",
              "      <td>73 м²</td>\n",
              "      <td>NaN</td>\n",
              "      <td>1 из 5</td>\n",
              "      <td>балкон</td>\n",
              "      <td>изолированные</td>\n",
              "      <td>NaN</td>\n",
              "      <td>раздельный</td>\n",
              "      <td>во двор, на улицу, на солнечную сторону</td>\n",
              "      <td>косметический</td>\n",
              "      <td>NaN</td>\n",
              "      <td>NaN</td>\n",
              "      <td>NaN</td>\n",
              "      <td>NaN</td>\n",
              "      <td>свободная</td>\n",
              "      <td>NaN</td>\n",
              "      <td>кирпичный</td>\n",
              "      <td>2012.0</td>\n",
              "      <td>5.0</td>\n",
              "      <td>NaN</td>\n",
              "      <td>NaN</td>\n",
              "      <td>NaN</td>\n",
              "      <td>детская площадка</td>\n",
              "      <td>NaN</td>\n",
              "      <td>NaN</td>\n",
              "      <td>NaN</td>\n",
              "      <td>NaN</td>\n",
              "      <td>NaN</td>\n",
              "      <td>NaN</td>\n",
              "      <td>https://avito.ru//sankt-peterburg/kvartiry/3-k...</td>\n",
              "      <td>59.737926, 30.461476</td>\n",
              "    </tr>\n",
              "    <tr>\n",
              "      <th>1</th>\n",
              "      <td>110963888</td>\n",
              "      <td>24000000</td>\n",
              "      <td>Санкт-Петербург, наб. реки Фонтанки, 28</td>\n",
              "      <td>Гостиный двор11–15 мин.Невский проспект11–15 м...</td>\n",
              "      <td>17.10.2022 в 01:22</td>\n",
              "      <td>3</td>\n",
              "      <td>85 м²</td>\n",
              "      <td>NaN</td>\n",
              "      <td>3 из 5</td>\n",
              "      <td>NaN</td>\n",
              "      <td>изолированные</td>\n",
              "      <td>NaN</td>\n",
              "      <td>совмещенный</td>\n",
              "      <td>во двор, на солнечную сторону</td>\n",
              "      <td>дизайнерский</td>\n",
              "      <td>NaN</td>\n",
              "      <td>NaN</td>\n",
              "      <td>NaN</td>\n",
              "      <td>NaN</td>\n",
              "      <td>свободная</td>\n",
              "      <td>NaN</td>\n",
              "      <td>кирпичный</td>\n",
              "      <td>NaN</td>\n",
              "      <td>5.0</td>\n",
              "      <td>NaN</td>\n",
              "      <td>открытая во дворе</td>\n",
              "      <td>NaN</td>\n",
              "      <td>закрытая территория</td>\n",
              "      <td>NaN</td>\n",
              "      <td>NaN</td>\n",
              "      <td>NaN</td>\n",
              "      <td>NaN</td>\n",
              "      <td>NaN</td>\n",
              "      <td>NaN</td>\n",
              "      <td>https://avito.ru//sankt-peterburg/kvartiry/3-k...</td>\n",
              "      <td>59.939086, 30.343213</td>\n",
              "    </tr>\n",
              "    <tr>\n",
              "      <th>2</th>\n",
              "      <td>128257189</td>\n",
              "      <td>12500000</td>\n",
              "      <td>Санкт-Петербург, Камышовая ул., 3к1</td>\n",
              "      <td>Комендантский проспект6–10 мин.Старая деревняо...</td>\n",
              "      <td>22.10.2022 в 10:29</td>\n",
              "      <td>2</td>\n",
              "      <td>55 м²</td>\n",
              "      <td>NaN</td>\n",
              "      <td>8 из 12</td>\n",
              "      <td>лоджия</td>\n",
              "      <td>изолированные</td>\n",
              "      <td>2.6 м</td>\n",
              "      <td>раздельный</td>\n",
              "      <td>на улицу</td>\n",
              "      <td>требует ремонта</td>\n",
              "      <td>кухня</td>\n",
              "      <td>NaN</td>\n",
              "      <td>NaN</td>\n",
              "      <td>NaN</td>\n",
              "      <td>альтернативная</td>\n",
              "      <td>NaN</td>\n",
              "      <td>панельный</td>\n",
              "      <td>1992.0</td>\n",
              "      <td>12.0</td>\n",
              "      <td>2</td>\n",
              "      <td>открытая во дворе</td>\n",
              "      <td>мусоропровод</td>\n",
              "      <td>NaN</td>\n",
              "      <td>нет</td>\n",
              "      <td>NaN</td>\n",
              "      <td>NaN</td>\n",
              "      <td>NaN</td>\n",
              "      <td>NaN</td>\n",
              "      <td>NaN</td>\n",
              "      <td>https://avito.ru//sankt-peterburg/kvartiry/2-k...</td>\n",
              "      <td>60.005504, 30.254046</td>\n",
              "    </tr>\n",
              "    <tr>\n",
              "      <th>3</th>\n",
              "      <td>139963851</td>\n",
              "      <td>14200000</td>\n",
              "      <td>Санкт-Петербург, ул. Беринга, 1</td>\n",
              "      <td>Приморскаяот 31 мин.Василеостровскаяот 31 мин.</td>\n",
              "      <td>21.10.2022 в 16:53</td>\n",
              "      <td>1</td>\n",
              "      <td>50 м²</td>\n",
              "      <td>32 м²</td>\n",
              "      <td>17 из 17</td>\n",
              "      <td>балкон</td>\n",
              "      <td>NaN</td>\n",
              "      <td>3.4 м</td>\n",
              "      <td>совмещенный</td>\n",
              "      <td>NaN</td>\n",
              "      <td>требует ремонта</td>\n",
              "      <td>NaN</td>\n",
              "      <td>NaN</td>\n",
              "      <td>NaN</td>\n",
              "      <td>NaN</td>\n",
              "      <td>альтернативная</td>\n",
              "      <td>NaN</td>\n",
              "      <td>монолитный</td>\n",
              "      <td>2009.0</td>\n",
              "      <td>17.0</td>\n",
              "      <td>1</td>\n",
              "      <td>подземная, за шлагбаумом во дворе</td>\n",
              "      <td>консьерж</td>\n",
              "      <td>закрытая территория, детская площадка</td>\n",
              "      <td>1</td>\n",
              "      <td>NaN</td>\n",
              "      <td>NaN</td>\n",
              "      <td>NaN</td>\n",
              "      <td>NaN</td>\n",
              "      <td>NaN</td>\n",
              "      <td>https://avito.ru//sankt-peterburg/kvartiry/1-k...</td>\n",
              "      <td>59.935831, 30.249087</td>\n",
              "    </tr>\n",
              "    <tr>\n",
              "      <th>4</th>\n",
              "      <td>204005328</td>\n",
              "      <td>5500000</td>\n",
              "      <td>Санкт-Петербург, Пулковская ул., 8к2</td>\n",
              "      <td>Звёздная6–10 мин.Купчино21–30 мин.Московская21...</td>\n",
              "      <td>16.10.2022 в 03:52</td>\n",
              "      <td>студия</td>\n",
              "      <td>26 м²</td>\n",
              "      <td>14 м²</td>\n",
              "      <td>9 из 25</td>\n",
              "      <td>балкон</td>\n",
              "      <td>NaN</td>\n",
              "      <td>2.7 м</td>\n",
              "      <td>совмещенный</td>\n",
              "      <td>во двор, на солнечную сторону</td>\n",
              "      <td>косметический</td>\n",
              "      <td>кухня, хранение одежды, спальные места</td>\n",
              "      <td>NaN</td>\n",
              "      <td>NaN</td>\n",
              "      <td>холодильник, стиральная машина</td>\n",
              "      <td>свободная</td>\n",
              "      <td>возможна ипотека</td>\n",
              "      <td>монолитный</td>\n",
              "      <td>2008.0</td>\n",
              "      <td>25.0</td>\n",
              "      <td>NaN</td>\n",
              "      <td>открытая во дворе</td>\n",
              "      <td>мусоропровод</td>\n",
              "      <td>детская площадка, спортивная площадка</td>\n",
              "      <td>NaN</td>\n",
              "      <td>NaN</td>\n",
              "      <td>NaN</td>\n",
              "      <td>NaN</td>\n",
              "      <td>NaN</td>\n",
              "      <td>NaN</td>\n",
              "      <td>https://avito.ru//sankt-peterburg/kvartiry/kva...</td>\n",
              "      <td>59.838028, 30.352169</td>\n",
              "    </tr>\n",
              "  </tbody>\n",
              "</table>\n",
              "</div>\n",
              "      <button class=\"colab-df-convert\" onclick=\"convertToInteractive('df-bad2a942-910e-4b97-843b-5a26ea9624d2')\"\n",
              "              title=\"Convert this dataframe to an interactive table.\"\n",
              "              style=\"display:none;\">\n",
              "        \n",
              "  <svg xmlns=\"http://www.w3.org/2000/svg\" height=\"24px\"viewBox=\"0 0 24 24\"\n",
              "       width=\"24px\">\n",
              "    <path d=\"M0 0h24v24H0V0z\" fill=\"none\"/>\n",
              "    <path d=\"M18.56 5.44l.94 2.06.94-2.06 2.06-.94-2.06-.94-.94-2.06-.94 2.06-2.06.94zm-11 1L8.5 8.5l.94-2.06 2.06-.94-2.06-.94L8.5 2.5l-.94 2.06-2.06.94zm10 10l.94 2.06.94-2.06 2.06-.94-2.06-.94-.94-2.06-.94 2.06-2.06.94z\"/><path d=\"M17.41 7.96l-1.37-1.37c-.4-.4-.92-.59-1.43-.59-.52 0-1.04.2-1.43.59L10.3 9.45l-7.72 7.72c-.78.78-.78 2.05 0 2.83L4 21.41c.39.39.9.59 1.41.59.51 0 1.02-.2 1.41-.59l7.78-7.78 2.81-2.81c.8-.78.8-2.07 0-2.86zM5.41 20L4 18.59l7.72-7.72 1.47 1.35L5.41 20z\"/>\n",
              "  </svg>\n",
              "      </button>\n",
              "      \n",
              "  <style>\n",
              "    .colab-df-container {\n",
              "      display:flex;\n",
              "      flex-wrap:wrap;\n",
              "      gap: 12px;\n",
              "    }\n",
              "\n",
              "    .colab-df-convert {\n",
              "      background-color: #E8F0FE;\n",
              "      border: none;\n",
              "      border-radius: 50%;\n",
              "      cursor: pointer;\n",
              "      display: none;\n",
              "      fill: #1967D2;\n",
              "      height: 32px;\n",
              "      padding: 0 0 0 0;\n",
              "      width: 32px;\n",
              "    }\n",
              "\n",
              "    .colab-df-convert:hover {\n",
              "      background-color: #E2EBFA;\n",
              "      box-shadow: 0px 1px 2px rgba(60, 64, 67, 0.3), 0px 1px 3px 1px rgba(60, 64, 67, 0.15);\n",
              "      fill: #174EA6;\n",
              "    }\n",
              "\n",
              "    [theme=dark] .colab-df-convert {\n",
              "      background-color: #3B4455;\n",
              "      fill: #D2E3FC;\n",
              "    }\n",
              "\n",
              "    [theme=dark] .colab-df-convert:hover {\n",
              "      background-color: #434B5C;\n",
              "      box-shadow: 0px 1px 3px 1px rgba(0, 0, 0, 0.15);\n",
              "      filter: drop-shadow(0px 1px 2px rgba(0, 0, 0, 0.3));\n",
              "      fill: #FFFFFF;\n",
              "    }\n",
              "  </style>\n",
              "\n",
              "      <script>\n",
              "        const buttonEl =\n",
              "          document.querySelector('#df-bad2a942-910e-4b97-843b-5a26ea9624d2 button.colab-df-convert');\n",
              "        buttonEl.style.display =\n",
              "          google.colab.kernel.accessAllowed ? 'block' : 'none';\n",
              "\n",
              "        async function convertToInteractive(key) {\n",
              "          const element = document.querySelector('#df-bad2a942-910e-4b97-843b-5a26ea9624d2');\n",
              "          const dataTable =\n",
              "            await google.colab.kernel.invokeFunction('convertToInteractive',\n",
              "                                                     [key], {});\n",
              "          if (!dataTable) return;\n",
              "\n",
              "          const docLinkHtml = 'Like what you see? Visit the ' +\n",
              "            '<a target=\"_blank\" href=https://colab.research.google.com/notebooks/data_table.ipynb>data table notebook</a>'\n",
              "            + ' to learn more about interactive tables.';\n",
              "          element.innerHTML = '';\n",
              "          dataTable['output_type'] = 'display_data';\n",
              "          await google.colab.output.renderOutput(dataTable, element);\n",
              "          const docLink = document.createElement('div');\n",
              "          docLink.innerHTML = docLinkHtml;\n",
              "          element.appendChild(docLink);\n",
              "        }\n",
              "      </script>\n",
              "    </div>\n",
              "  </div>\n",
              "  "
            ]
          },
          "metadata": {},
          "execution_count": 4
        }
      ]
    },
    {
      "cell_type": "code",
      "source": [
        "df.info()"
      ],
      "metadata": {
        "colab": {
          "base_uri": "https://localhost:8080/"
        },
        "id": "ucOSlzfk_-N0",
        "outputId": "c7124485-2814-411c-9ec6-70a6cd8cbad7"
      },
      "execution_count": null,
      "outputs": [
        {
          "output_type": "stream",
          "name": "stdout",
          "text": [
            "<class 'pandas.core.frame.DataFrame'>\n",
            "RangeIndex: 20235 entries, 0 to 20234\n",
            "Data columns (total 35 columns):\n",
            " #   Column                  Non-Null Count  Dtype  \n",
            "---  ------                  --------------  -----  \n",
            " 0   id                      20235 non-null  int64  \n",
            " 1   Цена                    20235 non-null  int64  \n",
            " 2   Адрес                   20231 non-null  object \n",
            " 3   Ближайшее_метро         18219 non-null  object \n",
            " 4   Дата_публикации         20235 non-null  object \n",
            " 5   Количество_комнат       20222 non-null  object \n",
            " 6   Общая_площадь           20222 non-null  object \n",
            " 7   Жилая_площадь           17389 non-null  object \n",
            " 8   Этаж                    20222 non-null  object \n",
            " 9   Балкон_или_лоджия       13758 non-null  object \n",
            " 10  Тип_комнат              9767 non-null   object \n",
            " 11  Высота_потолков         10107 non-null  object \n",
            " 12  Санузел                 15669 non-null  object \n",
            " 13  Окна                    13277 non-null  object \n",
            " 14  Ремонт                  12817 non-null  object \n",
            " 15  Мебель                  4709 non-null   object \n",
            " 16  Тёплый_пол              1269 non-null   object \n",
            " 17  Отделка                 6911 non-null   object \n",
            " 18  Техника                 3385 non-null   object \n",
            " 19  Способ_продажи          14787 non-null  object \n",
            " 20  Вид_сделки              9081 non-null   object \n",
            " 21  Тип_дома                20222 non-null  object \n",
            " 22  Год_постройки           9517 non-null   float64\n",
            " 23  Этажей_в_доме           20222 non-null  float64\n",
            " 24  Пассажирский_лифт       10298 non-null  object \n",
            " 25  Парковка                9414 non-null   object \n",
            " 26  В_доме                  4645 non-null   object \n",
            " 27  Двор                    9021 non-null   object \n",
            " 28  Грузовой_лифт           8230 non-null   object \n",
            " 29  Название_новостройки    6705 non-null   object \n",
            " 30  Корпус_строение         5505 non-null   object \n",
            " 31  Официальный_застройщик  6631 non-null   object \n",
            " 32  Тип_участия             6631 non-null   object \n",
            " 33  Срок_сдачи              6631 non-null   object \n",
            " 34  Ссылка                  20235 non-null  object \n",
            "dtypes: float64(2), int64(2), object(31)\n",
            "memory usage: 5.4+ MB\n"
          ]
        }
      ]
    },
    {
      "cell_type": "code",
      "source": [
        "df.duplicated().sum()"
      ],
      "metadata": {
        "colab": {
          "base_uri": "https://localhost:8080/"
        },
        "id": "XAX1dn9wAvZT",
        "outputId": "735133dc-57b8-4e69-c1d1-03d242ae153d"
      },
      "execution_count": null,
      "outputs": [
        {
          "output_type": "execute_result",
          "data": {
            "text/plain": [
              "0"
            ]
          },
          "metadata": {},
          "execution_count": 6
        }
      ]
    },
    {
      "cell_type": "markdown",
      "source": [
        "id и ссылку - убрать  \n",
        "Адрес - перевести в координаты  \n",
        "Метро разбить на несколько столбцов / Название / Время / Название / Время\n",
        "В дате обрезать время  \n",
        "Количество комнат - категориальный признак  \n",
        "Площадь и высота - отбросить размерность  \n",
        "Этаж - разбить на 2 столбца  \n",
        "Проверить неявные дубликаты во всех текстовых столбцах\n",
        "Пропуски - замена на no_info\n"
      ],
      "metadata": {
        "id": "y9ch7JhcBPwR"
      }
    },
    {
      "cell_type": "markdown",
      "source": [
        "# Repair"
      ],
      "metadata": {
        "id": "JbBTa2pEZrxw"
      }
    },
    {
      "cell_type": "code",
      "source": [
        "df = df.fillna('no_info')"
      ],
      "metadata": {
        "id": "h7SsI_lyA7w3"
      },
      "execution_count": null,
      "outputs": []
    },
    {
      "cell_type": "code",
      "source": [
        "df.columns"
      ],
      "metadata": {
        "colab": {
          "base_uri": "https://localhost:8080/"
        },
        "id": "iDpVIpAkZ7_I",
        "outputId": "acf9fa3f-9d79-494b-90d3-1c76403f914c"
      },
      "execution_count": null,
      "outputs": [
        {
          "output_type": "execute_result",
          "data": {
            "text/plain": [
              "Index(['id', 'Цена', 'Адрес', 'Ближайшее_метро', 'Дата_публикации',\n",
              "       'Количество_комнат', 'Общая_площадь', 'Жилая_площадь', 'Этаж',\n",
              "       'Балкон_или_лоджия', 'Тип_комнат', 'Высота_потолков', 'Санузел', 'Окна',\n",
              "       'Ремонт', 'Мебель', 'Тёплый_пол', 'Отделка', 'Техника',\n",
              "       'Способ_продажи', 'Вид_сделки', 'Тип_дома', 'Год_постройки',\n",
              "       'Этажей_в_доме', 'Пассажирский_лифт', 'Парковка', 'В_доме', 'Двор',\n",
              "       'Грузовой_лифт', 'Название_новостройки', 'Корпус_строение',\n",
              "       'Официальный_застройщик', 'Тип_участия', 'Срок_сдачи', 'Ссылка'],\n",
              "      dtype='object')"
            ]
          },
          "metadata": {},
          "execution_count": 8
        }
      ]
    },
    {
      "cell_type": "code",
      "source": [
        "df['Балкон_или_лоджия'].unique()"
      ],
      "metadata": {
        "colab": {
          "base_uri": "https://localhost:8080/"
        },
        "id": "YT_KSdjeaEif",
        "outputId": "63abdfa3-cbe8-425e-b2b3-02454624f210"
      },
      "execution_count": null,
      "outputs": [
        {
          "output_type": "execute_result",
          "data": {
            "text/plain": [
              "array(['балкон', 'no_info', 'лоджия', 'балкон, лоджия'], dtype=object)"
            ]
          },
          "metadata": {},
          "execution_count": 9
        }
      ]
    },
    {
      "cell_type": "markdown",
      "source": [
        "балкон, лоджия - лишний признак. Надо будет ставить 1 в соответствующие столбцы"
      ],
      "metadata": {
        "id": "IuLYqEVMaYW0"
      }
    },
    {
      "cell_type": "code",
      "source": [
        "df['В_доме'].unique()"
      ],
      "metadata": {
        "colab": {
          "base_uri": "https://localhost:8080/"
        },
        "id": "020HxoN5aIxX",
        "outputId": "188895f1-ea28-4e03-abb9-399ade32ade3"
      },
      "execution_count": null,
      "outputs": [
        {
          "output_type": "execute_result",
          "data": {
            "text/plain": [
              "array(['no_info', 'мусоропровод', 'консьерж', 'мусоропровод, газ', 'газ',\n",
              "       'консьерж, мусоропровод', 'консьерж, газ',\n",
              "       'консьерж, мусоропровод, газ'], dtype=object)"
            ]
          },
          "metadata": {},
          "execution_count": 10
        }
      ]
    },
    {
      "cell_type": "markdown",
      "source": [
        "Здесь тоже лишние признаки"
      ],
      "metadata": {
        "id": "9BuetUUabJQk"
      }
    },
    {
      "cell_type": "code",
      "source": [
        "df['Вид_сделки'].unique()"
      ],
      "metadata": {
        "colab": {
          "base_uri": "https://localhost:8080/"
        },
        "id": "t6Q4wXocasRB",
        "outputId": "a297cc38-7c0f-49f4-e099-1a5abb0d74b3"
      },
      "execution_count": null,
      "outputs": [
        {
          "output_type": "execute_result",
          "data": {
            "text/plain": [
              "array(['no_info', 'возможна ипотека', 'возможна ипотека, аукцион',\n",
              "       'аукцион', 'продажа доли', 'возможна ипотека, продажа доли',\n",
              "       'возможна ипотека, продажа доли, аукцион'], dtype=object)"
            ]
          },
          "metadata": {},
          "execution_count": 11
        }
      ]
    },
    {
      "cell_type": "code",
      "source": [
        "df['Грузовой_лифт'].unique()"
      ],
      "metadata": {
        "colab": {
          "base_uri": "https://localhost:8080/"
        },
        "id": "5juL2oi2bWXF",
        "outputId": "80a957c2-71a0-4956-c463-9715ebf1411e"
      },
      "execution_count": null,
      "outputs": [
        {
          "output_type": "execute_result",
          "data": {
            "text/plain": [
              "array(['no_info', 'нет', '1', '2', '4', '3'], dtype=object)"
            ]
          },
          "metadata": {},
          "execution_count": 12
        }
      ]
    },
    {
      "cell_type": "code",
      "source": [
        "df['Двор'].unique()"
      ],
      "metadata": {
        "colab": {
          "base_uri": "https://localhost:8080/"
        },
        "id": "K19ZP_7Wbhj6",
        "outputId": "dee2e66b-b994-495c-d795-8f13f586ba92"
      },
      "execution_count": null,
      "outputs": [
        {
          "output_type": "execute_result",
          "data": {
            "text/plain": [
              "array(['детская площадка', 'закрытая территория', 'no_info',\n",
              "       'закрытая территория, детская площадка',\n",
              "       'детская площадка, спортивная площадка',\n",
              "       'закрытая территория, детская площадка, спортивная площадка',\n",
              "       'спортивная площадка', 'закрытая территория, спортивная площадка'],\n",
              "      dtype=object)"
            ]
          },
          "metadata": {},
          "execution_count": 13
        }
      ]
    },
    {
      "cell_type": "code",
      "source": [
        "df['Количество_комнат'].unique()"
      ],
      "metadata": {
        "colab": {
          "base_uri": "https://localhost:8080/"
        },
        "id": "Sf_URbKEbmRB",
        "outputId": "fc3dea76-0544-47e3-b4fd-e555f60d60bb"
      },
      "execution_count": null,
      "outputs": [
        {
          "output_type": "execute_result",
          "data": {
            "text/plain": [
              "array(['3', '2', '1', 'студия', '4', '5', '7', '6', 'no_info',\n",
              "       'свободная планировка', '10 и больше', '8', '9'], dtype=object)"
            ]
          },
          "metadata": {},
          "execution_count": 14
        }
      ]
    },
    {
      "cell_type": "code",
      "source": [
        "df['Название_новостройки'].unique()\n",
        "df['Корпус_строение'].unique()"
      ],
      "metadata": {
        "colab": {
          "base_uri": "https://localhost:8080/"
        },
        "id": "hzlN9Ncbbx-Q",
        "outputId": "19279eb9-e750-49a8-ea06-a2a360a44cb6"
      },
      "execution_count": null,
      "outputs": [
        {
          "output_type": "execute_result",
          "data": {
            "text/plain": [
              "array(['no_info', 'Корпус 2 (Квартал 75А)', 'Корпус 1 (1 очередь)',\n",
              "       'Корпус 27', 'Корпус 1', 'Корпус 2 (1 очередь)',\n",
              "       '3 этап, корпус 3', 'Корпус 2 (уч. 1689, 2 этап)',\n",
              "       'Корпус 3 (уч. 1689, 2 этап)',\n",
              "       'Корпус 229.1-229.2 (Дом 21-22, 19 квартал)', 'Корпус 6',\n",
              "       'Корпус 3.2.2', 'Корпус 3.1.2', 'Корпус Мистраль', 'Дом 24',\n",
              "       'Дом 2', 'Дом 21', 'Корпус 6 (д. 9, литер В)',\n",
              "       'Дом 1 (секции 1.1-1.10) (участок 1)', 'Корпус 3',\n",
              "       'Корпус 327.1 (эт. 4-5, уч. 15, кв-л 26)', 'Дом 22',\n",
              "       'Дом 5 (Корпус 13.2.2)', 'Корпус 1 (уч. 1689, 1 этап)',\n",
              "       '3 этап, корпус 4', 'Корпус 11.4 (Дом 6)',\n",
              "       'Корпус 5 (уч. 1687, 1 этап)', 'Корпус 13.1.1 (Дом 1)',\n",
              "       'Дом 17 (Корпус 19.3)', 'Корпус 14.2',\n",
              "       'Корпус 253.1 (эт. 28-30, уч. 132)', 'Корпус 14.4', 'Корпус 2',\n",
              "       '1 очередь', 'Корпус 7.1.1', 'Корпус 2.3.1', 'Корпус 2.1.1',\n",
              "       'Дом 8 (Корпус 13.2.5)', 'Блок Б3',\n",
              "       'Корпус 326.2 (эт. 1-3, уч. 15, кв-л 26)', 'Корпус 1.4 (Дом 17)',\n",
              "       'Дом 7 (Корпус 13.2.4)', 'Корпус 4', '2 этап',\n",
              "       'Корпус 1.2 (дом 15)', 'Дом 15 (Корпус 19.1)',\n",
              "       'Корпус 332.2 (д. 11, 26 квартал)', 'Дом 6 (Корпус 13.2.3 )',\n",
              "       'Корпус 4-5', 'Корпус 10-12', 'Корпус 8-9', 'Корпус 1-3', '1 этап',\n",
              "       'Корпус 13.1.3 (Дом 3)', 'Корпус 13.1.2 (Дом 2)',\n",
              "       'Корпус 331.1 (Дом 5, 26 квартал)',\n",
              "       '7 этап (Корпус 5, секц. 27-33)', 'Этап 3, корп. Д', 'Корпус 6-7',\n",
              "       'Дом 4 (Корпус 13.2.1)', 'Корпус 14.3',\n",
              "       'Дом 2 корп. 1 (секции 2.1-2.4) (участок 2)', '2 очередь',\n",
              "       'Дом 7.3 (3 этап)', 'Корпус 2, блок А', 'Корпус 1.3 (Дом 16)',\n",
              "       'Корпус 332.1 (Дом 10, 26 квартал)', 'Корпус 3.2',\n",
              "       'Участок 5 (2 этап), корп. 5.2', '2 этап (корп. 5 секц. 5.1-5.3)',\n",
              "       'Корпус 236.3 (Дом 14, 19 квартал)', 'Корпус 17.2',\n",
              "       'Корпус 337.1 (Дом 6, 26 квартал)',\n",
              "       'Корпус 236.1 (Дом 12, 19 квартал)',\n",
              "       'Комплекс апартаментов «Start»', 'Корпус 1 (этап 1, секции 1-5)',\n",
              "       'Корпус 1.2, 1 очередь', 'Корпус 1.1, 1 очередь', 'Дом 1',\n",
              "       'Корпус 9', 'Корпус 8', 'Дом 12 (Корпус 12.2.5)',\n",
              "       'Дом 16 (Корпус 19.2)', 'Дом 2 (1 этап)', 'Дом 3 (1 этап)',\n",
              "       'Корпус 238.1 (Дом 11, 19 квартал)', 'Дом 1 (1 этап)',\n",
              "       'Корпус 256.1 (Дом 10, 19 квартал)',\n",
              "       'Корпус 256.2 (Дом 9, 19 квартал)', 'Корпус 6 (уч. 1687, 2 этап)',\n",
              "       'Корпус 8 (уч. 1687, 2 этап)', 'Корпус 3 (этап 3, секция 10-14)',\n",
              "       'Корпус 1.4, 1 очередь', 'Корпус 7 (уч. 1687, 2 этап)',\n",
              "       'Корпус 1.3, 1 очередь', '2 очередь. Корпус 5 (2 этап)',\n",
              "       '2 очередь. Корпус 4 (3 этап)', '2 очередь. Корпус 3 (3 этап)',\n",
              "       'Корпус 7', 'Корпус 12.3 (Дом 3)', 'Корпус 3 (1 очередь)',\n",
              "       'Корпус 12', 'Корпус 338.2 (Дом 8, 26 квартал)',\n",
              "       'Корпус 256.3 (Дом 8, 19 квартал)',\n",
              "       'Корпус 236.2 (Дом 13, 19 квартал)', 'Корпус 12.1.1 (Дом 1)',\n",
              "       'Дом 18 (Корпус 23.1)', 'Корпус 2 (этап 2, секция 6-9)',\n",
              "       'ЖК «The One»', 'Корпус 10.2', 'Корпус 34 (1 оч.)', 'Корпус 42',\n",
              "       'Участок 73', 'Корпус 3 (уч. 92)', 'Участок 74',\n",
              "       'Корпус Поэзия (Корпус 1)', 'Строение 2', 'Корп. 1, этап 1',\n",
              "       'Корпус 234.1 (Дом 15, 19 квартал)', 'Дом 19 (Корпус 23.2)',\n",
              "       '1 очередь, 3 этап (Корпус 3.3)',\n",
              "       'Корпус 230.1 (Дом 22А, 19 квартал)',\n",
              "       'Корпус 338.1 (Дом 7, 26 квартал)', 'Корпус 19', '2 корпус',\n",
              "       'Корпус 1 (1 этап, Секц. 1/1)', 'Лот 16', 'Лот 12', 'Лот 11',\n",
              "       '2 этап (корп. 1В)', '1 Этап (кв-л Греция)', 'Корпус 2 (этап 1)',\n",
              "       'Корпус 1 (этап 1)', 'Корпус Б', 'Дом 3', 'Корпус 41 (5 оч.)',\n",
              "       'Корпус 31 (4 оч.)', '1 очередь, 4 этап (Корпус 3.4)',\n",
              "       'Корпус 334.1 (Дом 9, 26 квартал)', 'Корпус 149.1', 'Корпус 7.3',\n",
              "       '1 корпус', 'Корпус 5', '3 этап', 'Корпус 2 (2 очередь)',\n",
              "       'Корпус 4 (2 очередь)', 'Корпус 5 (2 очередь)',\n",
              "       'Корпус 7 (2 очередь)', 'Корпус 1 (2 очередь)',\n",
              "       'Корпус 3 (2 очередь)', 'Корпус 6 (2 очередь)', 'Корпус 14',\n",
              "       'Корпус 13', 'Корпус 9.1, стр. 3 (уч. 3)',\n",
              "       'Корпус 226.2 (Дом 20, 19 квартал)', 'Дом 20 (Корпус 23.3)',\n",
              "       'Корпус 12.1.2 (Дом 2)', 'Корпус 2.1, 2 очередь',\n",
              "       'Корпус 2.2, 2 очередь', 'Корпус 2 (2 участок)',\n",
              "       'Корпус 2 (1 участок)', 'Корпус 18 (уч. 3343)', 'Корпус Г2',\n",
              "       'Корпус 6.1', 'Корпус 6.4', 'Корпус 5.2', 'Корпус 12.3',\n",
              "       'Корпус 3 (1.1 этап, Секц. 1/3-1/8)', 'Корпус Г3',\n",
              "       '3 этап, корпус 2', '3 этап, корпус 5', 'Корпус 11.1',\n",
              "       'Корпус 10.1', 'ЖК «Колумб»', 'Корпус 3 (этап 2)',\n",
              "       'Корпус 1 (2 участок)', '1 очередь, Корпус 2',\n",
              "       'Дом 28 (Блок А, 1 этап)', 'Дом 53', 'Дом 52', 'Дом 31', 'Дом 29',\n",
              "       'Корпус Наука (Корпус 3)', 'Корпус 1 (Литер А)',\n",
              "       '1 очередь, 1 этап (Корпус 3.1)', 'Дом 10 (Корпус 12.2.3)',\n",
              "       '1 очередь, 2 этап (Корпус 3.2)',\n",
              "       'Дом 4 (секции 5.1-5.11) (участок 15)', 'Корпус 1 (1 этап)',\n",
              "       'Корпус 2.3, 2 очередь', 'Корпус 2.5, 2 очередь',\n",
              "       'Корпус 2.7, 2 очередь', 'Корпус 13.2', 'Корпус 2 (Уч. 3)',\n",
              "       '2 очередь (Корпус 2)', 'Корпус 1 (1 участок)',\n",
              "       'Корпус 9.2 (уч. 73)', '5 очередь, Корпус 3',\n",
              "       'Корпус 9.3, стр. 1 (уч. 4)', 'Дом 4', 'Этап 2',\n",
              "       'Дом 7.1 (1 этап)', 'Корпус 9.1, стр. 2 (уч. 3)', 'Этап 1',\n",
              "       'Корпус А', 'Дом 6.1 (1 этап)', 'Южный корпус', 'Корпус В',\n",
              "       'Дом 6', 'Участок 23 (корп. 4.13)', 'Северный корпус',\n",
              "       'Участок 25 (корп. 4.15)', 'Дом 5', 'Дом 6.3 (3 этап)',\n",
              "       'Корпус 4 (3 оч.)', 'Корпус 5.2 (уч. 64)', 'Лот 14', 'Корпус 47',\n",
              "       'Корпус 40 (5 оч.)', 'Корпус 149.5', 'Корпус 12.1.4 (Дом 4)',\n",
              "       'Корпус 366.1 (эт. 4-6, 31 квартал)',\n",
              "       'Корпус 228.3 (Дом 16, 19 квартал)', 'Корпус 12.1.3 (Дом 3)',\n",
              "       'Дом 23 (Корпус 20.5)', 'Корпус 366.2 (эт. 4-6, 31 квартал)',\n",
              "       'Корпус 1 (секции 1-2)', 'Корпус 8.2', 'Корпус 20 (уч. 3356)',\n",
              "       'Корпус 37 (4 этап, квартал 21)', 'Корпус 17 (3 этап)',\n",
              "       'Корпус 2 (1 этап)', '2 очередь. Корпус 6 (2 этап)',\n",
              "       'Корпус 24 (3 этап)', 'Корпус 3Б (2 очередь)', 'Корпус 6 (3 этап)',\n",
              "       'Корпус 4 (2 этап)', 'Корпус 17.1', 'Участок 76.3', 'Участок 76.4',\n",
              "       'Корпус 16.2 (уч. 3345)', 'Дом 55', 'Корпус 32 (4 оч.)',\n",
              "       'Корпус 10.3', 'Корпус 228.1 (Дом 18, 19 квартал)',\n",
              "       '1 этап (корп. 1А)', '3 этап (Корпус 3, секц. 10-19)',\n",
              "       'Корпус 11.2 (уч. 60)', 'Корпус 9.1', 'Корпус 33.1',\n",
              "       'Участок 92. Этап 1 (Корпус 3)', 'Участок 92. Этап 1 (Корпус 7)',\n",
              "       'Лот 15', 'Дом 3 корп. 2 (секции 2.5-2.12) (участок 2)',\n",
              "       'Корпус 12.2', 'Корпус 16.1 (уч. 3345)', 'Участок 76.2',\n",
              "       'Корпус 1.1 (Дом 14)', '2 этап (корп. 4 секц. 4.1)',\n",
              "       'Корпус 3 (6 этап)', 'Корпус 11.2', 'Корпус 1В',\n",
              "       'Корпус 12.1.5 (Дом 5)', 'Корпус 1.5 (Дом 18)', 'Корпус 149.4',\n",
              "       'Дом 22 (Корпус 20.2)', 'ЖК «Дом на Львовской»',\n",
              "       'Корпус 4, Литер В', 'Корпус 4 (7 этап)', 'Корпус 2.2 (5 этап)',\n",
              "       'Корпус 1.1 (4 этап)',\n",
              "       '6 этап (Magnifika Lifestyle, Магнифика Лайфстайл)',\n",
              "       'Корпус 1 (Уч. 3)', '1 этап, корпус 2', 'Корпус 3.1.3 (уч. 62)',\n",
              "       'Дом 56 (корпус 1)', 'Корпус 2.1 (3 этап)', 'Корпус 9.1 (уч. 73)',\n",
              "       'Корпус 8.2 (уч. 70)', 'Квартал 8', 'WOOD корпус',\n",
              "       '4 этап (секция 1-7)', 'Корпус 2 (3 оч.)', 'Позиция 9 (2 очередь)',\n",
              "       'Корпус 14 (уч. 3352)', 'Корпус 49', 'Корпус 45', 'Корпус 32',\n",
              "       'Корпус 4 (этап 3)', '6 очередь, Этап 1, Корпус 10', '4 этап',\n",
              "       'Строение 1', 'Корпус 2, стр. 2 (Уч. 5)', 'Дом 56 (корпус 2)',\n",
              "       'Корпус 5.1 (уч. 64)', 'Корпус 2 (Литер Б)', 'Корпус 14.1',\n",
              "       'Корпус 228.2 (Дом 17, 19 квартал)',\n",
              "       'Корпус 226.1 (Дом 19, 19 квартал)', 'Дом 9 (Корпус 12.2.2)',\n",
              "       'Корпус 2 (секции 5-6)', '1 этап (корп. 1Б)',\n",
              "       '3 очередь (Корпус 1.3)', 'Корпус 4.2 (уч. 63)',\n",
              "       '3 очередь (Корпус 1.1)', 'Корпус 4.1 (уч. 63)',\n",
              "       'Корпус 7.1 (уч. 69)', 'Дом 1.3.2/1',\n",
              "       'Участок 92. Этап 2 (Корпус 1)', '1 этап, 1 корпус',\n",
              "       'Участок 72 (1 этап, корпус 7)',\n",
              "       '7 этап (Magnifika Residence, Магнифика Резиденс)',\n",
              "       'Корпус 1, стр. 1 (Уч. 4)', 'Корпус 34', 'Корпус 36',\n",
              "       'Участок 76.1', 'Этап 3. Корпус 6 (П6.1-П6.3)', 'Дом 23',\n",
              "       'Корпус 3 (Литер Д)', 'Корпус 1.2', 'Дом 21 (Корпус 20.1)',\n",
              "       'Дом 8 (Корпус 12.2.1)', '1 этап, корпус 0', '2 этап (корп. 1Г)',\n",
              "       'Корпус 11.1 (уч. 60)', 'Корпус 7.2 (уч. 69)', 'Корпус 40.4',\n",
              "       'Корпус 6 (Квартал 78А)', 'Корпус', 'AIR корпус',\n",
              "       '6 очередь, Этап 1, Корпус 11', 'Корпус 12.1', 'Дом 5.3',\n",
              "       'Корпус 32 (4 этап, квартал 21)', 'Секция 4.2.1',\n",
              "       'Корпус 1 (секции 3-4)', 'Участок 5 (2 этап), корп. 5.3',\n",
              "       'Корпус 9.3, стр. 3 (уч. 4)', 'Корпус 10 (4 очередь)',\n",
              "       'Дом 11 (Корпус 12.2.4)', 'Корпус 4а',\n",
              "       'Участок 93. Этап 2 (Корпус 1)', 'Корпус 12 (3 этап, Секция 3/32)',\n",
              "       'Корпус 2.1', 'Дом 24 (Корпус 20.4)', 'Дом 25 (Корпус 20.3)',\n",
              "       'Корпус 2.1 (2 очередь, секция 1-4)',\n",
              "       'Корпус 2.2 (2 очередь, секция 5-8)', 'Корпус 19 (уч. 3350)',\n",
              "       'Корпус 6.2', 'Корпус 10.2 (уч. 74)', 'Дом А (Корпус 1)',\n",
              "       'Корпус 23 (3 этап)', 'Корпус 20 (3 этап)', 'Корпус 15 (уч. 3348)',\n",
              "       'Корпус 2, стр. 1 (Уч. 5)', 'Корпус 207.1 (эт. 15-17, уч. 8)',\n",
              "       'Корпус 2 (строение 1)', 'Корпус 6.2 (уч. 68)', 'Секция 4.1.1',\n",
              "       'Корпус 5 (2 этап)', 'Дом 11', 'Дом 12', 'Дом 7', 'Дом 9', 'Дом 8',\n",
              "       '2 этап (корп. 3, секц. 3.1-3.4)', 'Участок 92. Этап 2 (Корпус 2)',\n",
              "       'Корпус 38 (4 этап, квартал 21)', 'Корпус 12.2 (уч. 3358)',\n",
              "       'Корпус 2 (секция 8)', 'Корпус 17.5',\n",
              "       'Корпус 362.1 (эт. 1, 31 квартал)', 'Этап 3, корп. Е', 'Квартал 7',\n",
              "       'Корпус 10 (2 этап, квартал 21)', '3 очередь (Корпус 1.2)',\n",
              "       'Корпус 5.3', 'ЖК «Питер»', 'Корпус 42.1', 'Корпус 17.3',\n",
              "       'Корпус 7.4 (уч. 69)', 'Корпус 17.1 (уч. 3344)', 'Корпус 17.4',\n",
              "       'Корпус 10 (3 этап, Секция 3/30)', 'Корпус 7.2',\n",
              "       '2 этап (корп. 2)', 'Корпус 2.3 (уч. 56)',\n",
              "       'Корпус 1, стр. 2 (Уч. 4)', 'Этап 2, корп. Г', 'Корпус 9.2',\n",
              "       'Этап 2, корп. В', 'Корпус 10.2.2 (уч. 3362)', 'Корпус 15',\n",
              "       'Корпус 12.1 (уч. 3358)', 'Участок 93. Этап 2 (Корпус 2)',\n",
              "       'Корпус 5.1', '3 корпус', 'Корпус 4.5 (уч. 63)',\n",
              "       '1 этап, 9 корпус', 'Корпус 35', 'Корпус 17.2 (уч. 3344)',\n",
              "       '6 очередь, Этап 2, Корпус 3', 'Корпус 2, стр. 5 (Уч. 5)',\n",
              "       'Корпус 6.5', 'Корпус 343.1 (Дом 3, 29 квартал)',\n",
              "       'Корпус 343.2 (Дом 2, 29 квартал)', 'Корпус 13.2 (уч. 3357)',\n",
              "       '1 очередь (Корпус 3)', 'Корпус 9.3', 'Корпус 1.2 (уч. 57)',\n",
              "       'Участок 92. Этап 1 (Корпус 8)', 'Дом 5.2', 'Корпус Г4',\n",
              "       'Корпус 352.1-352.2 (эт. 10-12, 29 квартал)', 'Дом 1.4.1',\n",
              "       'Этап 2. Корпус 5 (П5.1-П5.3)',\n",
              "       'Дом 6, корп. 1 (секции 16.1-16.3) (участок 16)',\n",
              "       'Корпус 1 (секции A, B)', 'Корпус 3 (секции E, F)',\n",
              "       'Корпус 41 (4 этап, квартал 21)', 'Секция 4.2.2',\n",
              "       'Квартал 6 (корпус 1)', 'Корпус 37 (2 оч.)',\n",
              "       'Корпус 1, стр. 3 (Уч. 4)', 'Корпус 1, стр. 4 (Уч. 4)', 'Лот 13',\n",
              "       'Корпус 13.1', 'Корпус 53', 'Корпус 8.3', 'Корпус 6 (4 очередь)',\n",
              "       'ЖК «Галактика. Премиум»', 'Корпус 8.4', 'Корпус 8.1 (уч. 70)',\n",
              "       'Корпус 39', 'Корпус 38', '3 этап (секция 8-13)',\n",
              "       'Корпус 206.2 (уч. 8)', 'Корпус 198.2 (уч. 8)',\n",
              "       'Корпус 195.1 (эт. 6-7, уч. 8)', 'Корпус 12.4 (Дом 4)',\n",
              "       'Корпус 249.1 (эт. 25-27, уч. 132)', 'Корпус 8.3 (Дом 11)',\n",
              "       'Корпус 329.1 (эт. 6-8, уч. 15)', 'Корпус 329.2 (эт. 6-8, уч. 15)',\n",
              "       'Корпус 203.1 (уч. 8)', 'Корпус 203.2 (уч. 8)',\n",
              "       'Корпус 207.2 (эт. 15-17, уч. 8)',\n",
              "       'Корпус 245.2 (эт. 22-24, уч. 132)', 'Корпус 8.2 (Дом 10)',\n",
              "       'Корпус 244.2 (эт. 19-21, уч. 132)', 'Корпус 206.1 (уч. 8)',\n",
              "       'Корпус 198.1 (уч. 8)', 'Корпус 11.2 (Дом 8)', 'Блок 1',\n",
              "       'Корпус 11 (3 этап, Секция 3/31)', 'Корпус 1 (Секция 1)',\n",
              "       'Корпус 1 (Секции 3.1-3.2)', 'Корпус 1 (Секция 11)',\n",
              "       'Корпус 1 (Секция 10)', 'Корпус 1 (Секция 6)',\n",
              "       'Корпус 1 (Секция 5)', 'Корпус 1 (Секция 7)',\n",
              "       'Корпус 1 (Секции 4.1-4.2)', 'Корпус 1 (Секция 9)',\n",
              "       'Корпус 1 (Секция 8)', 'Корпус 1 (Секция 2)',\n",
              "       '1 этап (2ПК, 3 очередь)', 'Корпус 4 (1.1 этап, Секц 1/9-1/14)',\n",
              "       '2 Этап (кв-л Греция)', 'Корпус 3 (2 этап)', 'Корпус 10',\n",
              "       '5 этап (Корпус 4, секц. 20-26)',\n",
              "       'Корпус 244.1 (эт. 19-21, уч. 132)', 'Корпус 7.3 (уч. 69)',\n",
              "       'Корпус 9 (3 оч.)', 'Корпус 42 (5 оч.)',\n",
              "       '6 очередь, Этап 1, Корпус 7', 'Корпус 9.3, стр. 4 (уч. 4)',\n",
              "       'Корпус 2.1 (1 этап)', '4 очередь, Корпус 2',\n",
              "       'Корпус 9.3, стр. 2 (уч. 4)', 'Корпус 9.1, стр. 1 (уч. 3)',\n",
              "       'Корпус 42 (4 этап, квартал 21)', '3 этап (6 очередь)',\n",
              "       'Корпус 12.2 (Дом 2)', 'Корпус 194.1 (уч. 8)',\n",
              "       'Корпус 203.3 (уч. 8)', 'Корпус 12.1 (Дом 1)',\n",
              "       'Корпус 11.1 (Дом 9)', 'Корпус 245.1 (эт. 22-24, уч. 132)',\n",
              "       'Корпус 6.1 (уч. 68)', 'Корпус 8.1', 'Корпус 10.1 (уч. 74)',\n",
              "       'Корпус 10.3 (уч. 74)', 'Корпус 2.2', 'Гостиница 2',\n",
              "       'Корпус 2, стр. 3 (Уч. 5)', 'Корпус 13.1 (уч. 3357)',\n",
              "       'Корпус 3.3, этап 9', 'Корпус 9.1 (уч. 3322)',\n",
              "       'Корпус 1, стр. 5 (Уч. 4)'], dtype=object)"
            ]
          },
          "metadata": {},
          "execution_count": 15
        }
      ]
    },
    {
      "cell_type": "markdown",
      "source": [
        "Дублируют адрес"
      ],
      "metadata": {
        "id": "p3Evo3T3b-Cf"
      }
    },
    {
      "cell_type": "code",
      "source": [
        "df['Мебель'].unique()"
      ],
      "metadata": {
        "colab": {
          "base_uri": "https://localhost:8080/"
        },
        "id": "rPPKJME4b3-j",
        "outputId": "95ccac09-5c36-467c-a0db-326942fd24b5"
      },
      "execution_count": null,
      "outputs": [
        {
          "output_type": "execute_result",
          "data": {
            "text/plain": [
              "array(['no_info', 'кухня', 'кухня, хранение одежды, спальные места',\n",
              "       'кухня, спальные места', 'хранение одежды',\n",
              "       'кухня, хранение одежды', 'спальные места',\n",
              "       'хранение одежды, спальные места'], dtype=object)"
            ]
          },
          "metadata": {},
          "execution_count": 16
        }
      ]
    },
    {
      "cell_type": "code",
      "source": [
        "df['Окна'].unique()"
      ],
      "metadata": {
        "colab": {
          "base_uri": "https://localhost:8080/"
        },
        "id": "wL8RIxy1cDU-",
        "outputId": "34342664-7ee0-45f9-daea-fd6ae2c11e38"
      },
      "execution_count": null,
      "outputs": [
        {
          "output_type": "execute_result",
          "data": {
            "text/plain": [
              "array(['во двор, на улицу, на солнечную сторону',\n",
              "       'во двор, на солнечную сторону', 'на улицу', 'no_info',\n",
              "       'во двор, на улицу', 'во двор', 'на улицу, на солнечную сторону',\n",
              "       'на солнечную сторону'], dtype=object)"
            ]
          },
          "metadata": {},
          "execution_count": 17
        }
      ]
    },
    {
      "cell_type": "code",
      "source": [
        "df['Отделка'].unique()"
      ],
      "metadata": {
        "colab": {
          "base_uri": "https://localhost:8080/"
        },
        "id": "SUyNEeJbcT2r",
        "outputId": "03b254c4-4d61-4aa5-8856-c015a02c0637"
      },
      "execution_count": null,
      "outputs": [
        {
          "output_type": "execute_result",
          "data": {
            "text/plain": [
              "array(['no_info', 'чистовая', 'предчистовая', 'без отделки'], dtype=object)"
            ]
          },
          "metadata": {},
          "execution_count": 18
        }
      ]
    },
    {
      "cell_type": "code",
      "source": [
        "df['Официальный_застройщик'].unique()"
      ],
      "metadata": {
        "colab": {
          "base_uri": "https://localhost:8080/"
        },
        "id": "EloMkyvTdDBM",
        "outputId": "ebf6ef12-9bed-4cf4-8543-23c7aba5f412"
      },
      "execution_count": null,
      "outputs": [
        {
          "output_type": "execute_result",
          "data": {
            "text/plain": [
              "array(['no_info', 'АО «Эталон ЛенСпецСМУ»',\n",
              "       'ООО «Морская Строительная Компания»', 'ООО «БП Истейт-Ланское»',\n",
              "       'ООО «Невский луч»', 'ООО «ЦДС-Волковский»', 'ООО «НеваСтрой»',\n",
              "       'ООО «СК «Дальпитерстрой»', 'ООО «Приневский 1»', 'ООО «ГАЛС»',\n",
              "       'ООО «Городская Перспектива»',\n",
              "       'ООО «РСТИ НА ГЛУХАРСКОЙ (СПЕЦИАЛИЗИРОВАННЫЙ ЗАСТРОЙЩИК)»',\n",
              "       'ООО «ЛСР. Недвижимость-СЗ»', 'ООО «Сэтл Инвест»',\n",
              "       'ООО «Специализированный Застройщик «ЛСТ Проджект»',\n",
              "       'ООО СПЕЦИАЛИЗИРОВАННЫЙ ЗАСТРОЙЩИК «ЛСТ ЭКСПЕРТ»',\n",
              "       'ООО «СК «Спектр»',\n",
              "       'ООО «Специализированный застройщик «БизнесСити»',\n",
              "       'ООО «Полис Групп»', 'ООО «НОВЫЙ ВЕК»', 'ООО «Смольный Квартал»',\n",
              "       'ООО «ИнтерГрупп»', 'ООО «ЖК «Георг Ландрин»',\n",
              "       'ООО «Специализированный застройщик «Ламбри»',\n",
              "       'ООО «Специализированный Застройщик «Гринхаус»',\n",
              "       'ООО «Норд-Вест Инвестмент»', 'ООО «Городские Кварталы»',\n",
              "       'ООО «Еврострой - М»', 'ООО «КВС-ВЫБОРГСКИЙ»',\n",
              "       'ООО «Приневский 2»', 'ООО «Стайл-Строй»', 'ООО «Маяк»',\n",
              "       'ООО «Структура»', 'ООО «Специализированный Застройщик «Эмпора»',\n",
              "       'ООО «СК «Каменка»', 'ООО «СПб Реновация»', 'ООО «Компания СОЛ»',\n",
              "       'ООО «Специализированный Застройщик «Европейская Перспектива»',\n",
              "       'ООО «Правобережный»',\n",
              "       'ООО «Специализированный Застройщик «Сэтл-Лиговский»',\n",
              "       'ООО «БИЗАНТ»', 'ООО «СЗ «Эй Би Групп»', 'АО «Арсенал-1»',\n",
              "       'ООО «Дудергофский проект»', 'ООО «СЗ «КВС-Любоград»',\n",
              "       'АО «Специализированный Застройщик «Легенда Малоохтинского»',\n",
              "       'ЗАО «Северный город»',\n",
              "       'ООО «СПЕЦИАЛИЗИРОВАННЫЙ ЗАСТРОЙЩИК «ЕВРОИНВЕСТ МОСКОВСКИЙ»',\n",
              "       'ООО «СК «Монолит»',\n",
              "       'ООО «Специализированный Застройщик «Отделстрой»',\n",
              "       'ООО СЗ «Аквилон Девелопмент Северо-Запад»', 'ООО «Приневский 3»',\n",
              "       'ООО «Альянс Сити Строй»', 'ООО «Эдванс»', 'ООО «Весна»',\n",
              "       'ООО «Мегалит-Охта Групп»', 'ООО «СЗ «СПБ РЕНОВАЦИЯ - СЛАВЯНКА»',\n",
              "       'ООО «Специализированный Застройщик «Кантемировская»', 'ООО «П1»',\n",
              "       'ООО «Уральская»', 'ООО «СЗ «Терминал-Ресурс»',\n",
              "       'ООО «Структура-3»', 'ООО «СПЕЦИАЛИЗИРОВАННЫЙ ЗАСТРОЙЩИК «ЛСР»',\n",
              "       'ООО «Приневский 4»', 'ООО «Курдонер»', 'ООО «ЛП»', 'ООО «Эперон»',\n",
              "       'ООО «СТРОЙТРЕСТГАЛАНТ-2»',\n",
              "       'ООО «Специализированный застройщик «ИК «Строительный трест»',\n",
              "       'ООО «Специализированный застройщик «СТ-Новоселье»',\n",
              "       'ООО «Стрелка»', 'ООО «РСТИ (СПЕЦИАЛИЗИРОВАННЫЙ ЗАСТРОЙЩИК)»',\n",
              "       'ООО «СЗ «НОРД девелопмент»', 'ООО «Р-ФИКС»', 'ООО «Статус ЭР»',\n",
              "       'ООО «СЗ «КВС-МОСКОВСКИЙ»', 'ООО «Арсенал-Каменка»',\n",
              "       'ООО «Специализированный застройщик «БалтКом»',\n",
              "       'ООО «СПЕЦИАЛИЗИРОВАННЫЙ ЗАСТРОЙЩИК «УНИВЕРСАЛ ИНВЕСТ КАМЕНКА»',\n",
              "       'ООО «БалтИнвестГрупп»',\n",
              "       'ООО «Специализированный Застройщик «М.СИТИ»',\n",
              "       'ООО «Специализированный Застройщик «Эталон Галактика»',\n",
              "       'ООО «ПетроЦентр»',\n",
              "       'ООО «Специализированный Застройщик «Правобережный 1»',\n",
              "       'ООО «Сэтл Сити»', 'ООО «Холдинг «СЕНАТОР»',\n",
              "       'ООО «Специализированный Застройщик «Сенатор»',\n",
              "       'ООО «Специализированный Застройщик «Созидание»', 'ООО «ИТТ»',\n",
              "       'ООО «Ринова»', 'ООО Специализированный Застройщик «Молодежное»',\n",
              "       'ООО «Новый элемент»', 'ООО «Фаворит»',\n",
              "       'ООО «Специализированный застройщик «СЭТЛ ИНВЕСТ»',\n",
              "       'ООО «РСТИ-ФАМИЛИЯ»', 'ООО «ПЕТРОСТРОЙ»', 'ООО «ЭмСи Истейт»',\n",
              "       'ООО «Специализированный Застройщик «Коломяжский»',\n",
              "       'ООО «ЛЕГЕНДА ИНСТИТУТСКОГО»', 'ООО «ЮНИТ»',\n",
              "       'ООО Специализированный Застройщик «Лиговский канал»',\n",
              "       'ООО «РСТИ-Терра»', 'ООО «Рубеж»',\n",
              "       'ООО «Специализированный застройщик «Ханса Аура Зеленогорская»',\n",
              "       'ООО «СЗ «ШЕЛЬФ»',\n",
              "       'ООО «Специализированный Застройщик «Сэтл Сити»',\n",
              "       'ООО «СПЕЦИАЛИЗИРОВАННЫЙ ЗАСТРОЙЩИК «НОРД СИТИ»',\n",
              "       'ООО «АРТ «СОЗИДАНИЕ»', 'ООО «Остров Сити»',\n",
              "       'ООО «Специализированный застройщик «Крокус»',\n",
              "       'ООО «Главстрой-СПб Специализированный Застройщик»',\n",
              "       'ООО «Специализированный застройщик «Эталон»',\n",
              "       'ООО «Специализированный застройщик «Эталон Девелопмент»',\n",
              "       'НАО «ИСГ «Норманн»', 'АО Специализированный застройщик «АртИК»',\n",
              "       'ООО «СПЕЦИАЛИЗИРОВАННЫЙ ЗАСТРОЙЩИК «ЕВРОИНВЕСТ БЛАГОДАТНАЯ»',\n",
              "       'ООО «СЗ «ЖК «Георг Ландрин»',\n",
              "       'ООО «Специализированный Застройщик «СПБ Реновация-Красный Кирпичник»',\n",
              "       'ООО «СПЕЦИАЛИЗИРОВАННЫЙ ЗАСТРОЙЩИК «РАЗВИТИЕ»',\n",
              "       'ООО «СЗ «СТРУКТУРА-2»',\n",
              "       'ООО «Специализированный Застройщик «Сакристия»',\n",
              "       'ЗАО «Балтийская жемчужина»', 'ООО «Риверсайд-Инвест»',\n",
              "       'АО «ПрофСервис»',\n",
              "       'ООО «РСТИ-НОВА (СПЕЦИАЛИЗИРОВАННЫЙ ЗАСТРОЙЩИК)»',\n",
              "       'ООО «Специализированный Застройщик «Легенда Черной Речки»',\n",
              "       'ООО Специализированный Застройщик «Аврора»',\n",
              "       'ООО «СПЕЦИАЛИЗИРОВАННЫЙ ЗАСТРОЙЩИК «СТРОЙ-ЭКСПЕРТ»',\n",
              "       'ООО «Вымпел»',\n",
              "       'ООО «Специализированный Застройщик «Новые Кварталы»',\n",
              "       'ООО «БЕСТ»', 'ООО «Специализированный застройщик «Пушкинский-92»',\n",
              "       'ООО «УК Финанс»', 'ЖСК «Тихий Город»', 'ООО «Тележная 32»',\n",
              "       'ООО СЗ «СТРОЙПРОЕКТ»', 'ООО «СЗ «Альмандин»',\n",
              "       'ООО «Орджоникидзе, 44»', 'ООО «Мегалит»',\n",
              "       'ООО «СПЕЦИАЛИЗИРОВАННЫЙ ЗАСТРОЙЩИК БОНАВА»',\n",
              "       'ООО «Специализированный застройщик «СЭТЛ Октябрьская»',\n",
              "       'ООО «СЗ «НТВО»', 'ООО «СЗ «КАРПОВКА, 31»', '«СЗ «ЗЕЛЁНЫЙ БЕРЕГ»',\n",
              "       'ООО «ТИН Групп»', 'ООО «УК «Балтик С»', 'ООО СЗ «Страна.78»',\n",
              "       'ООО «СЕВЕН САНС ДЕВЕЛОПМЕНТ»', 'ЗАО «Трест-102»', 'ООО «БТК»',\n",
              "       'ООО «Северная Двина»', 'ООО «Легенда Московского»', 'ООО «Лекс»',\n",
              "       'ООО «СЗ «Белевское»»',\n",
              "       'ООО «Специализированный застройщик «Приморский-34»',\n",
              "       'ООО «СПЕЦИАЛИЗИРОВАННЫЙ ЗАСТРОЙЩИК «БРЕММЕР-ХАУС»',\n",
              "       'ООО «СЗ «Прилукская»',\n",
              "       'ООО «Специализированный застройщик «Эталон Новоорловский»',\n",
              "       'ООО «Союз-строй Инвест»',\n",
              "       'ООО «Специализированный Застройщик «Озерный Край»',\n",
              "       'АО «ЮИТ Санкт-Петербург»', 'ООО «НПО «Пигмент»',\n",
              "       'ООО «Охтинский Разлив»', 'ООО «СЗ ЭТАЛОН В ШУШАРАХ»',\n",
              "       'ООО СЗ «Космос Девелопмент»', 'ООО «Еврострой-УСП»',\n",
              "       'ООО «Интер Альянс»', 'ООО «БС-66»',\n",
              "       'АО «Специализированный Застройщик «Строительный трест»',\n",
              "       'ООО СЗ «ЕВРОИНВЕСТ СВЕТЛАНОВСКИЙ»',\n",
              "       'ООО «СЗ «СПБ РЕНОВАЦИЯ - КОЛПИНО»', 'ООО «СЗ «ЛИГОВСКИЙ СИТИ»',\n",
              "       'ООО «Новый Квартал»', 'ООО «Проспект КИМа, 19»',\n",
              "       'ООО СПЕЦЗАСТРОЙЩИК «ЮИТ ВЕЛЛАМО»',\n",
              "       'ООО «СПЕЦИАЛИЗИРОВАННЫЙ ЗАСТРОЙЩИК «ПУШКИНСКИЙ»',\n",
              "       'ООО «СПЕЦИАЛИЗИРОВАННЫЙ ЗАСТРОЙЩИК «ЕВРОПЕЙСКАЯ ПЕРСПЕКТИВА 1»',\n",
              "       'ООО «ВИНТЕКО»', 'ООО «КВС-Парнас»', 'ООО «СК «Прагма»',\n",
              "       'ООО «СПЕЦИАЛИЗИРОВАННЫЙ ЗАСТРОЙЩИК НАСЛЕДИЕ»',\n",
              "       'ООО «Специализированный застройщик «Аттик»',\n",
              "       'ООО «Специализированный Застройщик «Капстрой-Питер»',\n",
              "       'ООО «Специализированный Застройщик «НОВЫЕ ТЕРРИТОРИИ»',\n",
              "       'ООО СЗ «СТРАНА БЕРИНГА»', 'КТ «ООО «Каскад и Ко»',\n",
              "       'ООО СЗ «Интергрупп СПб»',\n",
              "       'ООО «Специализированный застройщик «Сэтл Проект»',\n",
              "       'ООО «СПЕЦИАЛИЗИРОВАННЫЙ ЗА СТРОЙЩИК «СЭТЛ СТАНДАРТ»',\n",
              "       'ООО «Приморский, 46»', 'ООО «СЗ «ФСК «СЕВЕРО-ЗАПАД-8»',\n",
              "       'ООО «СТ+»', 'ООО Концерн «Питер»', 'ООО «ФинансНедвижимость»',\n",
              "       'ООО СЗ «ПОРТАЛ»', 'ООО «ЯКОРЬ»', 'ООО «СК Стоун»',\n",
              "       'ООО «СЗ «Москворецкий дом»',\n",
              "       'ООО «СПЕЦИАЛИЗИРОВАННЫЙ ЗАСТРОЙЩИК «НОВЫЙ ЭЛЕМЕНТ»',\n",
              "       'ООО «СПЕЦИАЛИЗИРОВАННЫЙ ЗАСТРОЙЩИК «ОСТРОВ СИТИ»',\n",
              "       'ООО «СЗ «ЭР-БИ-АЙ - МОСКОВСКИЙ»', 'ООО «СЗ «Черная Речка»',\n",
              "       'ООО Специализированный застройщик «Унистройрегион-2»',\n",
              "       'ООО «СПЕЦИАЛИЗИРОВАННЫЙ ЗАСТРОЙЩИК «КВАДРИЯ»',\n",
              "       'ООО «КВС-КРАСНОСЕЛЬСКИЙ»', 'ЖСК «Царский Двор»', 'ЗАО «РСТИ»',\n",
              "       'ООО «Специализированный застройщик «ЛСР. ЛО»',\n",
              "       'ООО «СЗ «ЛСР.Проект»', 'ООО СЗ «ДОМ НА 11-ОЙ»',\n",
              "       'ООО «Специализированный застройщик «Эталон Илона»', 'ООО «СПК»',\n",
              "       'ООО «Специализированный застройщик МКД»', 'ООО «ЛЕДА»',\n",
              "       'ООО «Специализированный застройщик «Жил-Строй НОВОСЕЛЬЕ»',\n",
              "       'ООО «Специализированный застройщик «Магнитогорская 11»',\n",
              "       'ООО «Альбатрос»', 'ООО «ИнвестКапитал»', 'ООО «СК «ИМПУЛЬС»',\n",
              "       'ООО «СПб Инвест»', 'ООО «КАПИТАЛ ИСТЕЙТ»', 'ООО «Бастион»',\n",
              "       'ООО «СПЕЦИАЛИЗИРОВАННЫЙ ЗАСТРОЙЩИК «ЛЕГЕНДА БОЛЬШОГО ПРОСПЕКТА В.О.»',\n",
              "       'ООО «СЗ «АНТАРЕС»', 'ООО «Веда-Хаус»', 'ООО \"СТРОЙ-МАСТЕР\"',\n",
              "       'ООО «Петра-8»', 'АО «СКВ СПб»',\n",
              "       'ООО «Специализированный застройщик «Смарт»',\n",
              "       'ООО «СЗ ИНВЕСТПРОЕКТ»',\n",
              "       'ООО «Специализированный Застройщик «СК «Доминант»',\n",
              "       'ООО «СПЕЦИАЛИЗИРОВАННЫЙ ЗАСТРОЙЩИК «ОБВОДНЫЙ 118»',\n",
              "       'ООО «Специализированный Застройщик «Малоохтинский 8»',\n",
              "       'ООО «Ареал»'], dtype=object)"
            ]
          },
          "metadata": {},
          "execution_count": 19
        }
      ]
    },
    {
      "cell_type": "markdown",
      "source": [
        "Может быть полезным, но очень много категорий... CatBoost справится?"
      ],
      "metadata": {
        "id": "MfpOrw_WdMfY"
      }
    },
    {
      "cell_type": "code",
      "source": [
        "df['Парковка'].unique()"
      ],
      "metadata": {
        "colab": {
          "base_uri": "https://localhost:8080/"
        },
        "id": "QVlIqIvmdHlD",
        "outputId": "9b722062-4641-4fe6-d359-785e4c81a5d3"
      },
      "execution_count": null,
      "outputs": [
        {
          "output_type": "execute_result",
          "data": {
            "text/plain": [
              "array(['no_info', 'открытая во дворе',\n",
              "       'подземная, за шлагбаумом во дворе', 'подземная',\n",
              "       'за шлагбаумом во дворе',\n",
              "       'подземная, открытая во дворе, за шлагбаумом во дворе',\n",
              "       'открытая во дворе, за шлагбаумом во дворе',\n",
              "       'подземная, наземная многоуровневая',\n",
              "       'подземная, наземная многоуровневая, открытая во дворе',\n",
              "       'наземная многоуровневая, открытая во дворе',\n",
              "       'подземная, открытая во дворе',\n",
              "       'наземная многоуровневая, за шлагбаумом во дворе',\n",
              "       'наземная многоуровневая',\n",
              "       'подземная, наземная многоуровневая, открытая во дворе, за шлагбаумом во дворе',\n",
              "       'подземная, наземная многоуровневая, за шлагбаумом во дворе',\n",
              "       'наземная многоуровневая, открытая во дворе, за шлагбаумом во дворе'],\n",
              "      dtype=object)"
            ]
          },
          "metadata": {},
          "execution_count": 20
        }
      ]
    },
    {
      "cell_type": "code",
      "source": [
        "df['Пассажирский_лифт'].unique()"
      ],
      "metadata": {
        "colab": {
          "base_uri": "https://localhost:8080/"
        },
        "id": "xyQPXYwLdXii",
        "outputId": "12610bb5-5c40-4063-a012-9fb0271683cb"
      },
      "execution_count": null,
      "outputs": [
        {
          "output_type": "execute_result",
          "data": {
            "text/plain": [
              "array(['no_info', '2', '1', '3', 'нет', '4'], dtype=object)"
            ]
          },
          "metadata": {},
          "execution_count": 21
        }
      ]
    },
    {
      "cell_type": "code",
      "source": [
        "df['Ремонт'].unique()"
      ],
      "metadata": {
        "colab": {
          "base_uri": "https://localhost:8080/"
        },
        "id": "psu6gTGWdilJ",
        "outputId": "78cd9640-ec98-47bf-f1d1-e41cd5512047"
      },
      "execution_count": null,
      "outputs": [
        {
          "output_type": "execute_result",
          "data": {
            "text/plain": [
              "array(['косметический', 'дизайнерский', 'требует ремонта', 'no_info',\n",
              "       'евро'], dtype=object)"
            ]
          },
          "metadata": {},
          "execution_count": 22
        }
      ]
    },
    {
      "cell_type": "code",
      "source": [
        "df['Санузел'].unique()"
      ],
      "metadata": {
        "colab": {
          "base_uri": "https://localhost:8080/"
        },
        "id": "n2E7_bAMdm-N",
        "outputId": "546aef67-24a4-4034-bbf8-6d9a1acea8a7"
      },
      "execution_count": null,
      "outputs": [
        {
          "output_type": "execute_result",
          "data": {
            "text/plain": [
              "array(['раздельный', 'совмещенный', 'no_info', 'совмещенный, раздельный'],\n",
              "      dtype=object)"
            ]
          },
          "metadata": {},
          "execution_count": 23
        }
      ]
    },
    {
      "cell_type": "code",
      "source": [
        "df['Способ_продажи'].unique()"
      ],
      "metadata": {
        "colab": {
          "base_uri": "https://localhost:8080/"
        },
        "id": "ff5Zuenudqh3",
        "outputId": "4263421d-e598-41e2-9b3c-d20c2e85b677"
      },
      "execution_count": null,
      "outputs": [
        {
          "output_type": "execute_result",
          "data": {
            "text/plain": [
              "array(['свободная', 'альтернативная', 'no_info', 'переуступка',\n",
              "       'договор ЖСК', 'договор долевого участия'], dtype=object)"
            ]
          },
          "metadata": {},
          "execution_count": 24
        }
      ]
    },
    {
      "cell_type": "code",
      "source": [
        "df['Срок_сдачи'].unique()"
      ],
      "metadata": {
        "colab": {
          "base_uri": "https://localhost:8080/"
        },
        "id": "hGs5dtsxdwfa",
        "outputId": "41d50f1f-6541-44f2-8698-1cda15e5f299"
      },
      "execution_count": null,
      "outputs": [
        {
          "output_type": "execute_result",
          "data": {
            "text/plain": [
              "array(['no_info', 'сдан', '4 кв. 2022 года', '1 кв. 2023 года',\n",
              "       '3 кв. 2023 года', '4 кв. 2023 года', '4 кв. 2025 года',\n",
              "       '3 кв. 2022 года, сдача не подтверждена', '2 кв. 2023 года',\n",
              "       '4 кв. 2024 года', '3 кв. 2024 года', '2 кв. 2024 года',\n",
              "       '2 кв. 2025 года', '1 кв. 2025 года',\n",
              "       '2 кв. 2022 года, сдача не подтверждена',\n",
              "       '3 кв. 2019 года, сдача не подтверждена', '1 кв. 2024 года',\n",
              "       '3 кв. 2025 года', '2 кв. 2026 года', '3 кв. 2026 года',\n",
              "       '4 кв. 2026 года'], dtype=object)"
            ]
          },
          "metadata": {},
          "execution_count": 25
        }
      ]
    },
    {
      "cell_type": "markdown",
      "source": [
        "Не понятно, что это"
      ],
      "metadata": {
        "id": "bZSl1iawf8Ia"
      }
    },
    {
      "cell_type": "code",
      "source": [
        "df['Техника'].unique()"
      ],
      "metadata": {
        "colab": {
          "base_uri": "https://localhost:8080/"
        },
        "id": "OSR-g3H0d3OE",
        "outputId": "4cb54a01-6fef-47a8-bd0f-8c1ea084921c"
      },
      "execution_count": null,
      "outputs": [
        {
          "output_type": "execute_result",
          "data": {
            "text/plain": [
              "array(['no_info', 'холодильник, стиральная машина',\n",
              "       'кондиционер, холодильник, стиральная машина',\n",
              "       'холодильник, стиральная машина, посудомоечная машина, водонагреватель',\n",
              "       'холодильник, стиральная машина, посудомоечная машина',\n",
              "       'холодильник, стиральная машина, водонагреватель', 'холодильник',\n",
              "       'посудомоечная машина', 'посудомоечная машина, водонагреватель',\n",
              "       'кондиционер, холодильник, стиральная машина, посудомоечная машина, водонагреватель',\n",
              "       'стиральная машина',\n",
              "       'кондиционер, холодильник, посудомоечная машина, водонагреватель',\n",
              "       'холодильник, водонагреватель', 'водонагреватель',\n",
              "       'холодильник, посудомоечная машина', 'кондиционер',\n",
              "       'стиральная машина, посудомоечная машина',\n",
              "       'кондиционер, холодильник, стиральная машина, посудомоечная машина',\n",
              "       'стиральная машина, посудомоечная машина, водонагреватель',\n",
              "       'кондиционер, водонагреватель',\n",
              "       'кондиционер, холодильник, стиральная машина, водонагреватель',\n",
              "       'кондиционер, холодильник, посудомоечная машина',\n",
              "       'холодильник, посудомоечная машина, водонагреватель',\n",
              "       'стиральная машина, водонагреватель',\n",
              "       'кондиционер, посудомоечная машина',\n",
              "       'холодильник, плита, микроволновка, стиральная машина, посудомоечная машина, телевизор, фен, утюг',\n",
              "       'кондиционер, холодильник, водонагреватель',\n",
              "       'кондиционер, посудомоечная машина, водонагреватель',\n",
              "       'кондиционер, стиральная машина, водонагреватель',\n",
              "       'кондиционер, холодильник',\n",
              "       'холодильник, микроволновка, стиральная машина, посудомоечная машина, телевизор',\n",
              "       'кондиционер, стиральная машина',\n",
              "       'кондиционер, стиральная машина, посудомоечная машина, водонагреватель',\n",
              "       'кондиционер, холодильник, микроволновка, стиральная машина, посудомоечная машина, телевизор',\n",
              "       'кондиционер, холодильник, микроволновка, стиральная машина, телевизор',\n",
              "       'холодильник, стиральная машина, посудомоечная машина, телевизор',\n",
              "       'холодильник, микроволновка, стиральная машина, посудомоечная машина',\n",
              "       'кондиционер, стиральная машина, посудомоечная машина',\n",
              "       'кондиционер, холодильник, плита, микроволновка, стиральная машина, телевизор, фен, утюг'],\n",
              "      dtype=object)"
            ]
          },
          "metadata": {},
          "execution_count": 26
        }
      ]
    },
    {
      "cell_type": "markdown",
      "source": [
        "Много категорий"
      ],
      "metadata": {
        "id": "IBiFXcRNg5PS"
      }
    },
    {
      "cell_type": "code",
      "source": [
        "df['Тип_дома'].unique()"
      ],
      "metadata": {
        "colab": {
          "base_uri": "https://localhost:8080/"
        },
        "id": "Cx7jUO3hhqhl",
        "outputId": "7073c198-7233-4bc4-d2a1-cc689ae6f183"
      },
      "execution_count": null,
      "outputs": [
        {
          "output_type": "execute_result",
          "data": {
            "text/plain": [
              "array(['кирпичный', 'панельный', 'монолитный', 'монолитно-кирпичный',\n",
              "       'блочный', 'no_info', 'деревянный'], dtype=object)"
            ]
          },
          "metadata": {},
          "execution_count": 27
        }
      ]
    },
    {
      "cell_type": "code",
      "source": [
        "df['Тип_комнат'].unique()"
      ],
      "metadata": {
        "colab": {
          "base_uri": "https://localhost:8080/"
        },
        "id": "sEt2IvoxhuZV",
        "outputId": "ee4fbdb6-44c0-475a-f7eb-df5021e0ff14"
      },
      "execution_count": null,
      "outputs": [
        {
          "output_type": "execute_result",
          "data": {
            "text/plain": [
              "array(['изолированные', 'no_info', 'изолированные, смежные', 'смежные'],\n",
              "      dtype=object)"
            ]
          },
          "metadata": {},
          "execution_count": 28
        }
      ]
    },
    {
      "cell_type": "code",
      "source": [
        "df['Тип_участия'].unique()"
      ],
      "metadata": {
        "colab": {
          "base_uri": "https://localhost:8080/"
        },
        "id": "aUf-AKCdhyPX",
        "outputId": "bfb33857-ebb6-48e2-a1ff-4cc527942dbd"
      },
      "execution_count": null,
      "outputs": [
        {
          "output_type": "execute_result",
          "data": {
            "text/plain": [
              "array(['no_info', 'другое', 'ДДУ по ФЗ 214', 'ЖСК'], dtype=object)"
            ]
          },
          "metadata": {},
          "execution_count": 29
        }
      ]
    },
    {
      "cell_type": "code",
      "source": [
        "df['Тёплый_пол'].unique()"
      ],
      "metadata": {
        "colab": {
          "base_uri": "https://localhost:8080/"
        },
        "id": "d1LaX172h9Kd",
        "outputId": "1444680c-11d6-4df6-c9d4-b9dc14c377d8"
      },
      "execution_count": null,
      "outputs": [
        {
          "output_type": "execute_result",
          "data": {
            "text/plain": [
              "array(['no_info', 'есть'], dtype=object)"
            ]
          },
          "metadata": {},
          "execution_count": 30
        }
      ]
    },
    {
      "cell_type": "code",
      "source": [
        "df['Цена'].describe()"
      ],
      "metadata": {
        "colab": {
          "base_uri": "https://localhost:8080/"
        },
        "id": "Ld9W_gF1iAZ9",
        "outputId": "3e589ef4-f7a5-4b93-8032-187a2bfa1215"
      },
      "execution_count": null,
      "outputs": [
        {
          "output_type": "execute_result",
          "data": {
            "text/plain": [
              "count    2.023500e+04\n",
              "mean     1.350531e+07\n",
              "std      8.066536e+07\n",
              "min      7.689000e+03\n",
              "25%      6.186144e+06\n",
              "50%      8.580000e+06\n",
              "75%      1.383198e+07\n",
              "max      9.000000e+09\n",
              "Name: Цена, dtype: float64"
            ]
          },
          "metadata": {},
          "execution_count": 31
        }
      ]
    },
    {
      "cell_type": "markdown",
      "source": [
        "Большие значения - выбросы.\n",
        "Маленькие значения - сдача в аренду?"
      ],
      "metadata": {
        "id": "9gU1sGiyjXZw"
      }
    },
    {
      "cell_type": "code",
      "source": [
        "df['Этажей_в_доме'].unique()"
      ],
      "metadata": {
        "colab": {
          "base_uri": "https://localhost:8080/"
        },
        "id": "iAtveUBTgHcz",
        "outputId": "bacd1a79-8a02-43b0-c1c5-106266b0f113"
      },
      "execution_count": null,
      "outputs": [
        {
          "output_type": "execute_result",
          "data": {
            "text/plain": [
              "array([5.0, 12.0, 17.0, 25.0, 9.0, 20.0, 24.0, 4.0, 19.0, 7.0, 6.0, 8.0,\n",
              "       16.0, 18.0, 14.0, 11.0, 13.0, 22.0, 10.0, 23.0, 26.0, 21.0, 28.0,\n",
              "       15.0, 3.0, 27.0, 29.0, 2.0, 1.0, 35.0, 'no_info', 36.0, 32.0, 33.0,\n",
              "       34.0, 75.0, 40.0], dtype=object)"
            ]
          },
          "metadata": {},
          "execution_count": 32
        }
      ]
    },
    {
      "cell_type": "markdown",
      "source": [
        "Дублирует Этаж\n"
      ],
      "metadata": {
        "id": "go30oQHThTOn"
      }
    },
    {
      "cell_type": "markdown",
      "source": [
        "## "
      ],
      "metadata": {
        "id": "7oKVW1UBLThi"
      }
    },
    {
      "cell_type": "code",
      "source": [],
      "metadata": {
        "id": "e_aeDGeWLTP2"
      },
      "execution_count": null,
      "outputs": []
    },
    {
      "cell_type": "code",
      "source": [],
      "metadata": {
        "id": "ere6W8bXLTCy"
      },
      "execution_count": null,
      "outputs": []
    },
    {
      "cell_type": "code",
      "source": [],
      "metadata": {
        "id": "K2eAJGG1LS0_"
      },
      "execution_count": null,
      "outputs": []
    },
    {
      "cell_type": "code",
      "source": [],
      "metadata": {
        "id": "xz_G6sQwLR8x"
      },
      "execution_count": null,
      "outputs": []
    },
    {
      "cell_type": "markdown",
      "source": [
        "## Обработка дистанции до метро"
      ],
      "metadata": {
        "id": "8zgq6_fUlCNu"
      }
    },
    {
      "cell_type": "code",
      "source": [
        "df['Ближайшее_метро'].unique()"
      ],
      "metadata": {
        "colab": {
          "base_uri": "https://localhost:8080/"
        },
        "id": "Dw1AuXYblw2w",
        "outputId": "ecdcb5f5-407a-4035-882f-0f6682629ae4"
      },
      "execution_count": null,
      "outputs": [
        {
          "output_type": "execute_result",
          "data": {
            "text/plain": [
              "array(['no_info',\n",
              "       'Гостиный двор11–15 мин.Невский проспект11–15 мин.Маяковская11–15 мин.',\n",
              "       'Комендантский проспект6–10 мин.Старая деревняот 31 мин.Пионерскаяот 31 мин.',\n",
              "       ...,\n",
              "       'Ладожская11–15 мин.Проспект Большевиковот 31 мин.Новочеркасскаяот 31 мин.',\n",
              "       'Московская21–30 мин.Парк Победы21–30 мин.Международнаяот 31 мин.',\n",
              "       'Балтийская21–30 мин.Московские ворота21–30 мин.Фрунзенская21–30 мин.'],\n",
              "      dtype=object)"
            ]
          },
          "metadata": {},
          "execution_count": 33
        }
      ]
    },
    {
      "cell_type": "code",
      "source": [
        "metro_stations = df['Ближайшее_метро'].str.split(' мин.',expand=True)\n",
        "metro_stations = metro_stations.fillna('no_info')\n",
        "metro_stations.columns = ['metro_station_1', 'metro_station_2', 'metro_station_3', 'metro_station_4']\n",
        "metro_stations"
      ],
      "metadata": {
        "colab": {
          "base_uri": "https://localhost:8080/",
          "height": 423
        },
        "id": "A6l-Cka5mQxK",
        "outputId": "28b333cb-defe-4ef2-f163-70ae2fd53a6b"
      },
      "execution_count": null,
      "outputs": [
        {
          "output_type": "execute_result",
          "data": {
            "text/plain": [
              "                  metro_station_1         metro_station_2  \\\n",
              "0                         no_info                 no_info   \n",
              "1              Гостиный двор11–15   Невский проспект11–15   \n",
              "2      Комендантский проспект6–10     Старая деревняот 31   \n",
              "3                 Приморскаяот 31   Василеостровскаяот 31   \n",
              "4                    Звёздная6–10            Купчино21–30   \n",
              "...                           ...                     ...   \n",
              "20230   Проспект Просвещенияот 31             Озеркиот 31   \n",
              "20231          р-н Красносельский                 no_info   \n",
              "20232           Пролетарская16–20            Обухово21–30   \n",
              "20233             Балтийская21–30  Московские ворота21–30   \n",
              "20234   Проспект Просвещенияот 31             Парнасот 31   \n",
              "\n",
              "                 metro_station_3 metro_station_4  \n",
              "0                        no_info         no_info  \n",
              "1                Маяковская11–15                  \n",
              "2                Пионерскаяот 31                  \n",
              "3                                        no_info  \n",
              "4                Московская21–30                  \n",
              "...                          ...             ...  \n",
              "20230  Гражданский проспектот 31                  \n",
              "20231                    no_info         no_info  \n",
              "20232         Ломоносовскаяот 31                  \n",
              "20233           Фрунзенская21–30                  \n",
              "20234                Озеркиот 31                  \n",
              "\n",
              "[20235 rows x 4 columns]"
            ],
            "text/html": [
              "\n",
              "  <div id=\"df-9339ecf0-d401-4720-aa66-e70f676b0139\">\n",
              "    <div class=\"colab-df-container\">\n",
              "      <div>\n",
              "<style scoped>\n",
              "    .dataframe tbody tr th:only-of-type {\n",
              "        vertical-align: middle;\n",
              "    }\n",
              "\n",
              "    .dataframe tbody tr th {\n",
              "        vertical-align: top;\n",
              "    }\n",
              "\n",
              "    .dataframe thead th {\n",
              "        text-align: right;\n",
              "    }\n",
              "</style>\n",
              "<table border=\"1\" class=\"dataframe\">\n",
              "  <thead>\n",
              "    <tr style=\"text-align: right;\">\n",
              "      <th></th>\n",
              "      <th>metro_station_1</th>\n",
              "      <th>metro_station_2</th>\n",
              "      <th>metro_station_3</th>\n",
              "      <th>metro_station_4</th>\n",
              "    </tr>\n",
              "  </thead>\n",
              "  <tbody>\n",
              "    <tr>\n",
              "      <th>0</th>\n",
              "      <td>no_info</td>\n",
              "      <td>no_info</td>\n",
              "      <td>no_info</td>\n",
              "      <td>no_info</td>\n",
              "    </tr>\n",
              "    <tr>\n",
              "      <th>1</th>\n",
              "      <td>Гостиный двор11–15</td>\n",
              "      <td>Невский проспект11–15</td>\n",
              "      <td>Маяковская11–15</td>\n",
              "      <td></td>\n",
              "    </tr>\n",
              "    <tr>\n",
              "      <th>2</th>\n",
              "      <td>Комендантский проспект6–10</td>\n",
              "      <td>Старая деревняот 31</td>\n",
              "      <td>Пионерскаяот 31</td>\n",
              "      <td></td>\n",
              "    </tr>\n",
              "    <tr>\n",
              "      <th>3</th>\n",
              "      <td>Приморскаяот 31</td>\n",
              "      <td>Василеостровскаяот 31</td>\n",
              "      <td></td>\n",
              "      <td>no_info</td>\n",
              "    </tr>\n",
              "    <tr>\n",
              "      <th>4</th>\n",
              "      <td>Звёздная6–10</td>\n",
              "      <td>Купчино21–30</td>\n",
              "      <td>Московская21–30</td>\n",
              "      <td></td>\n",
              "    </tr>\n",
              "    <tr>\n",
              "      <th>...</th>\n",
              "      <td>...</td>\n",
              "      <td>...</td>\n",
              "      <td>...</td>\n",
              "      <td>...</td>\n",
              "    </tr>\n",
              "    <tr>\n",
              "      <th>20230</th>\n",
              "      <td>Проспект Просвещенияот 31</td>\n",
              "      <td>Озеркиот 31</td>\n",
              "      <td>Гражданский проспектот 31</td>\n",
              "      <td></td>\n",
              "    </tr>\n",
              "    <tr>\n",
              "      <th>20231</th>\n",
              "      <td>р-н Красносельский</td>\n",
              "      <td>no_info</td>\n",
              "      <td>no_info</td>\n",
              "      <td>no_info</td>\n",
              "    </tr>\n",
              "    <tr>\n",
              "      <th>20232</th>\n",
              "      <td>Пролетарская16–20</td>\n",
              "      <td>Обухово21–30</td>\n",
              "      <td>Ломоносовскаяот 31</td>\n",
              "      <td></td>\n",
              "    </tr>\n",
              "    <tr>\n",
              "      <th>20233</th>\n",
              "      <td>Балтийская21–30</td>\n",
              "      <td>Московские ворота21–30</td>\n",
              "      <td>Фрунзенская21–30</td>\n",
              "      <td></td>\n",
              "    </tr>\n",
              "    <tr>\n",
              "      <th>20234</th>\n",
              "      <td>Проспект Просвещенияот 31</td>\n",
              "      <td>Парнасот 31</td>\n",
              "      <td>Озеркиот 31</td>\n",
              "      <td></td>\n",
              "    </tr>\n",
              "  </tbody>\n",
              "</table>\n",
              "<p>20235 rows × 4 columns</p>\n",
              "</div>\n",
              "      <button class=\"colab-df-convert\" onclick=\"convertToInteractive('df-9339ecf0-d401-4720-aa66-e70f676b0139')\"\n",
              "              title=\"Convert this dataframe to an interactive table.\"\n",
              "              style=\"display:none;\">\n",
              "        \n",
              "  <svg xmlns=\"http://www.w3.org/2000/svg\" height=\"24px\"viewBox=\"0 0 24 24\"\n",
              "       width=\"24px\">\n",
              "    <path d=\"M0 0h24v24H0V0z\" fill=\"none\"/>\n",
              "    <path d=\"M18.56 5.44l.94 2.06.94-2.06 2.06-.94-2.06-.94-.94-2.06-.94 2.06-2.06.94zm-11 1L8.5 8.5l.94-2.06 2.06-.94-2.06-.94L8.5 2.5l-.94 2.06-2.06.94zm10 10l.94 2.06.94-2.06 2.06-.94-2.06-.94-.94-2.06-.94 2.06-2.06.94z\"/><path d=\"M17.41 7.96l-1.37-1.37c-.4-.4-.92-.59-1.43-.59-.52 0-1.04.2-1.43.59L10.3 9.45l-7.72 7.72c-.78.78-.78 2.05 0 2.83L4 21.41c.39.39.9.59 1.41.59.51 0 1.02-.2 1.41-.59l7.78-7.78 2.81-2.81c.8-.78.8-2.07 0-2.86zM5.41 20L4 18.59l7.72-7.72 1.47 1.35L5.41 20z\"/>\n",
              "  </svg>\n",
              "      </button>\n",
              "      \n",
              "  <style>\n",
              "    .colab-df-container {\n",
              "      display:flex;\n",
              "      flex-wrap:wrap;\n",
              "      gap: 12px;\n",
              "    }\n",
              "\n",
              "    .colab-df-convert {\n",
              "      background-color: #E8F0FE;\n",
              "      border: none;\n",
              "      border-radius: 50%;\n",
              "      cursor: pointer;\n",
              "      display: none;\n",
              "      fill: #1967D2;\n",
              "      height: 32px;\n",
              "      padding: 0 0 0 0;\n",
              "      width: 32px;\n",
              "    }\n",
              "\n",
              "    .colab-df-convert:hover {\n",
              "      background-color: #E2EBFA;\n",
              "      box-shadow: 0px 1px 2px rgba(60, 64, 67, 0.3), 0px 1px 3px 1px rgba(60, 64, 67, 0.15);\n",
              "      fill: #174EA6;\n",
              "    }\n",
              "\n",
              "    [theme=dark] .colab-df-convert {\n",
              "      background-color: #3B4455;\n",
              "      fill: #D2E3FC;\n",
              "    }\n",
              "\n",
              "    [theme=dark] .colab-df-convert:hover {\n",
              "      background-color: #434B5C;\n",
              "      box-shadow: 0px 1px 3px 1px rgba(0, 0, 0, 0.15);\n",
              "      filter: drop-shadow(0px 1px 2px rgba(0, 0, 0, 0.3));\n",
              "      fill: #FFFFFF;\n",
              "    }\n",
              "  </style>\n",
              "\n",
              "      <script>\n",
              "        const buttonEl =\n",
              "          document.querySelector('#df-9339ecf0-d401-4720-aa66-e70f676b0139 button.colab-df-convert');\n",
              "        buttonEl.style.display =\n",
              "          google.colab.kernel.accessAllowed ? 'block' : 'none';\n",
              "\n",
              "        async function convertToInteractive(key) {\n",
              "          const element = document.querySelector('#df-9339ecf0-d401-4720-aa66-e70f676b0139');\n",
              "          const dataTable =\n",
              "            await google.colab.kernel.invokeFunction('convertToInteractive',\n",
              "                                                     [key], {});\n",
              "          if (!dataTable) return;\n",
              "\n",
              "          const docLinkHtml = 'Like what you see? Visit the ' +\n",
              "            '<a target=\"_blank\" href=https://colab.research.google.com/notebooks/data_table.ipynb>data table notebook</a>'\n",
              "            + ' to learn more about interactive tables.';\n",
              "          element.innerHTML = '';\n",
              "          dataTable['output_type'] = 'display_data';\n",
              "          await google.colab.output.renderOutput(dataTable, element);\n",
              "          const docLink = document.createElement('div');\n",
              "          docLink.innerHTML = docLinkHtml;\n",
              "          element.appendChild(docLink);\n",
              "        }\n",
              "      </script>\n",
              "    </div>\n",
              "  </div>\n",
              "  "
            ]
          },
          "metadata": {},
          "execution_count": 34
        }
      ]
    },
    {
      "cell_type": "code",
      "source": [
        "metro_stations['metro_station_4'].unique()"
      ],
      "metadata": {
        "colab": {
          "base_uri": "https://localhost:8080/"
        },
        "id": "fsO_X_3IA4bd",
        "outputId": "a4df00cd-5376-4373-f209-28a322458dee"
      },
      "execution_count": null,
      "outputs": [
        {
          "output_type": "execute_result",
          "data": {
            "text/plain": [
              "array(['no_info', ''], dtype=object)"
            ]
          },
          "metadata": {},
          "execution_count": 35
        }
      ]
    },
    {
      "cell_type": "code",
      "source": [
        "metro_stations = metro_stations.drop('metro_station_4', axis=1)"
      ],
      "metadata": {
        "id": "YIWmaEZ4A4T-"
      },
      "execution_count": null,
      "outputs": []
    },
    {
      "cell_type": "code",
      "source": [
        "def find_pattern(string: str, pattern: str):\n",
        "    if re.search(pattern, string):\n",
        "        return re.search(pattern, string).group(0)\n",
        "\n",
        "def del_pattern(string: str, pattern: str):\n",
        "    if re.search(pattern, string):\n",
        "        return string.replace(pattern, \"\")\n",
        "    else:\n",
        "        return string"
      ],
      "metadata": {
        "id": "AHCzgERlhnJG"
      },
      "execution_count": null,
      "outputs": []
    },
    {
      "cell_type": "code",
      "source": [
        "pattern_station_name = '^\\D*'\n",
        "pattern_duration = '\\d\\d$'\n",
        "pattern_ot = 'от '\n",
        "pattern_do = 'до '"
      ],
      "metadata": {
        "id": "leqJuSLhEZsl"
      },
      "execution_count": null,
      "outputs": []
    },
    {
      "cell_type": "code",
      "source": [
        "metro_stations['metro_station_1_duration'] = metro_stations['metro_station_1'].apply(lambda x: find_pattern(x, pattern_duration))\n",
        "metro_stations['metro_station_2_duration'] = metro_stations['metro_station_2'].apply(lambda x: find_pattern(x, pattern_duration))\n",
        "metro_stations['metro_station_3_duration'] = metro_stations['metro_station_3'].apply(lambda x: find_pattern(x, pattern_duration))\n",
        "\n",
        "metro_stations['metro_station_1'] = metro_stations['metro_station_1'].apply(lambda x: find_pattern(x, pattern_station_name))\n",
        "metro_stations['metro_station_2'] = metro_stations['metro_station_2'].apply(lambda x: find_pattern(x, pattern_station_name))\n",
        "metro_stations['metro_station_3'] = metro_stations['metro_station_3'].apply(lambda x: find_pattern(x, pattern_station_name))\n",
        "\n",
        "metro_stations['metro_station_1'] = metro_stations['metro_station_1'].apply(lambda x: del_pattern(x, pattern_ot))\n",
        "metro_stations['metro_station_2'] = metro_stations['metro_station_2'].apply(lambda x: del_pattern(x, pattern_ot))\n",
        "metro_stations['metro_station_3'] = metro_stations['metro_station_3'].apply(lambda x: del_pattern(x, pattern_ot))\n",
        "\n",
        "metro_stations['metro_station_1'] = metro_stations['metro_station_1'].apply(lambda x: del_pattern(x, pattern_do))\n",
        "metro_stations['metro_station_2'] = metro_stations['metro_station_2'].apply(lambda x: del_pattern(x, pattern_do))\n",
        "metro_stations['metro_station_3'] = metro_stations['metro_station_3'].apply(lambda x: del_pattern(x, pattern_do))\n",
        "\n",
        "metro_stations = metro_stations.fillna('no_info')"
      ],
      "metadata": {
        "id": "Au6l5t2sA4Jf"
      },
      "execution_count": null,
      "outputs": []
    },
    {
      "cell_type": "code",
      "source": [
        "metro_stations"
      ],
      "metadata": {
        "colab": {
          "base_uri": "https://localhost:8080/",
          "height": 423
        },
        "id": "eeZrPHw-oz6W",
        "outputId": "77a0a6ae-dcf3-4af4-a81a-1e840d015298"
      },
      "execution_count": null,
      "outputs": [
        {
          "output_type": "execute_result",
          "data": {
            "text/plain": [
              "              metro_station_1    metro_station_2       metro_station_3  \\\n",
              "0                     no_info            no_info               no_info   \n",
              "1               Гостиный двор   Невский проспект            Маяковская   \n",
              "2      Комендантский проспект     Старая деревня            Пионерская   \n",
              "3                  Приморская   Василеостровская                         \n",
              "4                    Звёздная            Купчино            Московская   \n",
              "...                       ...                ...                   ...   \n",
              "20230    Проспект Просвещения             Озерки  Гражданский проспект   \n",
              "20231      р-н Красносельский            no_info               no_info   \n",
              "20232            Пролетарская            Обухово         Ломоносовская   \n",
              "20233              Балтийская  Московские ворота           Фрунзенская   \n",
              "20234    Проспект Просвещения             Парнас                Озерки   \n",
              "\n",
              "      metro_station_1_duration metro_station_2_duration  \\\n",
              "0                      no_info                  no_info   \n",
              "1                           15                       15   \n",
              "2                           10                       31   \n",
              "3                           31                       31   \n",
              "4                           10                       30   \n",
              "...                        ...                      ...   \n",
              "20230                       31                       31   \n",
              "20231                  no_info                  no_info   \n",
              "20232                       20                       30   \n",
              "20233                       30                       30   \n",
              "20234                       31                       31   \n",
              "\n",
              "      metro_station_3_duration  \n",
              "0                      no_info  \n",
              "1                           15  \n",
              "2                           31  \n",
              "3                      no_info  \n",
              "4                           30  \n",
              "...                        ...  \n",
              "20230                       31  \n",
              "20231                  no_info  \n",
              "20232                       31  \n",
              "20233                       30  \n",
              "20234                       31  \n",
              "\n",
              "[20235 rows x 6 columns]"
            ],
            "text/html": [
              "\n",
              "  <div id=\"df-1d9ef920-1702-422b-9993-619853fb2e36\">\n",
              "    <div class=\"colab-df-container\">\n",
              "      <div>\n",
              "<style scoped>\n",
              "    .dataframe tbody tr th:only-of-type {\n",
              "        vertical-align: middle;\n",
              "    }\n",
              "\n",
              "    .dataframe tbody tr th {\n",
              "        vertical-align: top;\n",
              "    }\n",
              "\n",
              "    .dataframe thead th {\n",
              "        text-align: right;\n",
              "    }\n",
              "</style>\n",
              "<table border=\"1\" class=\"dataframe\">\n",
              "  <thead>\n",
              "    <tr style=\"text-align: right;\">\n",
              "      <th></th>\n",
              "      <th>metro_station_1</th>\n",
              "      <th>metro_station_2</th>\n",
              "      <th>metro_station_3</th>\n",
              "      <th>metro_station_1_duration</th>\n",
              "      <th>metro_station_2_duration</th>\n",
              "      <th>metro_station_3_duration</th>\n",
              "    </tr>\n",
              "  </thead>\n",
              "  <tbody>\n",
              "    <tr>\n",
              "      <th>0</th>\n",
              "      <td>no_info</td>\n",
              "      <td>no_info</td>\n",
              "      <td>no_info</td>\n",
              "      <td>no_info</td>\n",
              "      <td>no_info</td>\n",
              "      <td>no_info</td>\n",
              "    </tr>\n",
              "    <tr>\n",
              "      <th>1</th>\n",
              "      <td>Гостиный двор</td>\n",
              "      <td>Невский проспект</td>\n",
              "      <td>Маяковская</td>\n",
              "      <td>15</td>\n",
              "      <td>15</td>\n",
              "      <td>15</td>\n",
              "    </tr>\n",
              "    <tr>\n",
              "      <th>2</th>\n",
              "      <td>Комендантский проспект</td>\n",
              "      <td>Старая деревня</td>\n",
              "      <td>Пионерская</td>\n",
              "      <td>10</td>\n",
              "      <td>31</td>\n",
              "      <td>31</td>\n",
              "    </tr>\n",
              "    <tr>\n",
              "      <th>3</th>\n",
              "      <td>Приморская</td>\n",
              "      <td>Василеостровская</td>\n",
              "      <td></td>\n",
              "      <td>31</td>\n",
              "      <td>31</td>\n",
              "      <td>no_info</td>\n",
              "    </tr>\n",
              "    <tr>\n",
              "      <th>4</th>\n",
              "      <td>Звёздная</td>\n",
              "      <td>Купчино</td>\n",
              "      <td>Московская</td>\n",
              "      <td>10</td>\n",
              "      <td>30</td>\n",
              "      <td>30</td>\n",
              "    </tr>\n",
              "    <tr>\n",
              "      <th>...</th>\n",
              "      <td>...</td>\n",
              "      <td>...</td>\n",
              "      <td>...</td>\n",
              "      <td>...</td>\n",
              "      <td>...</td>\n",
              "      <td>...</td>\n",
              "    </tr>\n",
              "    <tr>\n",
              "      <th>20230</th>\n",
              "      <td>Проспект Просвещения</td>\n",
              "      <td>Озерки</td>\n",
              "      <td>Гражданский проспект</td>\n",
              "      <td>31</td>\n",
              "      <td>31</td>\n",
              "      <td>31</td>\n",
              "    </tr>\n",
              "    <tr>\n",
              "      <th>20231</th>\n",
              "      <td>р-н Красносельский</td>\n",
              "      <td>no_info</td>\n",
              "      <td>no_info</td>\n",
              "      <td>no_info</td>\n",
              "      <td>no_info</td>\n",
              "      <td>no_info</td>\n",
              "    </tr>\n",
              "    <tr>\n",
              "      <th>20232</th>\n",
              "      <td>Пролетарская</td>\n",
              "      <td>Обухово</td>\n",
              "      <td>Ломоносовская</td>\n",
              "      <td>20</td>\n",
              "      <td>30</td>\n",
              "      <td>31</td>\n",
              "    </tr>\n",
              "    <tr>\n",
              "      <th>20233</th>\n",
              "      <td>Балтийская</td>\n",
              "      <td>Московские ворота</td>\n",
              "      <td>Фрунзенская</td>\n",
              "      <td>30</td>\n",
              "      <td>30</td>\n",
              "      <td>30</td>\n",
              "    </tr>\n",
              "    <tr>\n",
              "      <th>20234</th>\n",
              "      <td>Проспект Просвещения</td>\n",
              "      <td>Парнас</td>\n",
              "      <td>Озерки</td>\n",
              "      <td>31</td>\n",
              "      <td>31</td>\n",
              "      <td>31</td>\n",
              "    </tr>\n",
              "  </tbody>\n",
              "</table>\n",
              "<p>20235 rows × 6 columns</p>\n",
              "</div>\n",
              "      <button class=\"colab-df-convert\" onclick=\"convertToInteractive('df-1d9ef920-1702-422b-9993-619853fb2e36')\"\n",
              "              title=\"Convert this dataframe to an interactive table.\"\n",
              "              style=\"display:none;\">\n",
              "        \n",
              "  <svg xmlns=\"http://www.w3.org/2000/svg\" height=\"24px\"viewBox=\"0 0 24 24\"\n",
              "       width=\"24px\">\n",
              "    <path d=\"M0 0h24v24H0V0z\" fill=\"none\"/>\n",
              "    <path d=\"M18.56 5.44l.94 2.06.94-2.06 2.06-.94-2.06-.94-.94-2.06-.94 2.06-2.06.94zm-11 1L8.5 8.5l.94-2.06 2.06-.94-2.06-.94L8.5 2.5l-.94 2.06-2.06.94zm10 10l.94 2.06.94-2.06 2.06-.94-2.06-.94-.94-2.06-.94 2.06-2.06.94z\"/><path d=\"M17.41 7.96l-1.37-1.37c-.4-.4-.92-.59-1.43-.59-.52 0-1.04.2-1.43.59L10.3 9.45l-7.72 7.72c-.78.78-.78 2.05 0 2.83L4 21.41c.39.39.9.59 1.41.59.51 0 1.02-.2 1.41-.59l7.78-7.78 2.81-2.81c.8-.78.8-2.07 0-2.86zM5.41 20L4 18.59l7.72-7.72 1.47 1.35L5.41 20z\"/>\n",
              "  </svg>\n",
              "      </button>\n",
              "      \n",
              "  <style>\n",
              "    .colab-df-container {\n",
              "      display:flex;\n",
              "      flex-wrap:wrap;\n",
              "      gap: 12px;\n",
              "    }\n",
              "\n",
              "    .colab-df-convert {\n",
              "      background-color: #E8F0FE;\n",
              "      border: none;\n",
              "      border-radius: 50%;\n",
              "      cursor: pointer;\n",
              "      display: none;\n",
              "      fill: #1967D2;\n",
              "      height: 32px;\n",
              "      padding: 0 0 0 0;\n",
              "      width: 32px;\n",
              "    }\n",
              "\n",
              "    .colab-df-convert:hover {\n",
              "      background-color: #E2EBFA;\n",
              "      box-shadow: 0px 1px 2px rgba(60, 64, 67, 0.3), 0px 1px 3px 1px rgba(60, 64, 67, 0.15);\n",
              "      fill: #174EA6;\n",
              "    }\n",
              "\n",
              "    [theme=dark] .colab-df-convert {\n",
              "      background-color: #3B4455;\n",
              "      fill: #D2E3FC;\n",
              "    }\n",
              "\n",
              "    [theme=dark] .colab-df-convert:hover {\n",
              "      background-color: #434B5C;\n",
              "      box-shadow: 0px 1px 3px 1px rgba(0, 0, 0, 0.15);\n",
              "      filter: drop-shadow(0px 1px 2px rgba(0, 0, 0, 0.3));\n",
              "      fill: #FFFFFF;\n",
              "    }\n",
              "  </style>\n",
              "\n",
              "      <script>\n",
              "        const buttonEl =\n",
              "          document.querySelector('#df-1d9ef920-1702-422b-9993-619853fb2e36 button.colab-df-convert');\n",
              "        buttonEl.style.display =\n",
              "          google.colab.kernel.accessAllowed ? 'block' : 'none';\n",
              "\n",
              "        async function convertToInteractive(key) {\n",
              "          const element = document.querySelector('#df-1d9ef920-1702-422b-9993-619853fb2e36');\n",
              "          const dataTable =\n",
              "            await google.colab.kernel.invokeFunction('convertToInteractive',\n",
              "                                                     [key], {});\n",
              "          if (!dataTable) return;\n",
              "\n",
              "          const docLinkHtml = 'Like what you see? Visit the ' +\n",
              "            '<a target=\"_blank\" href=https://colab.research.google.com/notebooks/data_table.ipynb>data table notebook</a>'\n",
              "            + ' to learn more about interactive tables.';\n",
              "          element.innerHTML = '';\n",
              "          dataTable['output_type'] = 'display_data';\n",
              "          await google.colab.output.renderOutput(dataTable, element);\n",
              "          const docLink = document.createElement('div');\n",
              "          docLink.innerHTML = docLinkHtml;\n",
              "          element.appendChild(docLink);\n",
              "        }\n",
              "      </script>\n",
              "    </div>\n",
              "  </div>\n",
              "  "
            ]
          },
          "metadata": {},
          "execution_count": 40
        }
      ]
    },
    {
      "cell_type": "code",
      "source": [
        "sorted(metro_stations['metro_station_1'].unique().tolist())"
      ],
      "metadata": {
        "colab": {
          "base_uri": "https://localhost:8080/"
        },
        "id": "zC2fhA6DXJ-B",
        "outputId": "78a6cf56-cd2f-4dcb-e782-ea73babb2845"
      },
      "execution_count": null,
      "outputs": [
        {
          "output_type": "execute_result",
          "data": {
            "text/plain": [
              "['no_info',\n",
              " 'Автово',\n",
              " 'Адмиралтейская',\n",
              " 'Академическая',\n",
              " 'Балтийская',\n",
              " 'Беговая',\n",
              " 'Бухарестская',\n",
              " 'Василеостровская',\n",
              " 'Владимирская',\n",
              " 'Волковская',\n",
              " 'Выборгская',\n",
              " 'Горьковская',\n",
              " 'Гостиный двор',\n",
              " 'Гражданский проспект',\n",
              " 'Девяткино',\n",
              " 'Достоевская',\n",
              " 'Дунайская',\n",
              " 'Елизаровская',\n",
              " 'Звенигородская',\n",
              " 'Звёздная',\n",
              " 'Кировский завод',\n",
              " 'Комендантский проспект',\n",
              " 'Крестовский остров',\n",
              " 'Купчино',\n",
              " 'Ладожская',\n",
              " 'Ленинский проспект',\n",
              " 'Лесная',\n",
              " 'Лиговский проспект',\n",
              " 'Ломоносовская',\n",
              " 'Маяковская',\n",
              " 'Международная',\n",
              " 'Московская',\n",
              " 'Московские ворота',\n",
              " 'Нарвская',\n",
              " 'Невский проспект',\n",
              " 'Новокрестовская',\n",
              " 'Новочеркасская',\n",
              " 'Обводный канал',\n",
              " 'Обухово',\n",
              " 'Озерки',\n",
              " 'Парк Победы',\n",
              " 'Парнас',\n",
              " 'Петроградская',\n",
              " 'Пионерская',\n",
              " 'Площадь А. Невского I',\n",
              " 'Площадь А. Невского II',\n",
              " 'Площадь Восстания',\n",
              " 'Площадь Ленина',\n",
              " 'Площадь Мужества',\n",
              " 'Политехническая',\n",
              " 'Приморская',\n",
              " 'Пролетарская',\n",
              " 'Проспект Большевиков',\n",
              " 'Проспект Ветеранов',\n",
              " 'Проспект Просвещения',\n",
              " 'Проспект Славы',\n",
              " 'Пушкинская',\n",
              " 'Рыбацкое',\n",
              " 'Садовая',\n",
              " 'Сенная площадь',\n",
              " 'Спасская',\n",
              " 'Спортивная',\n",
              " 'Старая деревня',\n",
              " 'Технологический ин-т I',\n",
              " 'Технологический ин-т II',\n",
              " 'Удельная',\n",
              " 'Улица Дыбенко',\n",
              " 'Фрунзенская',\n",
              " 'Чернышевская',\n",
              " 'Чкаловская',\n",
              " 'Чёрная речка',\n",
              " 'Электросила',\n",
              " 'р-н Калининский',\n",
              " 'р-н Красногвардейский',\n",
              " 'р-н Красносельский',\n",
              " 'р-н Московский',\n",
              " 'р-н Приморский']"
            ]
          },
          "metadata": {},
          "execution_count": 47
        }
      ]
    },
    {
      "cell_type": "code",
      "source": [
        "rename = {\n",
        "    'Новокрестовская': 'Зенит',\n",
        "    'Площадь А. Невского I': 'Площадь А. Невского',\n",
        "    'Площадь А. Невского II': 'Площадь А. Невского',\n",
        "    'Технологический ин-т I': 'Технологический ин-т',\n",
        "    'Технологический ин-т II': 'Технологический ин-т',\n",
        "    'р-н Калининский': 'no_info',\n",
        "    'р-н Красногвардейский': 'no_info',\n",
        "    'р-н Красносельский': 'no_info',\n",
        "    'р-н Московский': 'no_info',\n",
        "    'р-н Приморский': 'no_info',\n",
        "    '': 'no_info',\n",
        "}"
      ],
      "metadata": {
        "id": "C3S90PUjDzwh"
      },
      "execution_count": null,
      "outputs": []
    },
    {
      "cell_type": "code",
      "source": [
        "metro_stations = metro_stations.replace(rename)"
      ],
      "metadata": {
        "id": "G6fwIkwEJIvM"
      },
      "execution_count": null,
      "outputs": []
    },
    {
      "cell_type": "code",
      "source": [
        "metro_stations.head()"
      ],
      "metadata": {
        "colab": {
          "base_uri": "https://localhost:8080/",
          "height": 206
        },
        "id": "gYEtEzW4JSQu",
        "outputId": "1dda29cf-cf3e-49a0-81a6-8d995946f3f9"
      },
      "execution_count": null,
      "outputs": [
        {
          "output_type": "execute_result",
          "data": {
            "text/plain": [
              "          metro_station_1   metro_station_2 metro_station_3  \\\n",
              "0                 no_info           no_info         no_info   \n",
              "1           Гостиный двор  Невский проспект      Маяковская   \n",
              "2  Комендантский проспект    Старая деревня      Пионерская   \n",
              "3              Приморская  Василеостровская         no_info   \n",
              "4                Звёздная           Купчино      Московская   \n",
              "\n",
              "  metro_station_1_duration metro_station_2_duration metro_station_3_duration  \n",
              "0                  no_info                  no_info                  no_info  \n",
              "1                       15                       15                       15  \n",
              "2                       10                       31                       31  \n",
              "3                       31                       31                  no_info  \n",
              "4                       10                       30                       30  "
            ],
            "text/html": [
              "\n",
              "  <div id=\"df-456828c4-04ae-48a5-bc13-32cb65281634\">\n",
              "    <div class=\"colab-df-container\">\n",
              "      <div>\n",
              "<style scoped>\n",
              "    .dataframe tbody tr th:only-of-type {\n",
              "        vertical-align: middle;\n",
              "    }\n",
              "\n",
              "    .dataframe tbody tr th {\n",
              "        vertical-align: top;\n",
              "    }\n",
              "\n",
              "    .dataframe thead th {\n",
              "        text-align: right;\n",
              "    }\n",
              "</style>\n",
              "<table border=\"1\" class=\"dataframe\">\n",
              "  <thead>\n",
              "    <tr style=\"text-align: right;\">\n",
              "      <th></th>\n",
              "      <th>metro_station_1</th>\n",
              "      <th>metro_station_2</th>\n",
              "      <th>metro_station_3</th>\n",
              "      <th>metro_station_1_duration</th>\n",
              "      <th>metro_station_2_duration</th>\n",
              "      <th>metro_station_3_duration</th>\n",
              "    </tr>\n",
              "  </thead>\n",
              "  <tbody>\n",
              "    <tr>\n",
              "      <th>0</th>\n",
              "      <td>no_info</td>\n",
              "      <td>no_info</td>\n",
              "      <td>no_info</td>\n",
              "      <td>no_info</td>\n",
              "      <td>no_info</td>\n",
              "      <td>no_info</td>\n",
              "    </tr>\n",
              "    <tr>\n",
              "      <th>1</th>\n",
              "      <td>Гостиный двор</td>\n",
              "      <td>Невский проспект</td>\n",
              "      <td>Маяковская</td>\n",
              "      <td>15</td>\n",
              "      <td>15</td>\n",
              "      <td>15</td>\n",
              "    </tr>\n",
              "    <tr>\n",
              "      <th>2</th>\n",
              "      <td>Комендантский проспект</td>\n",
              "      <td>Старая деревня</td>\n",
              "      <td>Пионерская</td>\n",
              "      <td>10</td>\n",
              "      <td>31</td>\n",
              "      <td>31</td>\n",
              "    </tr>\n",
              "    <tr>\n",
              "      <th>3</th>\n",
              "      <td>Приморская</td>\n",
              "      <td>Василеостровская</td>\n",
              "      <td>no_info</td>\n",
              "      <td>31</td>\n",
              "      <td>31</td>\n",
              "      <td>no_info</td>\n",
              "    </tr>\n",
              "    <tr>\n",
              "      <th>4</th>\n",
              "      <td>Звёздная</td>\n",
              "      <td>Купчино</td>\n",
              "      <td>Московская</td>\n",
              "      <td>10</td>\n",
              "      <td>30</td>\n",
              "      <td>30</td>\n",
              "    </tr>\n",
              "  </tbody>\n",
              "</table>\n",
              "</div>\n",
              "      <button class=\"colab-df-convert\" onclick=\"convertToInteractive('df-456828c4-04ae-48a5-bc13-32cb65281634')\"\n",
              "              title=\"Convert this dataframe to an interactive table.\"\n",
              "              style=\"display:none;\">\n",
              "        \n",
              "  <svg xmlns=\"http://www.w3.org/2000/svg\" height=\"24px\"viewBox=\"0 0 24 24\"\n",
              "       width=\"24px\">\n",
              "    <path d=\"M0 0h24v24H0V0z\" fill=\"none\"/>\n",
              "    <path d=\"M18.56 5.44l.94 2.06.94-2.06 2.06-.94-2.06-.94-.94-2.06-.94 2.06-2.06.94zm-11 1L8.5 8.5l.94-2.06 2.06-.94-2.06-.94L8.5 2.5l-.94 2.06-2.06.94zm10 10l.94 2.06.94-2.06 2.06-.94-2.06-.94-.94-2.06-.94 2.06-2.06.94z\"/><path d=\"M17.41 7.96l-1.37-1.37c-.4-.4-.92-.59-1.43-.59-.52 0-1.04.2-1.43.59L10.3 9.45l-7.72 7.72c-.78.78-.78 2.05 0 2.83L4 21.41c.39.39.9.59 1.41.59.51 0 1.02-.2 1.41-.59l7.78-7.78 2.81-2.81c.8-.78.8-2.07 0-2.86zM5.41 20L4 18.59l7.72-7.72 1.47 1.35L5.41 20z\"/>\n",
              "  </svg>\n",
              "      </button>\n",
              "      \n",
              "  <style>\n",
              "    .colab-df-container {\n",
              "      display:flex;\n",
              "      flex-wrap:wrap;\n",
              "      gap: 12px;\n",
              "    }\n",
              "\n",
              "    .colab-df-convert {\n",
              "      background-color: #E8F0FE;\n",
              "      border: none;\n",
              "      border-radius: 50%;\n",
              "      cursor: pointer;\n",
              "      display: none;\n",
              "      fill: #1967D2;\n",
              "      height: 32px;\n",
              "      padding: 0 0 0 0;\n",
              "      width: 32px;\n",
              "    }\n",
              "\n",
              "    .colab-df-convert:hover {\n",
              "      background-color: #E2EBFA;\n",
              "      box-shadow: 0px 1px 2px rgba(60, 64, 67, 0.3), 0px 1px 3px 1px rgba(60, 64, 67, 0.15);\n",
              "      fill: #174EA6;\n",
              "    }\n",
              "\n",
              "    [theme=dark] .colab-df-convert {\n",
              "      background-color: #3B4455;\n",
              "      fill: #D2E3FC;\n",
              "    }\n",
              "\n",
              "    [theme=dark] .colab-df-convert:hover {\n",
              "      background-color: #434B5C;\n",
              "      box-shadow: 0px 1px 3px 1px rgba(0, 0, 0, 0.15);\n",
              "      filter: drop-shadow(0px 1px 2px rgba(0, 0, 0, 0.3));\n",
              "      fill: #FFFFFF;\n",
              "    }\n",
              "  </style>\n",
              "\n",
              "      <script>\n",
              "        const buttonEl =\n",
              "          document.querySelector('#df-456828c4-04ae-48a5-bc13-32cb65281634 button.colab-df-convert');\n",
              "        buttonEl.style.display =\n",
              "          google.colab.kernel.accessAllowed ? 'block' : 'none';\n",
              "\n",
              "        async function convertToInteractive(key) {\n",
              "          const element = document.querySelector('#df-456828c4-04ae-48a5-bc13-32cb65281634');\n",
              "          const dataTable =\n",
              "            await google.colab.kernel.invokeFunction('convertToInteractive',\n",
              "                                                     [key], {});\n",
              "          if (!dataTable) return;\n",
              "\n",
              "          const docLinkHtml = 'Like what you see? Visit the ' +\n",
              "            '<a target=\"_blank\" href=https://colab.research.google.com/notebooks/data_table.ipynb>data table notebook</a>'\n",
              "            + ' to learn more about interactive tables.';\n",
              "          element.innerHTML = '';\n",
              "          dataTable['output_type'] = 'display_data';\n",
              "          await google.colab.output.renderOutput(dataTable, element);\n",
              "          const docLink = document.createElement('div');\n",
              "          docLink.innerHTML = docLinkHtml;\n",
              "          element.appendChild(docLink);\n",
              "        }\n",
              "      </script>\n",
              "    </div>\n",
              "  </div>\n",
              "  "
            ]
          },
          "metadata": {},
          "execution_count": 63
        }
      ]
    },
    {
      "cell_type": "code",
      "source": [
        "metro_stations['metro_station_3'].unique()"
      ],
      "metadata": {
        "colab": {
          "base_uri": "https://localhost:8080/"
        },
        "id": "39zCwf0AJgtN",
        "outputId": "f239c947-3669-475c-b49d-becdc8532c13"
      },
      "execution_count": null,
      "outputs": [
        {
          "output_type": "execute_result",
          "data": {
            "text/plain": [
              "array(['no_info', 'Маяковская', 'Пионерская', 'Московская',\n",
              "       'Проспект Славы', 'Ленинский проспект', 'Лиговский проспект',\n",
              "       'Московские ворота', 'Проспект Ветеранов',\n",
              "       'Комендантский проспект', 'Парнас', 'Озерки', 'Выборгская',\n",
              "       'Ладожская', 'Чернышевская', 'Лесная', 'Площадь Мужества',\n",
              "       'Новочеркасская', 'Удельная', 'Фрунзенская',\n",
              "       'Технологический ин-т', 'Политехническая', 'Горьковская',\n",
              "       'Электросила', 'Площадь Восстания', 'Петроградская',\n",
              "       'Проспект Просвещения', 'Чёрная речка', 'Бухарестская',\n",
              "       'Балтийская', 'Улица Дыбенко', 'Спортивная', 'Рыбацкое',\n",
              "       'Площадь А. Невского', 'Обухово', 'Ломоносовская', 'Пушкинская',\n",
              "       'Кировский завод', 'Зенит', 'Академическая', 'Обводный канал',\n",
              "       'Адмиралтейская', 'Чкаловская', 'Международная', 'Елизаровская',\n",
              "       'Крестовский остров', 'Старая деревня', 'Дунайская', 'Приморская',\n",
              "       'Купчино', 'Волковская', 'Гражданский проспект', 'Девяткино',\n",
              "       'Садовая', 'Парк Победы', 'Шушары', 'Проспект Большевиков',\n",
              "       'Звенигородская', 'Пролетарская', 'Сенная площадь', 'Звёздная',\n",
              "       'Василеостровская', 'Владимирская', 'Автово', 'Беговая',\n",
              "       'Невский проспект', 'Площадь Ленина', 'Достоевская',\n",
              "       'Гостиный двор', 'Нарвская', 'Спасская'], dtype=object)"
            ]
          },
          "metadata": {},
          "execution_count": 66
        }
      ]
    },
    {
      "cell_type": "code",
      "source": [],
      "metadata": {
        "id": "eKrJqalUJmjZ"
      },
      "execution_count": null,
      "outputs": []
    }
  ]
}