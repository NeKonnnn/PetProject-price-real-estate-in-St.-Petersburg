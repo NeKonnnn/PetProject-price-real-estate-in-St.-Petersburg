{
 "cells": [
  {
   "cell_type": "code",
   "execution_count": 1,
   "id": "54ea752a",
   "metadata": {},
   "outputs": [],
   "source": [
    "import pandas as pd\n",
    "import numpy as np\n",
    "import matplotlib.pyplot as plt\n",
    "import re\n",
    "from tqdm import tqdm "
   ]
  },
  {
   "cell_type": "code",
   "execution_count": 2,
   "id": "4de8dd89",
   "metadata": {},
   "outputs": [],
   "source": [
    "df = pd.read_csv('df_english.csv')"
   ]
  },
  {
   "cell_type": "code",
   "execution_count": 3,
   "id": "29376de1",
   "metadata": {},
   "outputs": [
    {
     "data": {
      "text/html": [
       "<div>\n",
       "<style scoped>\n",
       "    .dataframe tbody tr th:only-of-type {\n",
       "        vertical-align: middle;\n",
       "    }\n",
       "\n",
       "    .dataframe tbody tr th {\n",
       "        vertical-align: top;\n",
       "    }\n",
       "\n",
       "    .dataframe thead th {\n",
       "        text-align: right;\n",
       "    }\n",
       "</style>\n",
       "<table border=\"1\" class=\"dataframe\">\n",
       "  <thead>\n",
       "    <tr style=\"text-align: right;\">\n",
       "      <th></th>\n",
       "      <th>Unnamed: 0</th>\n",
       "      <th>Id</th>\n",
       "      <th>Price</th>\n",
       "      <th>Address</th>\n",
       "      <th>Nearest_Subway</th>\n",
       "      <th>Publication_date</th>\n",
       "      <th>Num_of_rooms</th>\n",
       "      <th>Total_area</th>\n",
       "      <th>Living_space</th>\n",
       "      <th>Floor</th>\n",
       "      <th>...</th>\n",
       "      <th>Cargo_lift</th>\n",
       "      <th>New_building_name</th>\n",
       "      <th>Building</th>\n",
       "      <th>Official_developer</th>\n",
       "      <th>Participation_type</th>\n",
       "      <th>Due_date</th>\n",
       "      <th>Link</th>\n",
       "      <th>Coordinates</th>\n",
       "      <th>WMO</th>\n",
       "      <th>Area</th>\n",
       "    </tr>\n",
       "  </thead>\n",
       "  <tbody>\n",
       "    <tr>\n",
       "      <th>0</th>\n",
       "      <td>0</td>\n",
       "      <td>105724302</td>\n",
       "      <td>9800000</td>\n",
       "      <td>Санкт-Петербург, Пушкинский р-н, пос. Шушары, ...</td>\n",
       "      <td>NaN</td>\n",
       "      <td>17.10.2022 в 10:16</td>\n",
       "      <td>3</td>\n",
       "      <td>73 м²</td>\n",
       "      <td>NaN</td>\n",
       "      <td>1 из 5</td>\n",
       "      <td>...</td>\n",
       "      <td>NaN</td>\n",
       "      <td>NaN</td>\n",
       "      <td>NaN</td>\n",
       "      <td>NaN</td>\n",
       "      <td>NaN</td>\n",
       "      <td>NaN</td>\n",
       "      <td>https://avito.ru//sankt-peterburg/kvartiry/3-k...</td>\n",
       "      <td>59.737926, 30.461476</td>\n",
       "      <td>Шушары</td>\n",
       "      <td>Пушкинский</td>\n",
       "    </tr>\n",
       "  </tbody>\n",
       "</table>\n",
       "<p>1 rows × 39 columns</p>\n",
       "</div>"
      ],
      "text/plain": [
       "   Unnamed: 0         Id    Price  \\\n",
       "0           0  105724302  9800000   \n",
       "\n",
       "                                             Address Nearest_Subway  \\\n",
       "0  Санкт-Петербург, Пушкинский р-н, пос. Шушары, ...            NaN   \n",
       "\n",
       "     Publication_date Num_of_rooms Total_area Living_space   Floor  ...  \\\n",
       "0  17.10.2022 в 10:16            3      73 м²          NaN  1 из 5  ...   \n",
       "\n",
       "  Cargo_lift New_building_name Building Official_developer Participation_type  \\\n",
       "0        NaN               NaN      NaN                NaN                NaN   \n",
       "\n",
       "  Due_date                                               Link  \\\n",
       "0      NaN  https://avito.ru//sankt-peterburg/kvartiry/3-k...   \n",
       "\n",
       "            Coordinates     WMO        Area  \n",
       "0  59.737926, 30.461476  Шушары  Пушкинский  \n",
       "\n",
       "[1 rows x 39 columns]"
      ]
     },
     "execution_count": 3,
     "metadata": {},
     "output_type": "execute_result"
    }
   ],
   "source": [
    "df.head(1)"
   ]
  },
  {
   "cell_type": "code",
   "execution_count": 4,
   "id": "0e4e2c67",
   "metadata": {},
   "outputs": [],
   "source": [
    "# Избавимся от признаков, которые не несут информативности для нас.\n",
    "df = df.drop(['Unnamed: 0', 'Id', 'Official_developer', \n",
    "              'New_building_name', 'Building', 'Link', 'Floors_in_house'], axis=1)\n",
    "\n",
    "# Избавляем от признаков, у которых пропусков более 65%\n",
    "df = df.dropna(thresh=int(len(df) * .65), axis=1)\n",
    "\n",
    "# Избавляемся от дубликатов\n",
    "df = df.drop_duplicates(['Address', 'Total_area', 'Floor'])"
   ]
  },
  {
   "cell_type": "markdown",
   "id": "d95530d2",
   "metadata": {},
   "source": [
    "После того как мы удалили все ненужные признаки, у нас остались следующие фичи:"
   ]
  },
  {
   "cell_type": "code",
   "execution_count": 5,
   "id": "390ed478",
   "metadata": {},
   "outputs": [
    {
     "data": {
      "text/plain": [
       "Index(['Price', 'Address', 'Nearest_Subway', 'Publication_date',\n",
       "       'Num_of_rooms', 'Total_area', 'Living_space', 'Floor', 'Balcony',\n",
       "       'Bathroom', 'Windows', 'Sale_method', 'House_type', 'Coordinates',\n",
       "       'WMO', 'Area'],\n",
       "      dtype='object')"
      ]
     },
     "execution_count": 5,
     "metadata": {},
     "output_type": "execute_result"
    }
   ],
   "source": [
    "df.columns"
   ]
  },
  {
   "cell_type": "markdown",
   "id": "327b1ff0",
   "metadata": {},
   "source": [
    "С ними мы и будем работать."
   ]
  },
  {
   "cell_type": "markdown",
   "id": "1ae993f0",
   "metadata": {},
   "source": [
    "# Feature_engineering"
   ]
  },
  {
   "cell_type": "markdown",
   "id": "23128214",
   "metadata": {},
   "source": [
    "### Обработка площади"
   ]
  },
  {
   "cell_type": "code",
   "execution_count": 6,
   "id": "4b503b58",
   "metadata": {},
   "outputs": [],
   "source": [
    "# убираем м.кв. из \"Total_area\" и \"Living_space\"\n",
    "def convert_area(value):\n",
    "    correct_list = [str(i) for i in range(10)] + ['.']\n",
    "    result = ''\n",
    "    if pd.isna(value):\n",
    "        return value\n",
    "    for literal in str(value):\n",
    "        if literal in correct_list:\n",
    "            result += literal\n",
    "    return result\n",
    "\n",
    "for col in [\"Total_area\", \"Living_space\"]:\n",
    "    df.loc[:, col] = df[col].apply(convert_area).astype(np.float32)"
   ]
  },
  {
   "cell_type": "markdown",
   "id": "c454229a",
   "metadata": {},
   "source": [
    "### Обработка координат"
   ]
  },
  {
   "cell_type": "markdown",
   "id": "2a36a304",
   "metadata": {},
   "source": [
    "Ориентироваться на адрес не очень удобно, поэтому этот признак преобразуем в кооридинаты"
   ]
  },
  {
   "cell_type": "code",
   "execution_count": 7,
   "id": "14c4ba73",
   "metadata": {},
   "outputs": [
    {
     "data": {
      "text/html": [
       "<div>\n",
       "<style scoped>\n",
       "    .dataframe tbody tr th:only-of-type {\n",
       "        vertical-align: middle;\n",
       "    }\n",
       "\n",
       "    .dataframe tbody tr th {\n",
       "        vertical-align: top;\n",
       "    }\n",
       "\n",
       "    .dataframe thead th {\n",
       "        text-align: right;\n",
       "    }\n",
       "</style>\n",
       "<table border=\"1\" class=\"dataframe\">\n",
       "  <thead>\n",
       "    <tr style=\"text-align: right;\">\n",
       "      <th></th>\n",
       "      <th>lat_object</th>\n",
       "      <th>lon_object</th>\n",
       "    </tr>\n",
       "  </thead>\n",
       "  <tbody>\n",
       "    <tr>\n",
       "      <th>count</th>\n",
       "      <td>19565.000000</td>\n",
       "      <td>19565.000000</td>\n",
       "    </tr>\n",
       "    <tr>\n",
       "      <th>mean</th>\n",
       "      <td>59.675410</td>\n",
       "      <td>30.485540</td>\n",
       "    </tr>\n",
       "    <tr>\n",
       "      <th>std</th>\n",
       "      <td>2.044360</td>\n",
       "      <td>3.272827</td>\n",
       "    </tr>\n",
       "    <tr>\n",
       "      <th>min</th>\n",
       "      <td>38.552623</td>\n",
       "      <td>-4.719892</td>\n",
       "    </tr>\n",
       "    <tr>\n",
       "      <th>25%</th>\n",
       "      <td>59.852538</td>\n",
       "      <td>30.251297</td>\n",
       "    </tr>\n",
       "    <tr>\n",
       "      <th>50%</th>\n",
       "      <td>59.931927</td>\n",
       "      <td>30.326360</td>\n",
       "    </tr>\n",
       "    <tr>\n",
       "      <th>75%</th>\n",
       "      <td>60.000654</td>\n",
       "      <td>30.406679</td>\n",
       "    </tr>\n",
       "    <tr>\n",
       "      <th>max</th>\n",
       "      <td>60.262019</td>\n",
       "      <td>137.986851</td>\n",
       "    </tr>\n",
       "  </tbody>\n",
       "</table>\n",
       "</div>"
      ],
      "text/plain": [
       "         lat_object    lon_object\n",
       "count  19565.000000  19565.000000\n",
       "mean      59.675410     30.485540\n",
       "std        2.044360      3.272827\n",
       "min       38.552623     -4.719892\n",
       "25%       59.852538     30.251297\n",
       "50%       59.931927     30.326360\n",
       "75%       60.000654     30.406679\n",
       "max       60.262019    137.986851"
      ]
     },
     "execution_count": 7,
     "metadata": {},
     "output_type": "execute_result"
    }
   ],
   "source": [
    "df[['lat_object', 'lon_object']] = df['Coordinates'].str.split(', ',expand=True).astype('float')\n",
    "\n",
    "df[['lat_object', 'lon_object']].describe()"
   ]
  },
  {
   "cell_type": "markdown",
   "id": "3cd6a86b",
   "metadata": {},
   "source": [
    "Видно, что в данных есть выбросы, не характерные для координат СПб. Ограничив последние диапазоном по широте от 58,7 до 61 град и по долготе от 28,5 до 33,5, введем фильтр."
   ]
  },
  {
   "cell_type": "code",
   "execution_count": 8,
   "id": "90367f1b",
   "metadata": {},
   "outputs": [
    {
     "data": {
      "text/plain": [
       "348"
      ]
     },
     "execution_count": 8,
     "metadata": {},
     "output_type": "execute_result"
    }
   ],
   "source": [
    "df[(df['lat_object'] > 61) | (df['lat_object'] < 58.7) | \n",
    "   (df['lon_object'] > 33.5) | (df['lon_object'] < 28.5)]['Price'].count()"
   ]
  },
  {
   "cell_type": "code",
   "execution_count": 9,
   "id": "50c104c4",
   "metadata": {},
   "outputs": [],
   "source": [
    "df = df.drop(df[(df['lat_object'] > 61) | (df['lat_object'] < 58.7) | \n",
    "   (df['lon_object'] > 33.5) | (df['lon_object'] < 28.5)].index)"
   ]
  },
  {
   "cell_type": "code",
   "execution_count": 10,
   "id": "56f0bc60",
   "metadata": {},
   "outputs": [],
   "source": [
    "#удаляем лишний столбец \n",
    "df = df.drop([\"Coordinates\"], axis=1)\n",
    "# может еще понадобится удалить столбец Address"
   ]
  },
  {
   "cell_type": "markdown",
   "id": "3dbe5857",
   "metadata": {},
   "source": [
    "С КООРДИНАТАМИ НУЖНО ЕЩЕ ЗАМОРОЧИТЬСЯ И ИЗМЕРИТЬ РАССТОЯНИЕ ДО ЦЕНТРА!!!"
   ]
  },
  {
   "cell_type": "markdown",
   "id": "c21e5b36",
   "metadata": {},
   "source": [
    "### Обработка \"Floor\""
   ]
  },
  {
   "cell_type": "code",
   "execution_count": 11,
   "id": "00238a08",
   "metadata": {},
   "outputs": [],
   "source": [
    "# разделим общее количество этажей в доме\n",
    "# и квариру на конкретном этаже.\n",
    "new_df = df['Floor'].str.split('из',expand=True)\n",
    "\n",
    "#переименуем наши фичи\n",
    "new_df.columns=['Flat_floor','Total_floor']\n",
    "\n",
    "# объединим два датафрейма\n",
    "df = pd.concat([df,new_df],axis=1)\n",
    "\n",
    "# удалим ненужную фичу\n",
    "df = df.drop(['Floor'], axis=1)"
   ]
  },
  {
   "cell_type": "markdown",
   "id": "c7c23bd5",
   "metadata": {},
   "source": [
    "### Обработка Num_of_rooms"
   ]
  },
  {
   "cell_type": "code",
   "execution_count": 12,
   "id": "d862fd2c",
   "metadata": {},
   "outputs": [],
   "source": [
    "df.loc[df['Num_of_rooms'] == 'студия', ['Num_of_rooms']] = 0\n",
    "df.loc[df['Num_of_rooms'] == '10 и больше', ['Num_of_rooms']] = 10\n",
    "df = df.loc[df['Num_of_rooms'] != 'свободная планировка']"
   ]
  },
  {
   "cell_type": "code",
   "execution_count": 13,
   "id": "4300d950",
   "metadata": {},
   "outputs": [
    {
     "data": {
      "text/plain": [
       "array(['3', '2', '1', 0, '4', '5', '7', '6', nan, 10, '8', '9'],\n",
       "      dtype=object)"
      ]
     },
     "execution_count": 13,
     "metadata": {},
     "output_type": "execute_result"
    }
   ],
   "source": [
    "df['Num_of_rooms'].unique()"
   ]
  },
  {
   "cell_type": "markdown",
   "id": "c195b6dc",
   "metadata": {},
   "source": [
    "### Дополнительный Dataframe с координатами метро"
   ]
  },
  {
   "cell_type": "markdown",
   "id": "d837e371",
   "metadata": {},
   "source": [
    "Также нам понадобится еще один DataFrame с использованием координат местонахождения станций метро. Координаты в процессе работы также были нами спаршены."
   ]
  },
  {
   "cell_type": "code",
   "execution_count": 14,
   "id": "6f54875f",
   "metadata": {},
   "outputs": [
    {
     "data": {
      "text/html": [
       "<div>\n",
       "<style scoped>\n",
       "    .dataframe tbody tr th:only-of-type {\n",
       "        vertical-align: middle;\n",
       "    }\n",
       "\n",
       "    .dataframe tbody tr th {\n",
       "        vertical-align: top;\n",
       "    }\n",
       "\n",
       "    .dataframe thead th {\n",
       "        text-align: right;\n",
       "    }\n",
       "</style>\n",
       "<table border=\"1\" class=\"dataframe\">\n",
       "  <thead>\n",
       "    <tr style=\"text-align: right;\">\n",
       "      <th></th>\n",
       "      <th>Станция</th>\n",
       "      <th>Координаты</th>\n",
       "    </tr>\n",
       "  </thead>\n",
       "  <tbody>\n",
       "    <tr>\n",
       "      <th>0</th>\n",
       "      <td>Девяткино</td>\n",
       "      <td>60.050182, 30.443045</td>\n",
       "    </tr>\n",
       "    <tr>\n",
       "      <th>1</th>\n",
       "      <td>Гражданский проспект</td>\n",
       "      <td>60.034969, 30.418224</td>\n",
       "    </tr>\n",
       "    <tr>\n",
       "      <th>2</th>\n",
       "      <td>Академическая</td>\n",
       "      <td>60.012806, 30.396044</td>\n",
       "    </tr>\n",
       "    <tr>\n",
       "      <th>3</th>\n",
       "      <td>Политехническая</td>\n",
       "      <td>60.008942, 30.370907</td>\n",
       "    </tr>\n",
       "    <tr>\n",
       "      <th>4</th>\n",
       "      <td>Площадь Мужества</td>\n",
       "      <td>59.999828, 30.366159</td>\n",
       "    </tr>\n",
       "  </tbody>\n",
       "</table>\n",
       "</div>"
      ],
      "text/plain": [
       "                Станция            Координаты\n",
       "0             Девяткино  60.050182, 30.443045\n",
       "1  Гражданский проспект  60.034969, 30.418224\n",
       "2         Академическая  60.012806, 30.396044\n",
       "3       Политехническая  60.008942, 30.370907\n",
       "4      Площадь Мужества  59.999828, 30.366159"
      ]
     },
     "execution_count": 14,
     "metadata": {},
     "output_type": "execute_result"
    }
   ],
   "source": [
    "path = 'C:/Users/Nekon/PetProject-price-real-estate-in-St.-Petersburg/parser/metro.csv'\n",
    "subway_coordinates = pd.read_csv(path)\n",
    "subway_coordinates.head()"
   ]
  },
  {
   "cell_type": "code",
   "execution_count": 15,
   "id": "71e9c67a",
   "metadata": {},
   "outputs": [],
   "source": [
    "#переименовываем название наших фичей\n",
    "new_names = [\n",
    "    \"Station\", \"Coordinates\"\n",
    " ]\n",
    "mapper = {key:value for key, value in zip(subway_coordinates.columns.values, new_names)}\n",
    "\n",
    "subway_coordinates.rename(columns=mapper, inplace=True)"
   ]
  },
  {
   "cell_type": "code",
   "execution_count": 16,
   "id": "b682d3f2",
   "metadata": {},
   "outputs": [
    {
     "data": {
      "text/html": [
       "<div>\n",
       "<style scoped>\n",
       "    .dataframe tbody tr th:only-of-type {\n",
       "        vertical-align: middle;\n",
       "    }\n",
       "\n",
       "    .dataframe tbody tr th {\n",
       "        vertical-align: top;\n",
       "    }\n",
       "\n",
       "    .dataframe thead th {\n",
       "        text-align: right;\n",
       "    }\n",
       "</style>\n",
       "<table border=\"1\" class=\"dataframe\">\n",
       "  <thead>\n",
       "    <tr style=\"text-align: right;\">\n",
       "      <th></th>\n",
       "      <th>Station</th>\n",
       "      <th>lat_subway</th>\n",
       "      <th>lon_subway</th>\n",
       "    </tr>\n",
       "  </thead>\n",
       "  <tbody>\n",
       "    <tr>\n",
       "      <th>0</th>\n",
       "      <td>девяткино</td>\n",
       "      <td>60.050182</td>\n",
       "      <td>30.443045</td>\n",
       "    </tr>\n",
       "  </tbody>\n",
       "</table>\n",
       "</div>"
      ],
      "text/plain": [
       "     Station  lat_subway  lon_subway\n",
       "0  девяткино   60.050182   30.443045"
      ]
     },
     "execution_count": 16,
     "metadata": {},
     "output_type": "execute_result"
    }
   ],
   "source": [
    "#разделяем коррдинаты станций метро по широте и долготе\n",
    "subway_coordinates[['lat_subway', 'lon_subway']] = subway_coordinates['Coordinates'].str.split(', ',expand=True).astype('float')\n",
    "\n",
    "#переводим название станций метро в нижний регистр\n",
    "subway_coordinates['Station'] = subway_coordinates['Station'].str.lower()\n",
    "\n",
    "#удаляем уже ненужную фичу 'Station'\n",
    "subway_coordinates = subway_coordinates.drop('Coordinates', axis=1)\n",
    "\n",
    "subway_coordinates.head(1)"
   ]
  },
  {
   "cell_type": "markdown",
   "id": "c01f8859",
   "metadata": {},
   "source": [
    "Следующим шагом создадим функцию для расчета расстояния объекта до каждого метро"
   ]
  },
  {
   "cell_type": "code",
   "execution_count": 17,
   "id": "a814bb24",
   "metadata": {},
   "outputs": [],
   "source": [
    "def destinator(latitiude_init, longitude_init, latitiude_fin, longitude_fin):\n",
    "    '''\n",
    "    Расчет расстояния в км\n",
    "    '''\n",
    "    return round(np.sqrt((latitiude_init - latitiude_fin)**2 + \n",
    "                        (longitude_init - longitude_fin)**2) * 111.13, 3)\n",
    "\n",
    "def subway_distance_calculator(row, latitiude_fin, longitude_fin):\n",
    "#    latitiude_init = row['Широта_Объекта']\n",
    "#    longitude_init = row['Долгота_Объекта']\n",
    "#\n",
    "#    metro_distances = {}\n",
    "#\n",
    "#    for i in range(len(metro_coordinates)):\n",
    "#        latitiude_fin = metro_coordinates['Широта'][i]\n",
    "#        longitude_fin = metro_coordinates['Долгота'][i]\n",
    "#\n",
    "#        metro_distances[metro_coordinates['Станция'][i]] = [destinator(latitiude_init, longitude_init, latitiude_fin, longitude_fin)]\n",
    "        \n",
    "\n",
    "    return destinator(row['lat_object'], row['lon_object'], latitiude_fin, longitude_fin)"
   ]
  },
  {
   "cell_type": "code",
   "execution_count": 18,
   "id": "f209ebf8",
   "metadata": {},
   "outputs": [],
   "source": [
    "# Для корректной работы функции требуется сбросить индексы\n",
    "df = df.reset_index(drop=True)"
   ]
  },
  {
   "cell_type": "code",
   "execution_count": 19,
   "id": "517bb164",
   "metadata": {},
   "outputs": [
    {
     "name": "stderr",
     "output_type": "stream",
     "text": [
      "100%|██████████████████████████████████████████████████████████████████████████████████| 72/72 [00:40<00:00,  1.78it/s]\n"
     ]
    }
   ],
   "source": [
    "stations = ['расстояние_до_' + \"_\".join(x.split()) for x in subway_coordinates['Station']]\n",
    "for i in tqdm(range(len(stations))):\n",
    "    df[stations[i]] = df.apply(subway_distance_calculator, \n",
    "                               args=(subway_coordinates['lat_subway'][i], \n",
    "                                     subway_coordinates['lon_subway'][i]), \n",
    "                               axis=1\n",
    "                              )"
   ]
  },
  {
   "cell_type": "code",
   "execution_count": 20,
   "id": "77a1d9e7",
   "metadata": {},
   "outputs": [
    {
     "data": {
      "text/html": [
       "<div>\n",
       "<style scoped>\n",
       "    .dataframe tbody tr th:only-of-type {\n",
       "        vertical-align: middle;\n",
       "    }\n",
       "\n",
       "    .dataframe tbody tr th {\n",
       "        vertical-align: top;\n",
       "    }\n",
       "\n",
       "    .dataframe thead th {\n",
       "        text-align: right;\n",
       "    }\n",
       "</style>\n",
       "<table border=\"1\" class=\"dataframe\">\n",
       "  <thead>\n",
       "    <tr style=\"text-align: right;\">\n",
       "      <th></th>\n",
       "      <th>Price</th>\n",
       "      <th>Address</th>\n",
       "      <th>Nearest_Subway</th>\n",
       "      <th>Publication_date</th>\n",
       "      <th>Num_of_rooms</th>\n",
       "      <th>Total_area</th>\n",
       "      <th>Living_space</th>\n",
       "      <th>Balcony</th>\n",
       "      <th>Bathroom</th>\n",
       "      <th>Windows</th>\n",
       "      <th>...</th>\n",
       "      <th>расстояние_до_адмиралтейская</th>\n",
       "      <th>расстояние_до_садовая</th>\n",
       "      <th>расстояние_до_звенигородская</th>\n",
       "      <th>расстояние_до_обводный_канал</th>\n",
       "      <th>расстояние_до_волковская</th>\n",
       "      <th>расстояние_до_бухарестская</th>\n",
       "      <th>расстояние_до_международная</th>\n",
       "      <th>расстояние_до_дунайская</th>\n",
       "      <th>расстояние_до_проспект_славы</th>\n",
       "      <th>расстояние_до_шушары</th>\n",
       "    </tr>\n",
       "  </thead>\n",
       "  <tbody>\n",
       "    <tr>\n",
       "      <th>0</th>\n",
       "      <td>9800000</td>\n",
       "      <td>Санкт-Петербург, Пушкинский р-н, пос. Шушары, ...</td>\n",
       "      <td>NaN</td>\n",
       "      <td>17.10.2022 в 10:16</td>\n",
       "      <td>3</td>\n",
       "      <td>73.0</td>\n",
       "      <td>NaN</td>\n",
       "      <td>балкон</td>\n",
       "      <td>раздельный</td>\n",
       "      <td>во двор, на улицу, на солнечную сторону</td>\n",
       "      <td>...</td>\n",
       "      <td>27.35</td>\n",
       "      <td>26.37</td>\n",
       "      <td>25.042</td>\n",
       "      <td>23.334</td>\n",
       "      <td>21.026</td>\n",
       "      <td>19.195</td>\n",
       "      <td>17.306</td>\n",
       "      <td>12.66</td>\n",
       "      <td>15.105</td>\n",
       "      <td>9.662</td>\n",
       "    </tr>\n",
       "  </tbody>\n",
       "</table>\n",
       "<p>1 rows × 90 columns</p>\n",
       "</div>"
      ],
      "text/plain": [
       "     Price                                            Address Nearest_Subway  \\\n",
       "0  9800000  Санкт-Петербург, Пушкинский р-н, пос. Шушары, ...            NaN   \n",
       "\n",
       "     Publication_date Num_of_rooms  Total_area  Living_space Balcony  \\\n",
       "0  17.10.2022 в 10:16            3        73.0           NaN  балкон   \n",
       "\n",
       "     Bathroom                                  Windows  ...  \\\n",
       "0  раздельный  во двор, на улицу, на солнечную сторону  ...   \n",
       "\n",
       "  расстояние_до_адмиралтейская расстояние_до_садовая  \\\n",
       "0                        27.35                 26.37   \n",
       "\n",
       "  расстояние_до_звенигородская расстояние_до_обводный_канал  \\\n",
       "0                       25.042                       23.334   \n",
       "\n",
       "   расстояние_до_волковская  расстояние_до_бухарестская  \\\n",
       "0                    21.026                      19.195   \n",
       "\n",
       "  расстояние_до_международная расстояние_до_дунайская  \\\n",
       "0                      17.306                   12.66   \n",
       "\n",
       "   расстояние_до_проспект_славы  расстояние_до_шушары  \n",
       "0                        15.105                 9.662  \n",
       "\n",
       "[1 rows x 90 columns]"
      ]
     },
     "execution_count": 20,
     "metadata": {},
     "output_type": "execute_result"
    }
   ],
   "source": [
    "df.head(1)"
   ]
  },
  {
   "cell_type": "markdown",
   "id": "b4e917ee",
   "metadata": {},
   "source": [
    "### Обработка Nearest_Subway"
   ]
  },
  {
   "cell_type": "markdown",
   "id": "d207c638",
   "metadata": {},
   "source": [
    "Для начала разделим на 4 столца информацию о ближайших станциях метро"
   ]
  },
  {
   "cell_type": "code",
   "execution_count": 21,
   "id": "204e22d4",
   "metadata": {},
   "outputs": [
    {
     "data": {
      "text/html": [
       "<div>\n",
       "<style scoped>\n",
       "    .dataframe tbody tr th:only-of-type {\n",
       "        vertical-align: middle;\n",
       "    }\n",
       "\n",
       "    .dataframe tbody tr th {\n",
       "        vertical-align: top;\n",
       "    }\n",
       "\n",
       "    .dataframe thead th {\n",
       "        text-align: right;\n",
       "    }\n",
       "</style>\n",
       "<table border=\"1\" class=\"dataframe\">\n",
       "  <thead>\n",
       "    <tr style=\"text-align: right;\">\n",
       "      <th></th>\n",
       "      <th>subway_stations_1</th>\n",
       "      <th>subway_stations_2</th>\n",
       "      <th>subway_stations_3</th>\n",
       "      <th>subway_stations_4</th>\n",
       "    </tr>\n",
       "  </thead>\n",
       "  <tbody>\n",
       "    <tr>\n",
       "      <th>0</th>\n",
       "      <td>no_info</td>\n",
       "      <td>no_info</td>\n",
       "      <td>no_info</td>\n",
       "      <td>no_info</td>\n",
       "    </tr>\n",
       "    <tr>\n",
       "      <th>1</th>\n",
       "      <td>Гостиный двор11–15</td>\n",
       "      <td>Невский проспект11–15</td>\n",
       "      <td>Маяковская11–15</td>\n",
       "      <td></td>\n",
       "    </tr>\n",
       "    <tr>\n",
       "      <th>2</th>\n",
       "      <td>Комендантский проспект6–10</td>\n",
       "      <td>Старая деревняот 31</td>\n",
       "      <td>Пионерскаяот 31</td>\n",
       "      <td></td>\n",
       "    </tr>\n",
       "    <tr>\n",
       "      <th>3</th>\n",
       "      <td>Приморскаяот 31</td>\n",
       "      <td>Василеостровскаяот 31</td>\n",
       "      <td></td>\n",
       "      <td>no_info</td>\n",
       "    </tr>\n",
       "    <tr>\n",
       "      <th>4</th>\n",
       "      <td>Звёздная6–10</td>\n",
       "      <td>Купчино21–30</td>\n",
       "      <td>Московская21–30</td>\n",
       "      <td></td>\n",
       "    </tr>\n",
       "    <tr>\n",
       "      <th>...</th>\n",
       "      <td>...</td>\n",
       "      <td>...</td>\n",
       "      <td>...</td>\n",
       "      <td>...</td>\n",
       "    </tr>\n",
       "    <tr>\n",
       "      <th>19185</th>\n",
       "      <td>Комендантский проспектот 31</td>\n",
       "      <td></td>\n",
       "      <td>no_info</td>\n",
       "      <td>no_info</td>\n",
       "    </tr>\n",
       "    <tr>\n",
       "      <th>19186</th>\n",
       "      <td>Проспект Просвещенияот 31</td>\n",
       "      <td>Озеркиот 31</td>\n",
       "      <td>Гражданский проспектот 31</td>\n",
       "      <td></td>\n",
       "    </tr>\n",
       "    <tr>\n",
       "      <th>19187</th>\n",
       "      <td>Пролетарская16–20</td>\n",
       "      <td>Обухово21–30</td>\n",
       "      <td>Ломоносовскаяот 31</td>\n",
       "      <td></td>\n",
       "    </tr>\n",
       "    <tr>\n",
       "      <th>19188</th>\n",
       "      <td>Балтийская21–30</td>\n",
       "      <td>Московские ворота21–30</td>\n",
       "      <td>Фрунзенская21–30</td>\n",
       "      <td></td>\n",
       "    </tr>\n",
       "    <tr>\n",
       "      <th>19189</th>\n",
       "      <td>Проспект Просвещенияот 31</td>\n",
       "      <td>Парнасот 31</td>\n",
       "      <td>Озеркиот 31</td>\n",
       "      <td></td>\n",
       "    </tr>\n",
       "  </tbody>\n",
       "</table>\n",
       "<p>19190 rows × 4 columns</p>\n",
       "</div>"
      ],
      "text/plain": [
       "                 subway_stations_1       subway_stations_2  \\\n",
       "0                          no_info                 no_info   \n",
       "1               Гостиный двор11–15   Невский проспект11–15   \n",
       "2       Комендантский проспект6–10     Старая деревняот 31   \n",
       "3                  Приморскаяот 31   Василеостровскаяот 31   \n",
       "4                     Звёздная6–10            Купчино21–30   \n",
       "...                            ...                     ...   \n",
       "19185  Комендантский проспектот 31                           \n",
       "19186    Проспект Просвещенияот 31             Озеркиот 31   \n",
       "19187            Пролетарская16–20            Обухово21–30   \n",
       "19188              Балтийская21–30  Московские ворота21–30   \n",
       "19189    Проспект Просвещенияот 31             Парнасот 31   \n",
       "\n",
       "               subway_stations_3 subway_stations_4  \n",
       "0                        no_info           no_info  \n",
       "1                Маяковская11–15                    \n",
       "2                Пионерскаяот 31                    \n",
       "3                                          no_info  \n",
       "4                Московская21–30                    \n",
       "...                          ...               ...  \n",
       "19185                    no_info           no_info  \n",
       "19186  Гражданский проспектот 31                    \n",
       "19187         Ломоносовскаяот 31                    \n",
       "19188           Фрунзенская21–30                    \n",
       "19189                Озеркиот 31                    \n",
       "\n",
       "[19190 rows x 4 columns]"
      ]
     },
     "execution_count": 21,
     "metadata": {},
     "output_type": "execute_result"
    }
   ],
   "source": [
    "subway_stations = df['Nearest_Subway'].str.split(' мин.',expand=True)\n",
    "subway_stations = subway_stations.fillna('no_info')\n",
    "subway_stations.columns = ['subway_stations_1', 'subway_stations_2', 'subway_stations_3', 'subway_stations_4']\n",
    "subway_stations"
   ]
  },
  {
   "cell_type": "markdown",
   "id": "31df6d74",
   "metadata": {},
   "source": [
    "На первый взгляд видно, что в metro_station_4 есть только отсутствующие значения, проверим нашу гипотезу."
   ]
  },
  {
   "cell_type": "code",
   "execution_count": 22,
   "id": "f73fdd9e",
   "metadata": {},
   "outputs": [
    {
     "data": {
      "text/plain": [
       "array(['no_info', ''], dtype=object)"
      ]
     },
     "execution_count": 22,
     "metadata": {},
     "output_type": "execute_result"
    }
   ],
   "source": [
    "subway_stations['subway_stations_4'].unique()"
   ]
  },
  {
   "cell_type": "markdown",
   "id": "3744508f",
   "metadata": {},
   "source": [
    "Предположения подтвердились. В таком случае, удаляем этот столбец."
   ]
  },
  {
   "cell_type": "code",
   "execution_count": 23,
   "id": "81ec58b8",
   "metadata": {},
   "outputs": [],
   "source": [
    "subway_stations = subway_stations.drop('subway_stations_4', axis=1)"
   ]
  },
  {
   "cell_type": "markdown",
   "id": "a597995a",
   "metadata": {},
   "source": [
    "Отделим время до метро от названия станций."
   ]
  },
  {
   "cell_type": "code",
   "execution_count": 24,
   "id": "78e48938",
   "metadata": {},
   "outputs": [],
   "source": [
    "def find_pattern(string: str, pattern: str):\n",
    "    if re.search(pattern, string):\n",
    "        return re.search(pattern, string).group(0)\n",
    "\n",
    "def del_pattern(string: str, pattern: str):\n",
    "    if re.search(pattern, string):\n",
    "        return string.replace(pattern, \"\")\n",
    "    else:\n",
    "        return string"
   ]
  },
  {
   "cell_type": "code",
   "execution_count": 25,
   "id": "a83e022c",
   "metadata": {},
   "outputs": [],
   "source": [
    "pattern_station_name = '^\\D*'\n",
    "pattern_duration = '\\d\\d$'\n",
    "pattern_ot = 'от '\n",
    "pattern_do = 'до '"
   ]
  },
  {
   "cell_type": "code",
   "execution_count": 26,
   "id": "db0fb51e",
   "metadata": {},
   "outputs": [],
   "source": [
    "subway_stations['subway_stations_1_duration'] = subway_stations['subway_stations_1'].apply(lambda x: find_pattern(x, pattern_duration))\n",
    "subway_stations['subway_stations_2_duration'] = subway_stations['subway_stations_2'].apply(lambda x: find_pattern(x, pattern_duration))\n",
    "subway_stations['subway_stations_3_duration'] = subway_stations['subway_stations_3'].apply(lambda x: find_pattern(x, pattern_duration))\n",
    "\n",
    "subway_stations['subway_stations_1'] = subway_stations['subway_stations_1'].apply(lambda x: find_pattern(x, pattern_station_name))\n",
    "subway_stations['subway_stations_2'] = subway_stations['subway_stations_2'].apply(lambda x: find_pattern(x, pattern_station_name))\n",
    "subway_stations['subway_stations_3'] = subway_stations['subway_stations_3'].apply(lambda x: find_pattern(x, pattern_station_name))\n",
    "\n",
    "subway_stations['subway_stations_1'] = subway_stations['subway_stations_1'].apply(lambda x: del_pattern(x, pattern_ot))\n",
    "subway_stations['subway_stations_2'] = subway_stations['subway_stations_2'].apply(lambda x: del_pattern(x, pattern_ot))\n",
    "subway_stations['subway_stations_3'] = subway_stations['subway_stations_3'].apply(lambda x: del_pattern(x, pattern_ot))\n",
    "\n",
    "subway_stations['subway_stations_1'] = subway_stations['subway_stations_1'].apply(lambda x: del_pattern(x, pattern_do))\n",
    "subway_stations['subway_stations_2'] = subway_stations['subway_stations_2'].apply(lambda x: del_pattern(x, pattern_do))\n",
    "subway_stations['subway_stations_3'] = subway_stations['subway_stations_3'].apply(lambda x: del_pattern(x, pattern_do))\n",
    "\n",
    "subway_stations = subway_stations.fillna('no_info')"
   ]
  },
  {
   "cell_type": "code",
   "execution_count": 27,
   "id": "34abc8d2",
   "metadata": {},
   "outputs": [
    {
     "data": {
      "text/html": [
       "<div>\n",
       "<style scoped>\n",
       "    .dataframe tbody tr th:only-of-type {\n",
       "        vertical-align: middle;\n",
       "    }\n",
       "\n",
       "    .dataframe tbody tr th {\n",
       "        vertical-align: top;\n",
       "    }\n",
       "\n",
       "    .dataframe thead th {\n",
       "        text-align: right;\n",
       "    }\n",
       "</style>\n",
       "<table border=\"1\" class=\"dataframe\">\n",
       "  <thead>\n",
       "    <tr style=\"text-align: right;\">\n",
       "      <th></th>\n",
       "      <th>subway_stations_1</th>\n",
       "      <th>subway_stations_2</th>\n",
       "      <th>subway_stations_3</th>\n",
       "      <th>subway_stations_1_duration</th>\n",
       "      <th>subway_stations_2_duration</th>\n",
       "      <th>subway_stations_3_duration</th>\n",
       "    </tr>\n",
       "  </thead>\n",
       "  <tbody>\n",
       "    <tr>\n",
       "      <th>0</th>\n",
       "      <td>no_info</td>\n",
       "      <td>no_info</td>\n",
       "      <td>no_info</td>\n",
       "      <td>no_info</td>\n",
       "      <td>no_info</td>\n",
       "      <td>no_info</td>\n",
       "    </tr>\n",
       "    <tr>\n",
       "      <th>1</th>\n",
       "      <td>Гостиный двор</td>\n",
       "      <td>Невский проспект</td>\n",
       "      <td>Маяковская</td>\n",
       "      <td>15</td>\n",
       "      <td>15</td>\n",
       "      <td>15</td>\n",
       "    </tr>\n",
       "    <tr>\n",
       "      <th>2</th>\n",
       "      <td>Комендантский проспект</td>\n",
       "      <td>Старая деревня</td>\n",
       "      <td>Пионерская</td>\n",
       "      <td>10</td>\n",
       "      <td>31</td>\n",
       "      <td>31</td>\n",
       "    </tr>\n",
       "    <tr>\n",
       "      <th>3</th>\n",
       "      <td>Приморская</td>\n",
       "      <td>Василеостровская</td>\n",
       "      <td></td>\n",
       "      <td>31</td>\n",
       "      <td>31</td>\n",
       "      <td>no_info</td>\n",
       "    </tr>\n",
       "    <tr>\n",
       "      <th>4</th>\n",
       "      <td>Звёздная</td>\n",
       "      <td>Купчино</td>\n",
       "      <td>Московская</td>\n",
       "      <td>10</td>\n",
       "      <td>30</td>\n",
       "      <td>30</td>\n",
       "    </tr>\n",
       "  </tbody>\n",
       "</table>\n",
       "</div>"
      ],
      "text/plain": [
       "        subway_stations_1 subway_stations_2 subway_stations_3  \\\n",
       "0                 no_info           no_info           no_info   \n",
       "1           Гостиный двор  Невский проспект        Маяковская   \n",
       "2  Комендантский проспект    Старая деревня        Пионерская   \n",
       "3              Приморская  Василеостровская                     \n",
       "4                Звёздная           Купчино        Московская   \n",
       "\n",
       "  subway_stations_1_duration subway_stations_2_duration  \\\n",
       "0                    no_info                    no_info   \n",
       "1                         15                         15   \n",
       "2                         10                         31   \n",
       "3                         31                         31   \n",
       "4                         10                         30   \n",
       "\n",
       "  subway_stations_3_duration  \n",
       "0                    no_info  \n",
       "1                         15  \n",
       "2                         31  \n",
       "3                    no_info  \n",
       "4                         30  "
      ]
     },
     "execution_count": 27,
     "metadata": {},
     "output_type": "execute_result"
    }
   ],
   "source": [
    "subway_stations.head()"
   ]
  },
  {
   "cell_type": "code",
   "execution_count": 29,
   "id": "ac9324ef",
   "metadata": {},
   "outputs": [
    {
     "data": {
      "text/plain": [
       "array(['no_info', '15', '10', '31', '20', '30'], dtype=object)"
      ]
     },
     "execution_count": 29,
     "metadata": {},
     "output_type": "execute_result"
    }
   ],
   "source": [
    "subway_stations['subway_stations_1_duration'].unique()"
   ]
  },
  {
   "cell_type": "code",
   "execution_count": 31,
   "id": "d7e5b9a7",
   "metadata": {
    "scrolled": true
   },
   "outputs": [
    {
     "data": {
      "text/plain": [
       "['no_info',\n",
       " 'Автово',\n",
       " 'Адмиралтейская',\n",
       " 'Академическая',\n",
       " 'Балтийская',\n",
       " 'Беговая',\n",
       " 'Бухарестская',\n",
       " 'Василеостровская',\n",
       " 'Владимирская',\n",
       " 'Волковская',\n",
       " 'Выборгская',\n",
       " 'Горьковская',\n",
       " 'Гостиный двор',\n",
       " 'Гражданский проспект',\n",
       " 'Девяткино',\n",
       " 'Достоевская',\n",
       " 'Дунайская',\n",
       " 'Елизаровская',\n",
       " 'Звенигородская',\n",
       " 'Звёздная',\n",
       " 'Кировский завод',\n",
       " 'Комендантский проспект',\n",
       " 'Крестовский остров',\n",
       " 'Купчино',\n",
       " 'Ладожская',\n",
       " 'Ленинский проспект',\n",
       " 'Лесная',\n",
       " 'Лиговский проспект',\n",
       " 'Ломоносовская',\n",
       " 'Маяковская',\n",
       " 'Международная',\n",
       " 'Московская',\n",
       " 'Московские ворота',\n",
       " 'Нарвская',\n",
       " 'Невский проспект',\n",
       " 'Новокрестовская',\n",
       " 'Новочеркасская',\n",
       " 'Обводный канал',\n",
       " 'Обухово',\n",
       " 'Озерки',\n",
       " 'Парк Победы',\n",
       " 'Парнас',\n",
       " 'Петроградская',\n",
       " 'Пионерская',\n",
       " 'Площадь А. Невского I',\n",
       " 'Площадь А. Невского II',\n",
       " 'Площадь Восстания',\n",
       " 'Площадь Ленина',\n",
       " 'Площадь Мужества',\n",
       " 'Политехническая',\n",
       " 'Приморская',\n",
       " 'Пролетарская',\n",
       " 'Проспект Большевиков',\n",
       " 'Проспект Ветеранов',\n",
       " 'Проспект Просвещения',\n",
       " 'Проспект Славы',\n",
       " 'Пушкинская',\n",
       " 'Рыбацкое',\n",
       " 'Садовая',\n",
       " 'Сенная площадь',\n",
       " 'Спасская',\n",
       " 'Спортивная',\n",
       " 'Старая деревня',\n",
       " 'Технологический ин-т I',\n",
       " 'Технологический ин-т II',\n",
       " 'Удельная',\n",
       " 'Улица Дыбенко',\n",
       " 'Фрунзенская',\n",
       " 'Чернышевская',\n",
       " 'Чкаловская',\n",
       " 'Чёрная речка',\n",
       " 'Электросила',\n",
       " 'р-н Калининский',\n",
       " 'р-н Красногвардейский',\n",
       " 'р-н Красносельский',\n",
       " 'р-н Московский',\n",
       " 'р-н Приморский']"
      ]
     },
     "execution_count": 31,
     "metadata": {},
     "output_type": "execute_result"
    }
   ],
   "source": [
    "# посмотрим какие названия станций у нас есть.\n",
    "sorted(subway_stations['subway_stations_1'].unique().tolist())"
   ]
  },
  {
   "cell_type": "markdown",
   "id": "cce1b11c",
   "metadata": {},
   "source": [
    "Переименуем названия в соответствии с их названиями в файле с координатами, а ткже названия райнов заменим на no_info"
   ]
  },
  {
   "cell_type": "code",
   "execution_count": 32,
   "id": "5e064b4e",
   "metadata": {},
   "outputs": [],
   "source": [
    "rename = {\n",
    "    'Новокрестовская': 'Зенит',\n",
    "    'Площадь А. Невского I': 'Площадь Александра Невского 1',\n",
    "    'Площадь А. Невского II': 'Площадь Александра Невского 2',\n",
    "    'Технологический ин-т I': 'Технологический институт',\n",
    "    'Технологический ин-т II': 'Технологический институт 2',\n",
    "    'р-н Калининский': 'no_info',\n",
    "    'р-н Красногвардейский': 'no_info',\n",
    "    'р-н Красносельский': 'no_info',\n",
    "    'р-н Московский': 'no_info',\n",
    "    'р-н Приморский': 'no_info',\n",
    "    '': 'no_info',\n",
    "}"
   ]
  },
  {
   "cell_type": "code",
   "execution_count": 33,
   "id": "5f5c9fc7",
   "metadata": {},
   "outputs": [],
   "source": [
    "subway_stations = subway_stations.replace(rename)"
   ]
  },
  {
   "cell_type": "markdown",
   "id": "85c0b230",
   "metadata": {},
   "source": [
    "Теперь сохраним в датафрейм только столбцы с названиями станций и минимальным временем до метро (если время одинаковое для нескольких станций метро, будем указывать только одно ближайшее)."
   ]
  },
  {
   "cell_type": "code",
   "execution_count": 35,
   "id": "16475964",
   "metadata": {},
   "outputs": [],
   "source": [
    "df[['Subway_station', 'Time_for_subway']] = subway_stations[['subway_stations_1', 'subway_stations_1_duration']]"
   ]
  },
  {
   "cell_type": "code",
   "execution_count": 37,
   "id": "242723de",
   "metadata": {},
   "outputs": [
    {
     "data": {
      "text/html": [
       "<div>\n",
       "<style scoped>\n",
       "    .dataframe tbody tr th:only-of-type {\n",
       "        vertical-align: middle;\n",
       "    }\n",
       "\n",
       "    .dataframe tbody tr th {\n",
       "        vertical-align: top;\n",
       "    }\n",
       "\n",
       "    .dataframe thead th {\n",
       "        text-align: right;\n",
       "    }\n",
       "</style>\n",
       "<table border=\"1\" class=\"dataframe\">\n",
       "  <thead>\n",
       "    <tr style=\"text-align: right;\">\n",
       "      <th></th>\n",
       "      <th>Price</th>\n",
       "      <th>Address</th>\n",
       "      <th>Nearest_Subway</th>\n",
       "      <th>Publication_date</th>\n",
       "      <th>Num_of_rooms</th>\n",
       "      <th>Total_area</th>\n",
       "      <th>Living_space</th>\n",
       "      <th>Balcony</th>\n",
       "      <th>Bathroom</th>\n",
       "      <th>Windows</th>\n",
       "      <th>...</th>\n",
       "      <th>расстояние_до_звенигородская</th>\n",
       "      <th>расстояние_до_обводный_канал</th>\n",
       "      <th>расстояние_до_волковская</th>\n",
       "      <th>расстояние_до_бухарестская</th>\n",
       "      <th>расстояние_до_международная</th>\n",
       "      <th>расстояние_до_дунайская</th>\n",
       "      <th>расстояние_до_проспект_славы</th>\n",
       "      <th>расстояние_до_шушары</th>\n",
       "      <th>Subway_station</th>\n",
       "      <th>Time_for_subway</th>\n",
       "    </tr>\n",
       "  </thead>\n",
       "  <tbody>\n",
       "    <tr>\n",
       "      <th>0</th>\n",
       "      <td>9800000</td>\n",
       "      <td>Санкт-Петербург, Пушкинский р-н, пос. Шушары, ...</td>\n",
       "      <td>NaN</td>\n",
       "      <td>17.10.2022 в 10:16</td>\n",
       "      <td>3</td>\n",
       "      <td>73.0</td>\n",
       "      <td>NaN</td>\n",
       "      <td>балкон</td>\n",
       "      <td>раздельный</td>\n",
       "      <td>во двор, на улицу, на солнечную сторону</td>\n",
       "      <td>...</td>\n",
       "      <td>25.042</td>\n",
       "      <td>23.334</td>\n",
       "      <td>21.026</td>\n",
       "      <td>19.195</td>\n",
       "      <td>17.306</td>\n",
       "      <td>12.660</td>\n",
       "      <td>15.105</td>\n",
       "      <td>9.662</td>\n",
       "      <td>no_info</td>\n",
       "      <td>no_info</td>\n",
       "    </tr>\n",
       "    <tr>\n",
       "      <th>1</th>\n",
       "      <td>24000000</td>\n",
       "      <td>Санкт-Петербург, наб. реки Фонтанки, 28</td>\n",
       "      <td>Гостиный двор11–15 мин.Невский проспект11–15 м...</td>\n",
       "      <td>17.10.2022 в 01:22</td>\n",
       "      <td>3</td>\n",
       "      <td>85.0</td>\n",
       "      <td>NaN</td>\n",
       "      <td>NaN</td>\n",
       "      <td>совмещенный</td>\n",
       "      <td>во двор, на солнечную сторону</td>\n",
       "      <td>...</td>\n",
       "      <td>2.547</td>\n",
       "      <td>2.767</td>\n",
       "      <td>5.043</td>\n",
       "      <td>6.779</td>\n",
       "      <td>8.641</td>\n",
       "      <td>13.331</td>\n",
       "      <td>10.838</td>\n",
       "      <td>16.558</td>\n",
       "      <td>Гостиный двор</td>\n",
       "      <td>15</td>\n",
       "    </tr>\n",
       "    <tr>\n",
       "      <th>2</th>\n",
       "      <td>12500000</td>\n",
       "      <td>Санкт-Петербург, Камышовая ул., 3к1</td>\n",
       "      <td>Комендантский проспект6–10 мин.Старая деревняо...</td>\n",
       "      <td>22.10.2022 в 10:29</td>\n",
       "      <td>2</td>\n",
       "      <td>55.0</td>\n",
       "      <td>NaN</td>\n",
       "      <td>лоджия</td>\n",
       "      <td>раздельный</td>\n",
       "      <td>на улицу</td>\n",
       "      <td>...</td>\n",
       "      <td>12.626</td>\n",
       "      <td>14.534</td>\n",
       "      <td>16.742</td>\n",
       "      <td>18.602</td>\n",
       "      <td>20.489</td>\n",
       "      <td>25.331</td>\n",
       "      <td>22.808</td>\n",
       "      <td>28.624</td>\n",
       "      <td>Комендантский проспект</td>\n",
       "      <td>10</td>\n",
       "    </tr>\n",
       "    <tr>\n",
       "      <th>3</th>\n",
       "      <td>14200000</td>\n",
       "      <td>Санкт-Петербург, ул. Беринга, 1</td>\n",
       "      <td>Приморскаяот 31 мин.Василеостровскаяот 31 мин.</td>\n",
       "      <td>21.10.2022 в 16:53</td>\n",
       "      <td>1</td>\n",
       "      <td>50.0</td>\n",
       "      <td>32.0</td>\n",
       "      <td>балкон</td>\n",
       "      <td>совмещенный</td>\n",
       "      <td>NaN</td>\n",
       "      <td>...</td>\n",
       "      <td>9.105</td>\n",
       "      <td>11.257</td>\n",
       "      <td>12.839</td>\n",
       "      <td>14.521</td>\n",
       "      <td>16.203</td>\n",
       "      <td>20.883</td>\n",
       "      <td>18.485</td>\n",
       "      <td>24.129</td>\n",
       "      <td>Приморская</td>\n",
       "      <td>31</td>\n",
       "    </tr>\n",
       "    <tr>\n",
       "      <th>4</th>\n",
       "      <td>5500000</td>\n",
       "      <td>Санкт-Петербург, Пулковская ул., 8к2</td>\n",
       "      <td>Звёздная6–10 мин.Купчино21–30 мин.Московская21...</td>\n",
       "      <td>16.10.2022 в 03:52</td>\n",
       "      <td>0</td>\n",
       "      <td>26.0</td>\n",
       "      <td>14.0</td>\n",
       "      <td>балкон</td>\n",
       "      <td>совмещенный</td>\n",
       "      <td>во двор, на солнечную сторону</td>\n",
       "      <td>...</td>\n",
       "      <td>9.518</td>\n",
       "      <td>8.531</td>\n",
       "      <td>6.473</td>\n",
       "      <td>5.414</td>\n",
       "      <td>4.676</td>\n",
       "      <td>6.504</td>\n",
       "      <td>5.234</td>\n",
       "      <td>9.174</td>\n",
       "      <td>Звёздная</td>\n",
       "      <td>10</td>\n",
       "    </tr>\n",
       "  </tbody>\n",
       "</table>\n",
       "<p>5 rows × 92 columns</p>\n",
       "</div>"
      ],
      "text/plain": [
       "      Price                                            Address  \\\n",
       "0   9800000  Санкт-Петербург, Пушкинский р-н, пос. Шушары, ...   \n",
       "1  24000000            Санкт-Петербург, наб. реки Фонтанки, 28   \n",
       "2  12500000                Санкт-Петербург, Камышовая ул., 3к1   \n",
       "3  14200000                    Санкт-Петербург, ул. Беринга, 1   \n",
       "4   5500000               Санкт-Петербург, Пулковская ул., 8к2   \n",
       "\n",
       "                                      Nearest_Subway    Publication_date  \\\n",
       "0                                                NaN  17.10.2022 в 10:16   \n",
       "1  Гостиный двор11–15 мин.Невский проспект11–15 м...  17.10.2022 в 01:22   \n",
       "2  Комендантский проспект6–10 мин.Старая деревняо...  22.10.2022 в 10:29   \n",
       "3     Приморскаяот 31 мин.Василеостровскаяот 31 мин.  21.10.2022 в 16:53   \n",
       "4  Звёздная6–10 мин.Купчино21–30 мин.Московская21...  16.10.2022 в 03:52   \n",
       "\n",
       "  Num_of_rooms  Total_area  Living_space Balcony     Bathroom  \\\n",
       "0            3        73.0           NaN  балкон   раздельный   \n",
       "1            3        85.0           NaN     NaN  совмещенный   \n",
       "2            2        55.0           NaN  лоджия   раздельный   \n",
       "3            1        50.0          32.0  балкон  совмещенный   \n",
       "4            0        26.0          14.0  балкон  совмещенный   \n",
       "\n",
       "                                   Windows  ... расстояние_до_звенигородская  \\\n",
       "0  во двор, на улицу, на солнечную сторону  ...                       25.042   \n",
       "1            во двор, на солнечную сторону  ...                        2.547   \n",
       "2                                 на улицу  ...                       12.626   \n",
       "3                                      NaN  ...                        9.105   \n",
       "4            во двор, на солнечную сторону  ...                        9.518   \n",
       "\n",
       "  расстояние_до_обводный_канал расстояние_до_волковская  \\\n",
       "0                       23.334                   21.026   \n",
       "1                        2.767                    5.043   \n",
       "2                       14.534                   16.742   \n",
       "3                       11.257                   12.839   \n",
       "4                        8.531                    6.473   \n",
       "\n",
       "  расстояние_до_бухарестская  расстояние_до_международная  \\\n",
       "0                     19.195                       17.306   \n",
       "1                      6.779                        8.641   \n",
       "2                     18.602                       20.489   \n",
       "3                     14.521                       16.203   \n",
       "4                      5.414                        4.676   \n",
       "\n",
       "   расстояние_до_дунайская расстояние_до_проспект_славы расстояние_до_шушары  \\\n",
       "0                   12.660                       15.105                9.662   \n",
       "1                   13.331                       10.838               16.558   \n",
       "2                   25.331                       22.808               28.624   \n",
       "3                   20.883                       18.485               24.129   \n",
       "4                    6.504                        5.234                9.174   \n",
       "\n",
       "           Subway_station  Time_for_subway  \n",
       "0                 no_info          no_info  \n",
       "1           Гостиный двор               15  \n",
       "2  Комендантский проспект               10  \n",
       "3              Приморская               31  \n",
       "4                Звёздная               10  \n",
       "\n",
       "[5 rows x 92 columns]"
      ]
     },
     "execution_count": 37,
     "metadata": {},
     "output_type": "execute_result"
    }
   ],
   "source": [
    "df.head(5)"
   ]
  },
  {
   "cell_type": "markdown",
   "id": "b682dbe7",
   "metadata": {},
   "source": [
    "### Вытаскиваем уникальные значения из некоторых категориальных фичей"
   ]
  },
  {
   "cell_type": "code",
   "execution_count": null,
   "id": "5ed42e5f",
   "metadata": {},
   "outputs": [],
   "source": [
    "# #это метод OHE.\n",
    "# def convert_lists(df: pd.DataFrame) -> pd.DataFrame:\n",
    "#     cols = [\n",
    "#         \"Balcony\", \"Bathroom\", \"Windows\", \"Sale_method\",\n",
    "#         \"House_type\"\n",
    "#            ]\n",
    "#     new_cols = []\n",
    "#     for col in cols:\n",
    "#         series = df.loc[:, col]\n",
    "#         data = []\n",
    "#         unique_values = set()\n",
    "#         new_cols_data = []\n",
    "\n",
    "#         for row in series.values:\n",
    "#             row_c = [value.strip() for value in (row.split(\",\") if isinstance(row, str) else [])]\n",
    "#             for element in row_c:\n",
    "#                 if not element in unique_values:\n",
    "#                     unique_values.add(element)\n",
    "#             data.append(row_c)\n",
    "    \n",
    "#         unique_values = list(unique_values)\n",
    "\n",
    "#         for row in data:\n",
    "#             new_cols_data.append([1 if value in row else 0 for value in unique_values])\n",
    "    \n",
    "#         col_names = [f\"{col}_{i+1}\" for i in range(len(unique_values))]\n",
    "#         new_cols.append(pd.DataFrame(data=new_cols_data, columns=col_names, dtype=np.int8))\n",
    "#         print(\"\\n\".join(map(str,zip(unique_values, col_names))))\n",
    "\n",
    "#         df.drop(columns=[col], axis=1, inplace=True)\n",
    "\n",
    "#     return pd.concat([df]+new_cols, axis=1)\n",
    "\n",
    "# df = convert_lists(df)"
   ]
  }
 ],
 "metadata": {
  "kernelspec": {
   "display_name": "Python 3 (ipykernel)",
   "language": "python",
   "name": "python3"
  },
  "language_info": {
   "codemirror_mode": {
    "name": "ipython",
    "version": 3
   },
   "file_extension": ".py",
   "mimetype": "text/x-python",
   "name": "python",
   "nbconvert_exporter": "python",
   "pygments_lexer": "ipython3",
   "version": "3.9.13"
  }
 },
 "nbformat": 4,
 "nbformat_minor": 5
}
