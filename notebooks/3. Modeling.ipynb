{
 "cells": [
  {
   "cell_type": "code",
   "execution_count": 3,
   "id": "9a6b9bd7",
   "metadata": {},
   "outputs": [
    {
     "name": "stdout",
     "output_type": "stream",
     "text": [
      "Collecting shap\n",
      "  Downloading shap-0.41.0-cp39-cp39-win_amd64.whl (435 kB)\n",
      "     -------------------------------------- 435.6/435.6 kB 4.6 MB/s eta 0:00:00\n",
      "Requirement already satisfied: numpy in d:\\python\\lib\\site-packages (from shap) (1.21.5)\n",
      "Requirement already satisfied: cloudpickle in d:\\python\\lib\\site-packages (from shap) (2.0.0)\n",
      "Requirement already satisfied: pandas in d:\\python\\lib\\site-packages (from shap) (1.4.4)\n",
      "Requirement already satisfied: numba in d:\\python\\lib\\site-packages (from shap) (0.55.1)\n",
      "Requirement already satisfied: tqdm>4.25.0 in d:\\python\\lib\\site-packages (from shap) (4.64.1)\n",
      "Requirement already satisfied: scikit-learn in d:\\python\\lib\\site-packages (from shap) (1.0.2)\n",
      "Collecting slicer==0.0.7\n",
      "  Downloading slicer-0.0.7-py3-none-any.whl (14 kB)\n",
      "Requirement already satisfied: scipy in d:\\python\\lib\\site-packages (from shap) (1.8.1)\n",
      "Requirement already satisfied: packaging>20.9 in d:\\python\\lib\\site-packages (from shap) (21.3)\n",
      "Requirement already satisfied: pyparsing!=3.0.5,>=2.0.2 in d:\\python\\lib\\site-packages (from packaging>20.9->shap) (3.0.9)\n",
      "Requirement already satisfied: colorama in d:\\python\\lib\\site-packages (from tqdm>4.25.0->shap) (0.4.5)\n",
      "Requirement already satisfied: setuptools in d:\\python\\lib\\site-packages (from numba->shap) (63.4.1)\n",
      "Requirement already satisfied: llvmlite<0.39,>=0.38.0rc1 in d:\\python\\lib\\site-packages (from numba->shap) (0.38.0)\n",
      "Requirement already satisfied: python-dateutil>=2.8.1 in d:\\python\\lib\\site-packages (from pandas->shap) (2.8.2)\n",
      "Requirement already satisfied: pytz>=2020.1 in d:\\python\\lib\\site-packages (from pandas->shap) (2022.1)\n",
      "Requirement already satisfied: joblib>=0.11 in d:\\python\\lib\\site-packages (from scikit-learn->shap) (1.1.0)\n",
      "Requirement already satisfied: threadpoolctl>=2.0.0 in d:\\python\\lib\\site-packages (from scikit-learn->shap) (2.2.0)\n",
      "Requirement already satisfied: six>=1.5 in d:\\python\\lib\\site-packages (from python-dateutil>=2.8.1->pandas->shap) (1.16.0)\n",
      "Installing collected packages: slicer, shap\n",
      "Successfully installed shap-0.41.0 slicer-0.0.7\n"
     ]
    },
    {
     "name": "stderr",
     "output_type": "stream",
     "text": [
      "WARNING: Ignoring invalid distribution -cipy (d:\\python\\lib\\site-packages)\n",
      "WARNING: Ignoring invalid distribution -cipy (d:\\python\\lib\\site-packages)\n",
      "WARNING: Ignoring invalid distribution -cipy (d:\\python\\lib\\site-packages)\n",
      "WARNING: Ignoring invalid distribution -cipy (d:\\python\\lib\\site-packages)\n",
      "WARNING: Ignoring invalid distribution -cipy (d:\\python\\lib\\site-packages)\n",
      "WARNING: Ignoring invalid distribution -cipy (d:\\python\\lib\\site-packages)\n",
      "WARNING: Ignoring invalid distribution -cipy (d:\\python\\lib\\site-packages)\n",
      "WARNING: Ignoring invalid distribution -cipy (d:\\python\\lib\\site-packages)\n"
     ]
    }
   ],
   "source": [
    "!pip install shap"
   ]
  },
  {
   "cell_type": "code",
   "execution_count": 5,
   "id": "cdcd93d3",
   "metadata": {},
   "outputs": [
    {
     "name": "stdout",
     "output_type": "stream",
     "text": [
      "Collecting optuna\n",
      "  Using cached optuna-3.0.5-py3-none-any.whl (348 kB)\n",
      "Requirement already satisfied: numpy in d:\\python\\lib\\site-packages (from optuna) (1.21.5)\n",
      "Requirement already satisfied: scipy<1.9.0,>=1.7.0 in d:\\python\\lib\\site-packages (from optuna) (1.8.1)\n",
      "Requirement already satisfied: PyYAML in d:\\python\\lib\\site-packages (from optuna) (6.0)\n",
      "Requirement already satisfied: importlib-metadata<5.0.0 in d:\\python\\lib\\site-packages (from optuna) (4.11.3)\n",
      "Collecting cliff\n",
      "  Using cached cliff-4.1.0-py3-none-any.whl (81 kB)\n",
      "Collecting alembic>=1.5.0\n",
      "  Using cached alembic-1.9.1-py3-none-any.whl (210 kB)\n",
      "Requirement already satisfied: tqdm in d:\\python\\lib\\site-packages (from optuna) (4.64.1)\n",
      "Collecting colorlog\n",
      "  Using cached colorlog-6.7.0-py2.py3-none-any.whl (11 kB)\n",
      "Requirement already satisfied: packaging>=20.0 in d:\\python\\lib\\site-packages (from optuna) (21.3)\n",
      "Collecting cmaes>=0.8.2\n",
      "  Using cached cmaes-0.9.1-py3-none-any.whl (21 kB)\n",
      "Requirement already satisfied: sqlalchemy>=1.3.0 in d:\\python\\lib\\site-packages (from optuna) (1.4.39)\n",
      "Collecting Mako\n",
      "  Using cached Mako-1.2.4-py3-none-any.whl (78 kB)\n",
      "Requirement already satisfied: zipp>=0.5 in d:\\python\\lib\\site-packages (from importlib-metadata<5.0.0->optuna) (3.8.0)\n",
      "Requirement already satisfied: pyparsing!=3.0.5,>=2.0.2 in d:\\python\\lib\\site-packages (from packaging>=20.0->optuna) (3.0.9)\n",
      "Requirement already satisfied: greenlet!=0.4.17 in d:\\python\\lib\\site-packages (from sqlalchemy>=1.3.0->optuna) (1.1.1)\n",
      "Collecting autopage>=0.4.0\n",
      "  Using cached autopage-0.5.1-py3-none-any.whl (29 kB)\n",
      "Collecting stevedore>=2.0.1\n",
      "  Using cached stevedore-4.1.1-py3-none-any.whl (50 kB)\n",
      "Collecting PrettyTable>=0.7.2\n",
      "  Using cached prettytable-3.5.0-py3-none-any.whl (26 kB)\n",
      "Collecting cmd2>=1.0.0\n",
      "  Using cached cmd2-2.4.2-py3-none-any.whl (147 kB)\n",
      "Requirement already satisfied: colorama in d:\\python\\lib\\site-packages (from colorlog->optuna) (0.4.5)\n",
      "Requirement already satisfied: pyperclip>=1.6 in d:\\python\\lib\\site-packages (from cmd2>=1.0.0->cliff->optuna) (1.8.2)\n",
      "Requirement already satisfied: attrs>=16.3.0 in d:\\python\\lib\\site-packages (from cmd2>=1.0.0->cliff->optuna) (21.4.0)\n",
      "Requirement already satisfied: wcwidth>=0.1.7 in d:\\python\\lib\\site-packages (from cmd2>=1.0.0->cliff->optuna) (0.2.5)\n",
      "Requirement already satisfied: pyreadline3 in d:\\python\\lib\\site-packages (from cmd2>=1.0.0->cliff->optuna) (3.4.1)\n",
      "Collecting pbr!=2.1.0,>=2.0.0\n",
      "  Using cached pbr-5.11.0-py2.py3-none-any.whl (112 kB)\n",
      "Requirement already satisfied: MarkupSafe>=0.9.2 in d:\\python\\lib\\site-packages (from Mako->alembic>=1.5.0->optuna) (2.0.1)\n",
      "Installing collected packages: PrettyTable, pbr, Mako, colorlog, cmd2, cmaes, autopage, stevedore, alembic, cliff, optuna\n",
      "Successfully installed Mako-1.2.4 PrettyTable-3.5.0 alembic-1.9.1 autopage-0.5.1 cliff-4.1.0 cmaes-0.9.1 cmd2-2.4.2 colorlog-6.7.0 optuna-3.0.5 pbr-5.11.0 stevedore-4.1.1\n"
     ]
    },
    {
     "name": "stderr",
     "output_type": "stream",
     "text": [
      "WARNING: Ignoring invalid distribution -cipy (d:\\python\\lib\\site-packages)\n",
      "WARNING: Ignoring invalid distribution -cipy (d:\\python\\lib\\site-packages)\n",
      "WARNING: Ignoring invalid distribution -cipy (d:\\python\\lib\\site-packages)\n",
      "WARNING: Ignoring invalid distribution -cipy (d:\\python\\lib\\site-packages)\n",
      "WARNING: Ignoring invalid distribution -cipy (d:\\python\\lib\\site-packages)\n",
      "WARNING: Ignoring invalid distribution -cipy (d:\\python\\lib\\site-packages)\n",
      "WARNING: Ignoring invalid distribution -cipy (d:\\python\\lib\\site-packages)\n",
      "WARNING: Ignoring invalid distribution -cipy (d:\\python\\lib\\site-packages)\n",
      "WARNING: Ignoring invalid distribution -cipy (d:\\python\\lib\\site-packages)\n",
      "WARNING: Ignoring invalid distribution -cipy (d:\\python\\lib\\site-packages)\n",
      "WARNING: Ignoring invalid distribution -cipy (d:\\python\\lib\\site-packages)\n",
      "WARNING: Ignoring invalid distribution -cipy (d:\\python\\lib\\site-packages)\n",
      "WARNING: Ignoring invalid distribution -cipy (d:\\python\\lib\\site-packages)\n",
      "WARNING: Ignoring invalid distribution -cipy (d:\\python\\lib\\site-packages)\n",
      "WARNING: Ignoring invalid distribution -cipy (d:\\python\\lib\\site-packages)\n",
      "WARNING: Ignoring invalid distribution -cipy (d:\\python\\lib\\site-packages)\n",
      "WARNING: Ignoring invalid distribution -cipy (d:\\python\\lib\\site-packages)\n"
     ]
    }
   ],
   "source": [
    "import matplotlib.pyplot as plt\n",
    "import numpy as np\n",
    "import pandas as pd\n",
    "import re\n",
    "import seaborn as sns\n",
    "\n",
    "from tqdm.notebook import tqdm\n",
    "\n",
    "from sklearn.model_selection import train_test_split, cross_val_score\n",
    "from sklearn.metrics import classification_report, mean_absolute_percentage_error\n",
    "\n",
    "from sklearn.preprocessing import OneHotEncoder\n",
    "from catboost import CatBoostRegressor, CatBoostClassifier, Pool, cv\n",
    "\n",
    "try:\n",
    "    import optuna\n",
    "except Exception:\n",
    "    ! pip install optuna\n",
    "    import optuna\n",
    "    \n",
    "import shap\n",
    "\n",
    "pd.set_option(\"display.max_columns\", None)"
   ]
  },
  {
   "cell_type": "code",
   "execution_count": 6,
   "id": "e396da87",
   "metadata": {},
   "outputs": [],
   "source": [
    "df = pd.read_csv('df_engineering_new.csv')"
   ]
  },
  {
   "cell_type": "markdown",
   "id": "b51a017a",
   "metadata": {},
   "source": [
    "# Baseline - Human learning"
   ]
  },
  {
   "cell_type": "code",
   "execution_count": 7,
   "id": "57958ba7",
   "metadata": {},
   "outputs": [],
   "source": [
    "SEED = 26"
   ]
  },
  {
   "cell_type": "code",
   "execution_count": 8,
   "id": "f74c6e3d",
   "metadata": {},
   "outputs": [
    {
     "data": {
      "text/plain": [
       "['Price',\n",
       " 'Num_of_rooms',\n",
       " 'Total_area',\n",
       " 'Floor',\n",
       " 'Ceiling_height',\n",
       " 'Repair',\n",
       " 'Decoration',\n",
       " 'Sale_method',\n",
       " 'House_type',\n",
       " 'Passenger_lift',\n",
       " 'Cargo_lift',\n",
       " 'Participation_type',\n",
       " 'lat_object',\n",
       " 'lon_object',\n",
       " 'комендантский проспект_dist',\n",
       " 'крестовский остров_dist',\n",
       " 'шушары_dist',\n",
       " 'парнас_dist',\n",
       " 'купчино_dist',\n",
       " 'улица дыбенко_dist',\n",
       " 'девяткино_dist',\n",
       " 'проспект ветеранов_dist',\n",
       " 'Price_m_2',\n",
       " 'Price_m_2_cat',\n",
       " 'Balcony_convoul',\n",
       " 'Deal_type_convoul',\n",
       " 'In_house_convoul',\n",
       " 'Yard_convoul',\n",
       " 'Furniture_convoul',\n",
       " 'Windows_convoul',\n",
       " 'Parking_convoul',\n",
       " 'Bathroom_convoul',\n",
       " 'Appliances_convoul',\n",
       " 'Room_type_convoul',\n",
       " 'Publication_date_parsed',\n",
       " 'Years_house',\n",
       " 'Cargo_lift_no_info',\n",
       " 'Passenger_lift_no_info']"
      ]
     },
     "execution_count": 8,
     "metadata": {},
     "output_type": "execute_result"
    }
   ],
   "source": [
    "df.columns.tolist()"
   ]
  },
  {
   "cell_type": "code",
   "execution_count": 9,
   "id": "bddb56fe",
   "metadata": {},
   "outputs": [
    {
     "data": {
      "text/plain": [
       "0.23202139825698953"
      ]
     },
     "execution_count": 9,
     "metadata": {},
     "output_type": "execute_result"
    }
   ],
   "source": [
    "train, test = train_test_split(df, test_size=.2, random_state=SEED)\n",
    "\n",
    "y = ['Price_m_2']\n",
    "\n",
    "square_categories = [0, 30, 40, 50, 60, 70, float('inf')]\n",
    "\n",
    "train['Total_area_cat'] = pd.cut(train['Total_area'], square_categories)\n",
    "test['Total_area_cat'] = pd.cut(test['Total_area'], square_categories)\n",
    "\n",
    "learning_mask = train.groupby(by='Total_area_cat')[y].agg('median').reset_index()\n",
    "\n",
    "test = test.merge(learning_mask, how='left', on='Total_area_cat', suffixes=('', '_pred'))\n",
    "\n",
    "mean_absolute_percentage_error(test['Price_m_2'], test['Price_m_2_pred'])"
   ]
  },
  {
   "cell_type": "markdown",
   "id": "2d30c88b",
   "metadata": {},
   "source": [
    "## Catboost"
   ]
  },
  {
   "cell_type": "code",
   "execution_count": 10,
   "id": "6d0fb0e5",
   "metadata": {},
   "outputs": [],
   "source": [
    "def ohe_transformer(df, cat_features, encoder, encoder_columns):\n",
    "    ohe = encoder.transform(df[cat_features])\n",
    "    ohe = pd.DataFrame(ohe, columns=encoder_columns, index=df.index)\n",
    "    ohe = df.drop(cat_features, axis=1).join(ohe)#.astype('int')\n",
    "    return ohe"
   ]
  },
  {
   "cell_type": "code",
   "execution_count": 11,
   "id": "200e5697",
   "metadata": {},
   "outputs": [],
   "source": [
    "def ohe(train, test, cat_features):\n",
    "    encoder = OneHotEncoder(drop=\"first\", sparse=False)\n",
    "    encoder.fit(train[cat_features])\n",
    "    encoder_columns = [\"_\".join(x.split()) for x in encoder.get_feature_names_out()]\n",
    "    return ohe_transformer(\n",
    "        train, cat_features, encoder, encoder_columns\n",
    "    ), ohe_transformer(test, cat_features, encoder, encoder_columns)"
   ]
  },
  {
   "cell_type": "markdown",
   "id": "0fe41e71",
   "metadata": {},
   "source": [
    "### Classifier"
   ]
  },
  {
   "cell_type": "code",
   "execution_count": 12,
   "id": "eca99f3e",
   "metadata": {},
   "outputs": [],
   "source": [
    "train, test = train_test_split(df, test_size=.2, random_state=SEED)"
   ]
  },
  {
   "cell_type": "code",
   "execution_count": 13,
   "id": "ce3594b9",
   "metadata": {},
   "outputs": [],
   "source": [
    "y_cl = ['Price_m_2_cat']\n",
    "\n",
    "cat_features_cb = [\n",
    "    'Repair', \n",
    "    'Decoration',\n",
    "    'Sale_method',\n",
    "    'House_type', \n",
    "    'Participation_type', \n",
    "    ]\n",
    "\n",
    "train_ohe, test_ohe = ohe(train, test, cat_features_cb)\n",
    "\n",
    "train_cl, train_reg = train_test_split(train_ohe, test_size=.5, random_state=SEED)"
   ]
  },
  {
   "cell_type": "code",
   "execution_count": 17,
   "id": "3c4c10d3",
   "metadata": {},
   "outputs": [
    {
     "ename": "CatBoostError",
     "evalue": "Bad value for num_feature[non_default_doc_idx=0,feature_idx=26]=\"2022-10-22\": Cannot convert 'b'2022-10-22'' to float",
     "output_type": "error",
     "traceback": [
      "\u001b[1;31m---------------------------------------------------------------------------\u001b[0m",
      "\u001b[1;31mTypeError\u001b[0m                                 Traceback (most recent call last)",
      "\u001b[1;32m_catboost.pyx\u001b[0m in \u001b[0;36m_catboost.get_float_feature\u001b[1;34m()\u001b[0m\n",
      "\u001b[1;32m_catboost.pyx\u001b[0m in \u001b[0;36m_catboost._FloatOrNan\u001b[1;34m()\u001b[0m\n",
      "\u001b[1;32m_catboost.pyx\u001b[0m in \u001b[0;36m_catboost._FloatOrNanFromString\u001b[1;34m()\u001b[0m\n",
      "\u001b[1;31mTypeError\u001b[0m: Cannot convert 'b'2022-10-22'' to float",
      "\nDuring handling of the above exception, another exception occurred:\n",
      "\u001b[1;31mCatBoostError\u001b[0m                             Traceback (most recent call last)",
      "\u001b[1;32m~\\AppData\\Local\\Temp\\ipykernel_6788\\1911633129.py\u001b[0m in \u001b[0;36m<module>\u001b[1;34m\u001b[0m\n\u001b[0;32m      1\u001b[0m \u001b[0mX_cl\u001b[0m \u001b[1;33m=\u001b[0m \u001b[0mtrain_cl\u001b[0m\u001b[1;33m.\u001b[0m\u001b[0mdrop\u001b[0m\u001b[1;33m(\u001b[0m\u001b[0my\u001b[0m \u001b[1;33m+\u001b[0m \u001b[0my_cl\u001b[0m \u001b[1;33m+\u001b[0m \u001b[1;33m[\u001b[0m\u001b[1;34m'Price'\u001b[0m\u001b[1;33m]\u001b[0m\u001b[1;33m,\u001b[0m \u001b[0maxis\u001b[0m\u001b[1;33m=\u001b[0m\u001b[1;36m1\u001b[0m\u001b[1;33m)\u001b[0m\u001b[1;33m.\u001b[0m\u001b[0mcolumns\u001b[0m\u001b[1;33m.\u001b[0m\u001b[0mtolist\u001b[0m\u001b[1;33m(\u001b[0m\u001b[1;33m)\u001b[0m\u001b[1;33m\u001b[0m\u001b[1;33m\u001b[0m\u001b[0m\n\u001b[0;32m      2\u001b[0m \u001b[1;33m\u001b[0m\u001b[0m\n\u001b[1;32m----> 3\u001b[1;33m pool_train_cl = Pool(\n\u001b[0m\u001b[0;32m      4\u001b[0m     \u001b[0mtrain_cl\u001b[0m\u001b[1;33m[\u001b[0m\u001b[0mX_cl\u001b[0m\u001b[1;33m]\u001b[0m\u001b[1;33m,\u001b[0m\u001b[1;33m\u001b[0m\u001b[1;33m\u001b[0m\u001b[0m\n\u001b[0;32m      5\u001b[0m     \u001b[0mtrain_cl\u001b[0m\u001b[1;33m[\u001b[0m\u001b[0my_cl\u001b[0m\u001b[1;33m]\u001b[0m\u001b[1;33m,\u001b[0m\u001b[1;33m\u001b[0m\u001b[1;33m\u001b[0m\u001b[0m\n",
      "\u001b[1;32mD:\\Python\\lib\\site-packages\\catboost\\core.py\u001b[0m in \u001b[0;36m__init__\u001b[1;34m(self, data, label, cat_features, text_features, embedding_features, embedding_features_data, column_description, pairs, delimiter, has_header, ignore_csv_quoting, weight, group_id, group_weight, subgroup_id, pairs_weight, baseline, timestamp, feature_names, feature_tags, thread_count, log_cout, log_cerr)\u001b[0m\n\u001b[0;32m    790\u001b[0m                     )\n\u001b[0;32m    791\u001b[0m \u001b[1;33m\u001b[0m\u001b[0m\n\u001b[1;32m--> 792\u001b[1;33m                 self._init(data, label, cat_features, text_features, embedding_features, embedding_features_data, pairs, weight,\n\u001b[0m\u001b[0;32m    793\u001b[0m                            group_id, group_weight, subgroup_id, pairs_weight, baseline, timestamp, feature_names, feature_tags, thread_count)\n\u001b[0;32m    794\u001b[0m         \u001b[0msuper\u001b[0m\u001b[1;33m(\u001b[0m\u001b[0mPool\u001b[0m\u001b[1;33m,\u001b[0m \u001b[0mself\u001b[0m\u001b[1;33m)\u001b[0m\u001b[1;33m.\u001b[0m\u001b[0m__init__\u001b[0m\u001b[1;33m(\u001b[0m\u001b[1;33m)\u001b[0m\u001b[1;33m\u001b[0m\u001b[1;33m\u001b[0m\u001b[0m\n",
      "\u001b[1;32mD:\\Python\\lib\\site-packages\\catboost\\core.py\u001b[0m in \u001b[0;36m_init\u001b[1;34m(self, data, label, cat_features, text_features, embedding_features, embedding_features_data, pairs, weight, group_id, group_weight, subgroup_id, pairs_weight, baseline, timestamp, feature_names, feature_tags, thread_count)\u001b[0m\n\u001b[0;32m   1417\u001b[0m         \u001b[1;32mif\u001b[0m \u001b[0mfeature_tags\u001b[0m \u001b[1;32mis\u001b[0m \u001b[1;32mnot\u001b[0m \u001b[1;32mNone\u001b[0m\u001b[1;33m:\u001b[0m\u001b[1;33m\u001b[0m\u001b[1;33m\u001b[0m\u001b[0m\n\u001b[0;32m   1418\u001b[0m             \u001b[0mfeature_tags\u001b[0m \u001b[1;33m=\u001b[0m \u001b[0mself\u001b[0m\u001b[1;33m.\u001b[0m\u001b[0m_check_transform_tags\u001b[0m\u001b[1;33m(\u001b[0m\u001b[0mfeature_tags\u001b[0m\u001b[1;33m,\u001b[0m \u001b[0mfeature_names\u001b[0m\u001b[1;33m)\u001b[0m\u001b[1;33m\u001b[0m\u001b[1;33m\u001b[0m\u001b[0m\n\u001b[1;32m-> 1419\u001b[1;33m         self._init_pool(data, label, cat_features, text_features, embedding_features, embedding_features_data, pairs, weight,\n\u001b[0m\u001b[0;32m   1420\u001b[0m                         group_id, group_weight, subgroup_id, pairs_weight, baseline, timestamp, feature_names, feature_tags, thread_count)\n\u001b[0;32m   1421\u001b[0m \u001b[1;33m\u001b[0m\u001b[0m\n",
      "\u001b[1;32m_catboost.pyx\u001b[0m in \u001b[0;36m_catboost._PoolBase._init_pool\u001b[1;34m()\u001b[0m\n",
      "\u001b[1;32m_catboost.pyx\u001b[0m in \u001b[0;36m_catboost._PoolBase._init_pool\u001b[1;34m()\u001b[0m\n",
      "\u001b[1;32m_catboost.pyx\u001b[0m in \u001b[0;36m_catboost._PoolBase._init_features_order_layout_pool\u001b[1;34m()\u001b[0m\n",
      "\u001b[1;32m_catboost.pyx\u001b[0m in \u001b[0;36m_catboost._set_features_order_data_pd_data_frame\u001b[1;34m()\u001b[0m\n",
      "\u001b[1;32m_catboost.pyx\u001b[0m in \u001b[0;36m_catboost.create_num_factor_data\u001b[1;34m()\u001b[0m\n",
      "\u001b[1;32m_catboost.pyx\u001b[0m in \u001b[0;36m_catboost.get_float_feature\u001b[1;34m()\u001b[0m\n",
      "\u001b[1;31mCatBoostError\u001b[0m: Bad value for num_feature[non_default_doc_idx=0,feature_idx=26]=\"2022-10-22\": Cannot convert 'b'2022-10-22'' to float"
     ]
    }
   ],
   "source": [
    "X_cl = train_cl.drop(y + y_cl + ['Price'], axis=1).columns.tolist()\n",
    "\n",
    "pool_train_cl = Pool(\n",
    "    train_cl[X_cl], \n",
    "    train_cl[y_cl],\n",
    "    )"
   ]
  },
  {
   "cell_type": "code",
   "execution_count": 16,
   "id": "b3b5b779",
   "metadata": {},
   "outputs": [
    {
     "ename": "NameError",
     "evalue": "name 'cost_categories_labels' is not defined",
     "output_type": "error",
     "traceback": [
      "\u001b[1;31m---------------------------------------------------------------------------\u001b[0m",
      "\u001b[1;31mNameError\u001b[0m                                 Traceback (most recent call last)",
      "\u001b[1;32m~\\AppData\\Local\\Temp\\ipykernel_6788\\1352898177.py\u001b[0m in \u001b[0;36m<module>\u001b[1;34m\u001b[0m\n\u001b[0;32m      8\u001b[0m     \u001b[1;31m#\"auto_class_weights\": \"Balanced\",\u001b[0m\u001b[1;33m\u001b[0m\u001b[1;33m\u001b[0m\u001b[0m\n\u001b[0;32m      9\u001b[0m     \u001b[1;31m#'class_names': cost_categories_labels,\u001b[0m\u001b[1;33m\u001b[0m\u001b[1;33m\u001b[0m\u001b[0m\n\u001b[1;32m---> 10\u001b[1;33m     \u001b[1;34m'classes_count'\u001b[0m\u001b[1;33m:\u001b[0m \u001b[0mlen\u001b[0m\u001b[1;33m(\u001b[0m\u001b[0mcost_categories_labels\u001b[0m\u001b[1;33m)\u001b[0m\u001b[1;33m,\u001b[0m\u001b[1;33m\u001b[0m\u001b[1;33m\u001b[0m\u001b[0m\n\u001b[0m\u001b[0;32m     11\u001b[0m }\n\u001b[0;32m     12\u001b[0m \u001b[1;33m\u001b[0m\u001b[0m\n",
      "\u001b[1;31mNameError\u001b[0m: name 'cost_categories_labels' is not defined"
     ]
    }
   ],
   "source": [
    "params = {\n",
    "    \"learning_rate\": 0.2,\n",
    "    'custom_loss':['Accuracy'],\n",
    "    \"loss_function\": \"MultiClass\",\n",
    "    #\"loss_function\": \"Logloss\",\n",
    "    \"random_seed\": SEED,\n",
    "    \"early_stopping_rounds\": 200,\n",
    "    #\"auto_class_weights\": \"Balanced\",    \n",
    "    #'class_names': cost_categories_labels,\n",
    "    'classes_count': len(cost_categories_labels),\n",
    "}\n",
    "\n",
    "cv_cl = cv(\n",
    "    pool=pool_train_cl,\n",
    "    params=params,\n",
    "    fold_count=5,\n",
    "    shuffle=True,\n",
    "    verbose=250,\n",
    "    return_models=True,\n",
    ")"
   ]
  },
  {
   "cell_type": "code",
   "execution_count": null,
   "id": "7369a502",
   "metadata": {},
   "outputs": [],
   "source": []
  }
 ],
 "metadata": {
  "kernelspec": {
   "display_name": "Python 3 (ipykernel)",
   "language": "python",
   "name": "python3"
  },
  "language_info": {
   "codemirror_mode": {
    "name": "ipython",
    "version": 3
   },
   "file_extension": ".py",
   "mimetype": "text/x-python",
   "name": "python",
   "nbconvert_exporter": "python",
   "pygments_lexer": "ipython3",
   "version": "3.9.13"
  }
 },
 "nbformat": 4,
 "nbformat_minor": 5
}
