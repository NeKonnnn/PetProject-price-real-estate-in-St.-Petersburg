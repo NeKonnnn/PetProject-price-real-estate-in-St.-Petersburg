{
 "cells": [
  {
   "cell_type": "markdown",
   "id": "98c7cdbe",
   "metadata": {},
   "source": [
    "# Датасет\n",
    "\n",
    "Были спаршены данные с агрегатора avito.ru\n",
    "\n",
    "**Фичи**\n",
    "\n",
    "- `id` = \"Id\"\n",
    "- `Цена` = \"Price\"\n",
    "- `Адрес`= \"Address\" \n",
    "- `Ближайшее_метро`= \"Nearest_Subway\"\n",
    "- `Дата_публикации`= \"Publication_date\"\n",
    "- `Количество_комнат`= \"Num_of_rooms\"\n",
    "- `Общая_площадь`= \"Total_area\"\n",
    "- `Жилая_площадь`= \"Living_space\"\n",
    "- `Этаж`= \"Floor\"\n",
    "- `Балкон_или_лоджия`= \"Balcony\"\n",
    "- `Тип_комнат`= \"Room_type\"\n",
    "- `Высота_потолков`= \"Ceiling_height\"\n",
    "- `Санузел`= \"Bathroom\"\n",
    "- `Окна`= \"Windows\"\n",
    "- `Ремонт`= \"Repair\"\n",
    "- `Мебель`= \"Furniture\"\n",
    "- `Тёплый_пол`= \"Warm_floor\"\n",
    "- `Отделка`= \"Decoration\"\n",
    "- `Техника`= \"Appliances\"\n",
    "- `Способ_продажи`= \"Sale_method\"\n",
    "- `Вид_сделки`= \"Deal_type\"\n",
    "- `Тип_дома`= \"House_type\"\n",
    "- `Год_постройки`= \"Year_build\"\n",
    "- `Этажей_в_доме`= \"Floors_in_house\"\n",
    "- `Пассажирский_лифт`= \"Passenger_lift\"\n",
    "- `Парковка`= \"Parking\"\n",
    "- `В_доме`= \"In_house\"\n",
    "- `Двор`= \"Yard\"\n",
    "- `Грузовой_лифт`= \"Cargo_lift\"\n",
    "- `Название_новостройки`= New_building_name\"\n",
    "- `Корпус_строение`= \"Building\"\n",
    "- `Официальный_застройщик`= \"Official_developer\"\n",
    "- `Тип_участия`= \"Participation_type\"\n",
    "- `Срок_сдачи`= \"Due_date\"\n",
    "- `Ссылка`= \"Link\"\n",
    "- `Координаты`= \"Coordinates\"\n",
    "- `ВМО`= \"WMO\"\n",
    "- `Район`= \"Area\""
   ]
  },
  {
   "cell_type": "code",
   "execution_count": 28,
   "id": "347221c7",
   "metadata": {},
   "outputs": [],
   "source": [
    "import pandas as pd\n",
    "import numpy as np\n",
    "import seaborn as sns\n",
    "import matplotlib.pyplot as plt\n",
    "import seaborn as sns"
   ]
  },
  {
   "cell_type": "code",
   "execution_count": 2,
   "id": "0d65a26f",
   "metadata": {},
   "outputs": [],
   "source": [
    "path = 'C:/Users/konst/PetProject-price-real-estate-in-St.-Petersburg/parser/avito.csv'\n",
    "df = pd.read_csv(path)"
   ]
  },
  {
   "cell_type": "code",
   "execution_count": 3,
   "id": "419143d8",
   "metadata": {},
   "outputs": [
    {
     "data": {
      "text/html": [
       "<div>\n",
       "<style scoped>\n",
       "    .dataframe tbody tr th:only-of-type {\n",
       "        vertical-align: middle;\n",
       "    }\n",
       "\n",
       "    .dataframe tbody tr th {\n",
       "        vertical-align: top;\n",
       "    }\n",
       "\n",
       "    .dataframe thead th {\n",
       "        text-align: right;\n",
       "    }\n",
       "</style>\n",
       "<table border=\"1\" class=\"dataframe\">\n",
       "  <thead>\n",
       "    <tr style=\"text-align: right;\">\n",
       "      <th></th>\n",
       "      <th>id</th>\n",
       "      <th>Цена</th>\n",
       "      <th>Адрес</th>\n",
       "      <th>Ближайшее_метро</th>\n",
       "      <th>Дата_публикации</th>\n",
       "      <th>Количество_комнат</th>\n",
       "      <th>Общая_площадь</th>\n",
       "      <th>Жилая_площадь</th>\n",
       "      <th>Этаж</th>\n",
       "      <th>Балкон_или_лоджия</th>\n",
       "      <th>...</th>\n",
       "      <th>Грузовой_лифт</th>\n",
       "      <th>Название_новостройки</th>\n",
       "      <th>Корпус_строение</th>\n",
       "      <th>Официальный_застройщик</th>\n",
       "      <th>Тип_участия</th>\n",
       "      <th>Срок_сдачи</th>\n",
       "      <th>Ссылка</th>\n",
       "      <th>Координаты</th>\n",
       "      <th>ВМО</th>\n",
       "      <th>Район</th>\n",
       "    </tr>\n",
       "  </thead>\n",
       "  <tbody>\n",
       "    <tr>\n",
       "      <th>0</th>\n",
       "      <td>105724302</td>\n",
       "      <td>9800000</td>\n",
       "      <td>Санкт-Петербург, Пушкинский р-н, пос. Шушары, ...</td>\n",
       "      <td>NaN</td>\n",
       "      <td>17.10.2022 в 10:16</td>\n",
       "      <td>3</td>\n",
       "      <td>73 м²</td>\n",
       "      <td>NaN</td>\n",
       "      <td>1 из 5</td>\n",
       "      <td>балкон</td>\n",
       "      <td>...</td>\n",
       "      <td>NaN</td>\n",
       "      <td>NaN</td>\n",
       "      <td>NaN</td>\n",
       "      <td>NaN</td>\n",
       "      <td>NaN</td>\n",
       "      <td>NaN</td>\n",
       "      <td>https://avito.ru//sankt-peterburg/kvartiry/3-k...</td>\n",
       "      <td>59.737926, 30.461476</td>\n",
       "      <td>Шушары</td>\n",
       "      <td>Пушкинский</td>\n",
       "    </tr>\n",
       "  </tbody>\n",
       "</table>\n",
       "<p>1 rows × 38 columns</p>\n",
       "</div>"
      ],
      "text/plain": [
       "          id     Цена                                              Адрес  \\\n",
       "0  105724302  9800000  Санкт-Петербург, Пушкинский р-н, пос. Шушары, ...   \n",
       "\n",
       "  Ближайшее_метро     Дата_публикации Количество_комнат Общая_площадь  \\\n",
       "0             NaN  17.10.2022 в 10:16                 3         73 м²   \n",
       "\n",
       "  Жилая_площадь    Этаж Балкон_или_лоджия  ... Грузовой_лифт  \\\n",
       "0           NaN  1 из 5            балкон  ...           NaN   \n",
       "\n",
       "  Название_новостройки Корпус_строение Официальный_застройщик Тип_участия  \\\n",
       "0                  NaN             NaN                    NaN         NaN   \n",
       "\n",
       "  Срок_сдачи                                             Ссылка  \\\n",
       "0        NaN  https://avito.ru//sankt-peterburg/kvartiry/3-k...   \n",
       "\n",
       "             Координаты     ВМО       Район  \n",
       "0  59.737926, 30.461476  Шушары  Пушкинский  \n",
       "\n",
       "[1 rows x 38 columns]"
      ]
     },
     "execution_count": 3,
     "metadata": {},
     "output_type": "execute_result"
    }
   ],
   "source": [
    "df.head(1)"
   ]
  },
  {
   "cell_type": "markdown",
   "id": "5010165d",
   "metadata": {},
   "source": [
    "**Для начала переименуем наши фичи.**"
   ]
  },
  {
   "cell_type": "code",
   "execution_count": 4,
   "id": "5683b723",
   "metadata": {},
   "outputs": [
    {
     "data": {
      "text/plain": [
       "Index(['id', 'Цена', 'Адрес', 'Ближайшее_метро', 'Дата_публикации',\n",
       "       'Количество_комнат', 'Общая_площадь', 'Жилая_площадь', 'Этаж',\n",
       "       'Балкон_или_лоджия', 'Тип_комнат', 'Высота_потолков', 'Санузел', 'Окна',\n",
       "       'Ремонт', 'Мебель', 'Тёплый_пол', 'Отделка', 'Техника',\n",
       "       'Способ_продажи', 'Вид_сделки', 'Тип_дома', 'Год_постройки',\n",
       "       'Этажей_в_доме', 'Пассажирский_лифт', 'Парковка', 'В_доме', 'Двор',\n",
       "       'Грузовой_лифт', 'Название_новостройки', 'Корпус_строение',\n",
       "       'Официальный_застройщик', 'Тип_участия', 'Срок_сдачи', 'Ссылка',\n",
       "       'Координаты', 'ВМО', 'Район'],\n",
       "      dtype='object')"
      ]
     },
     "execution_count": 4,
     "metadata": {},
     "output_type": "execute_result"
    }
   ],
   "source": [
    "# смотрим как изначально называются наши фичи.\n",
    "df.columns"
   ]
  },
  {
   "cell_type": "code",
   "execution_count": 5,
   "id": "0253b183",
   "metadata": {},
   "outputs": [],
   "source": [
    "new_names = [\n",
    "    \"Id\", \"Price\", \"Address\", \"Nearest_Subway\", \"Publication_date\", \"Num_of_rooms\", \n",
    "    \"Total_area\", \"Living_space\", \"Floor\", \"Balcony\", \"Room_type\", \n",
    "    \"Ceiling_height\", \"Bathroom\", \"Windows\", \"Repair\", \"Furniture\", \"Warm_floor\",\n",
    "    \"Decoration\", \"Appliances\", \"Sale_method\", \"Deal_type\", \"House_type\",\n",
    "    \"Year_build\", \"Floors_in_house\", \"Passenger_lift\", \"Parking\", \"In_house\",\n",
    "    \"Yard\", \"Cargo_lift\", \"New_building_name\", \"Building\", \"Official_developer\",\n",
    "    \"Participation_type\", \"Due_date\", \"Link\", \"Coordinates\", \"WMO\", \"Area\"\n",
    " ]\n",
    "mapper = {key:value for key, value in zip(df.columns.values, new_names)}\n",
    "\n",
    "df.rename(columns=mapper, inplace=True)"
   ]
  },
  {
   "cell_type": "markdown",
   "id": "08507786",
   "metadata": {},
   "source": [
    "Для начала посмотрим на первые и последние 5 строк наших данных."
   ]
  },
  {
   "cell_type": "code",
   "execution_count": 6,
   "id": "d79b1a19",
   "metadata": {},
   "outputs": [
    {
     "data": {
      "text/html": [
       "<div>\n",
       "<style scoped>\n",
       "    .dataframe tbody tr th:only-of-type {\n",
       "        vertical-align: middle;\n",
       "    }\n",
       "\n",
       "    .dataframe tbody tr th {\n",
       "        vertical-align: top;\n",
       "    }\n",
       "\n",
       "    .dataframe thead th {\n",
       "        text-align: right;\n",
       "    }\n",
       "</style>\n",
       "<table border=\"1\" class=\"dataframe\">\n",
       "  <thead>\n",
       "    <tr style=\"text-align: right;\">\n",
       "      <th></th>\n",
       "      <th>Id</th>\n",
       "      <th>Price</th>\n",
       "      <th>Address</th>\n",
       "      <th>Nearest_Subway</th>\n",
       "      <th>Publication_date</th>\n",
       "      <th>Num_of_rooms</th>\n",
       "      <th>Total_area</th>\n",
       "      <th>Living_space</th>\n",
       "      <th>Floor</th>\n",
       "      <th>Balcony</th>\n",
       "      <th>...</th>\n",
       "      <th>Cargo_lift</th>\n",
       "      <th>New_building_name</th>\n",
       "      <th>Building</th>\n",
       "      <th>Official_developer</th>\n",
       "      <th>Participation_type</th>\n",
       "      <th>Due_date</th>\n",
       "      <th>Link</th>\n",
       "      <th>Coordinates</th>\n",
       "      <th>WMO</th>\n",
       "      <th>Area</th>\n",
       "    </tr>\n",
       "  </thead>\n",
       "  <tbody>\n",
       "    <tr>\n",
       "      <th>0</th>\n",
       "      <td>105724302</td>\n",
       "      <td>9800000</td>\n",
       "      <td>Санкт-Петербург, Пушкинский р-н, пос. Шушары, ...</td>\n",
       "      <td>NaN</td>\n",
       "      <td>17.10.2022 в 10:16</td>\n",
       "      <td>3</td>\n",
       "      <td>73 м²</td>\n",
       "      <td>NaN</td>\n",
       "      <td>1 из 5</td>\n",
       "      <td>балкон</td>\n",
       "      <td>...</td>\n",
       "      <td>NaN</td>\n",
       "      <td>NaN</td>\n",
       "      <td>NaN</td>\n",
       "      <td>NaN</td>\n",
       "      <td>NaN</td>\n",
       "      <td>NaN</td>\n",
       "      <td>https://avito.ru//sankt-peterburg/kvartiry/3-k...</td>\n",
       "      <td>59.737926, 30.461476</td>\n",
       "      <td>Шушары</td>\n",
       "      <td>Пушкинский</td>\n",
       "    </tr>\n",
       "    <tr>\n",
       "      <th>1</th>\n",
       "      <td>110963888</td>\n",
       "      <td>24000000</td>\n",
       "      <td>Санкт-Петербург, наб. реки Фонтанки, 28</td>\n",
       "      <td>Гостиный двор11–15 мин.Невский проспект11–15 м...</td>\n",
       "      <td>17.10.2022 в 01:22</td>\n",
       "      <td>3</td>\n",
       "      <td>85 м²</td>\n",
       "      <td>NaN</td>\n",
       "      <td>3 из 5</td>\n",
       "      <td>NaN</td>\n",
       "      <td>...</td>\n",
       "      <td>NaN</td>\n",
       "      <td>NaN</td>\n",
       "      <td>NaN</td>\n",
       "      <td>NaN</td>\n",
       "      <td>NaN</td>\n",
       "      <td>NaN</td>\n",
       "      <td>https://avito.ru//sankt-peterburg/kvartiry/3-k...</td>\n",
       "      <td>59.939086, 30.343213</td>\n",
       "      <td>Литейный округ</td>\n",
       "      <td>Центральный</td>\n",
       "    </tr>\n",
       "    <tr>\n",
       "      <th>2</th>\n",
       "      <td>128257189</td>\n",
       "      <td>12500000</td>\n",
       "      <td>Санкт-Петербург, Камышовая ул., 3к1</td>\n",
       "      <td>Комендантский проспект6–10 мин.Старая деревняо...</td>\n",
       "      <td>22.10.2022 в 10:29</td>\n",
       "      <td>2</td>\n",
       "      <td>55 м²</td>\n",
       "      <td>NaN</td>\n",
       "      <td>8 из 12</td>\n",
       "      <td>лоджия</td>\n",
       "      <td>...</td>\n",
       "      <td>нет</td>\n",
       "      <td>NaN</td>\n",
       "      <td>NaN</td>\n",
       "      <td>NaN</td>\n",
       "      <td>NaN</td>\n",
       "      <td>NaN</td>\n",
       "      <td>https://avito.ru//sankt-peterburg/kvartiry/2-k...</td>\n",
       "      <td>60.005504, 30.254046</td>\n",
       "      <td>округ Озеро Долгое</td>\n",
       "      <td>Приморский</td>\n",
       "    </tr>\n",
       "    <tr>\n",
       "      <th>3</th>\n",
       "      <td>139963851</td>\n",
       "      <td>14200000</td>\n",
       "      <td>Санкт-Петербург, ул. Беринга, 1</td>\n",
       "      <td>Приморскаяот 31 мин.Василеостровскаяот 31 мин.</td>\n",
       "      <td>21.10.2022 в 16:53</td>\n",
       "      <td>1</td>\n",
       "      <td>50 м²</td>\n",
       "      <td>32 м²</td>\n",
       "      <td>17 из 17</td>\n",
       "      <td>балкон</td>\n",
       "      <td>...</td>\n",
       "      <td>1</td>\n",
       "      <td>NaN</td>\n",
       "      <td>NaN</td>\n",
       "      <td>NaN</td>\n",
       "      <td>NaN</td>\n",
       "      <td>NaN</td>\n",
       "      <td>https://avito.ru//sankt-peterburg/kvartiry/1-k...</td>\n",
       "      <td>59.935831, 30.249087</td>\n",
       "      <td>округ Гавань</td>\n",
       "      <td>Василеостровский</td>\n",
       "    </tr>\n",
       "    <tr>\n",
       "      <th>4</th>\n",
       "      <td>204005328</td>\n",
       "      <td>5500000</td>\n",
       "      <td>Санкт-Петербург, Пулковская ул., 8к2</td>\n",
       "      <td>Звёздная6–10 мин.Купчино21–30 мин.Московская21...</td>\n",
       "      <td>16.10.2022 в 03:52</td>\n",
       "      <td>студия</td>\n",
       "      <td>26 м²</td>\n",
       "      <td>14 м²</td>\n",
       "      <td>9 из 25</td>\n",
       "      <td>балкон</td>\n",
       "      <td>...</td>\n",
       "      <td>NaN</td>\n",
       "      <td>NaN</td>\n",
       "      <td>NaN</td>\n",
       "      <td>NaN</td>\n",
       "      <td>NaN</td>\n",
       "      <td>NaN</td>\n",
       "      <td>https://avito.ru//sankt-peterburg/kvartiry/kva...</td>\n",
       "      <td>59.838028, 30.352169</td>\n",
       "      <td>округ Звёздное</td>\n",
       "      <td>Московский</td>\n",
       "    </tr>\n",
       "  </tbody>\n",
       "</table>\n",
       "<p>5 rows × 38 columns</p>\n",
       "</div>"
      ],
      "text/plain": [
       "          Id     Price                                            Address  \\\n",
       "0  105724302   9800000  Санкт-Петербург, Пушкинский р-н, пос. Шушары, ...   \n",
       "1  110963888  24000000            Санкт-Петербург, наб. реки Фонтанки, 28   \n",
       "2  128257189  12500000                Санкт-Петербург, Камышовая ул., 3к1   \n",
       "3  139963851  14200000                    Санкт-Петербург, ул. Беринга, 1   \n",
       "4  204005328   5500000               Санкт-Петербург, Пулковская ул., 8к2   \n",
       "\n",
       "                                      Nearest_Subway    Publication_date  \\\n",
       "0                                                NaN  17.10.2022 в 10:16   \n",
       "1  Гостиный двор11–15 мин.Невский проспект11–15 м...  17.10.2022 в 01:22   \n",
       "2  Комендантский проспект6–10 мин.Старая деревняо...  22.10.2022 в 10:29   \n",
       "3     Приморскаяот 31 мин.Василеостровскаяот 31 мин.  21.10.2022 в 16:53   \n",
       "4  Звёздная6–10 мин.Купчино21–30 мин.Московская21...  16.10.2022 в 03:52   \n",
       "\n",
       "  Num_of_rooms Total_area Living_space     Floor Balcony  ... Cargo_lift  \\\n",
       "0            3      73 м²          NaN    1 из 5  балкон  ...        NaN   \n",
       "1            3      85 м²          NaN    3 из 5     NaN  ...        NaN   \n",
       "2            2      55 м²          NaN   8 из 12  лоджия  ...        нет   \n",
       "3            1      50 м²        32 м²  17 из 17  балкон  ...          1   \n",
       "4       студия      26 м²        14 м²   9 из 25  балкон  ...        NaN   \n",
       "\n",
       "  New_building_name Building Official_developer Participation_type Due_date  \\\n",
       "0               NaN      NaN                NaN                NaN      NaN   \n",
       "1               NaN      NaN                NaN                NaN      NaN   \n",
       "2               NaN      NaN                NaN                NaN      NaN   \n",
       "3               NaN      NaN                NaN                NaN      NaN   \n",
       "4               NaN      NaN                NaN                NaN      NaN   \n",
       "\n",
       "                                                Link           Coordinates  \\\n",
       "0  https://avito.ru//sankt-peterburg/kvartiry/3-k...  59.737926, 30.461476   \n",
       "1  https://avito.ru//sankt-peterburg/kvartiry/3-k...  59.939086, 30.343213   \n",
       "2  https://avito.ru//sankt-peterburg/kvartiry/2-k...  60.005504, 30.254046   \n",
       "3  https://avito.ru//sankt-peterburg/kvartiry/1-k...  59.935831, 30.249087   \n",
       "4  https://avito.ru//sankt-peterburg/kvartiry/kva...  59.838028, 30.352169   \n",
       "\n",
       "                  WMO              Area  \n",
       "0              Шушары        Пушкинский  \n",
       "1      Литейный округ       Центральный  \n",
       "2  округ Озеро Долгое        Приморский  \n",
       "3        округ Гавань  Василеостровский  \n",
       "4      округ Звёздное        Московский  \n",
       "\n",
       "[5 rows x 38 columns]"
      ]
     },
     "execution_count": 6,
     "metadata": {},
     "output_type": "execute_result"
    }
   ],
   "source": [
    "df.head()"
   ]
  },
  {
   "cell_type": "code",
   "execution_count": 7,
   "id": "39bc5ce7",
   "metadata": {},
   "outputs": [
    {
     "data": {
      "text/html": [
       "<div>\n",
       "<style scoped>\n",
       "    .dataframe tbody tr th:only-of-type {\n",
       "        vertical-align: middle;\n",
       "    }\n",
       "\n",
       "    .dataframe tbody tr th {\n",
       "        vertical-align: top;\n",
       "    }\n",
       "\n",
       "    .dataframe thead th {\n",
       "        text-align: right;\n",
       "    }\n",
       "</style>\n",
       "<table border=\"1\" class=\"dataframe\">\n",
       "  <thead>\n",
       "    <tr style=\"text-align: right;\">\n",
       "      <th></th>\n",
       "      <th>Id</th>\n",
       "      <th>Price</th>\n",
       "      <th>Address</th>\n",
       "      <th>Nearest_Subway</th>\n",
       "      <th>Publication_date</th>\n",
       "      <th>Num_of_rooms</th>\n",
       "      <th>Total_area</th>\n",
       "      <th>Living_space</th>\n",
       "      <th>Floor</th>\n",
       "      <th>Balcony</th>\n",
       "      <th>...</th>\n",
       "      <th>Cargo_lift</th>\n",
       "      <th>New_building_name</th>\n",
       "      <th>Building</th>\n",
       "      <th>Official_developer</th>\n",
       "      <th>Participation_type</th>\n",
       "      <th>Due_date</th>\n",
       "      <th>Link</th>\n",
       "      <th>Coordinates</th>\n",
       "      <th>WMO</th>\n",
       "      <th>Area</th>\n",
       "    </tr>\n",
       "  </thead>\n",
       "  <tbody>\n",
       "    <tr>\n",
       "      <th>20230</th>\n",
       "      <td>2666088270</td>\n",
       "      <td>8047000</td>\n",
       "      <td>Санкт-Петербург, пр-т Просвещения</td>\n",
       "      <td>Проспект Просвещенияот 31 мин.Озеркиот 31 мин....</td>\n",
       "      <td>24.10.2022 в 08:51</td>\n",
       "      <td>2</td>\n",
       "      <td>58.1 м²</td>\n",
       "      <td>NaN</td>\n",
       "      <td>11 из 25</td>\n",
       "      <td>балкон</td>\n",
       "      <td>...</td>\n",
       "      <td>NaN</td>\n",
       "      <td>NaN</td>\n",
       "      <td>NaN</td>\n",
       "      <td>NaN</td>\n",
       "      <td>NaN</td>\n",
       "      <td>NaN</td>\n",
       "      <td>https://avito.ru//sankt-peterburg/kvartiry/2-k...</td>\n",
       "      <td>60.045763, 30.369192</td>\n",
       "      <td>округ № 15</td>\n",
       "      <td>Выборгский</td>\n",
       "    </tr>\n",
       "    <tr>\n",
       "      <th>20231</th>\n",
       "      <td>2666090487</td>\n",
       "      <td>6400000</td>\n",
       "      <td>пр-т Ветеранов, стр. 5.2</td>\n",
       "      <td>р-н Красносельский</td>\n",
       "      <td>24.10.2022 в 16:19</td>\n",
       "      <td>1</td>\n",
       "      <td>31.7 м²</td>\n",
       "      <td>NaN</td>\n",
       "      <td>2 из 4</td>\n",
       "      <td>балкон</td>\n",
       "      <td>...</td>\n",
       "      <td>NaN</td>\n",
       "      <td>ЖК «Солнечный город. Резиденции»</td>\n",
       "      <td>Корпус 5.2</td>\n",
       "      <td>ООО «Специализированный застройщик «СЭТЛ ИНВЕСТ»</td>\n",
       "      <td>ДДУ по ФЗ 214</td>\n",
       "      <td>4 кв. 2022 года</td>\n",
       "      <td>https://avito.ru//sankt-peterburg/kvartiry/1-k...</td>\n",
       "      <td>59.846143, 30.250228</td>\n",
       "      <td>округ Дачное</td>\n",
       "      <td>Кировский</td>\n",
       "    </tr>\n",
       "    <tr>\n",
       "      <th>20232</th>\n",
       "      <td>2666487955</td>\n",
       "      <td>10500000</td>\n",
       "      <td>Санкт-Петербург, 1-й Рабфаковский пер., 6</td>\n",
       "      <td>Пролетарская16–20 мин.Обухово21–30 мин.Ломонос...</td>\n",
       "      <td>24.10.2022 в 13:33</td>\n",
       "      <td>2</td>\n",
       "      <td>68 м²</td>\n",
       "      <td>NaN</td>\n",
       "      <td>1 из 5</td>\n",
       "      <td>NaN</td>\n",
       "      <td>...</td>\n",
       "      <td>NaN</td>\n",
       "      <td>NaN</td>\n",
       "      <td>NaN</td>\n",
       "      <td>NaN</td>\n",
       "      <td>NaN</td>\n",
       "      <td>NaN</td>\n",
       "      <td>https://avito.ru//sankt-peterburg/kvartiry/2-k...</td>\n",
       "      <td>59.858119, 30.475121</td>\n",
       "      <td>Обуховский округ</td>\n",
       "      <td>Невский</td>\n",
       "    </tr>\n",
       "    <tr>\n",
       "      <th>20233</th>\n",
       "      <td>2666654791</td>\n",
       "      <td>9900000</td>\n",
       "      <td>Измайловский б-р, уч. 4</td>\n",
       "      <td>Балтийская21–30 мин.Московские ворота21–30 мин...</td>\n",
       "      <td>24.10.2022 в 11:05</td>\n",
       "      <td>1</td>\n",
       "      <td>33 м²</td>\n",
       "      <td>12 м²</td>\n",
       "      <td>5 из 18</td>\n",
       "      <td>лоджия</td>\n",
       "      <td>...</td>\n",
       "      <td>2</td>\n",
       "      <td>Квартал «Галактика»</td>\n",
       "      <td>Корпус 9.3, стр. 2 (уч. 4)</td>\n",
       "      <td>ООО «Специализированный Застройщик «Эталон Гал...</td>\n",
       "      <td>ДДУ по ФЗ 214</td>\n",
       "      <td>4 кв. 2022 года</td>\n",
       "      <td>https://avito.ru//sankt-peterburg/kvartiry/1-k...</td>\n",
       "      <td>59.903968, 30.306822</td>\n",
       "      <td>округ Измайловское</td>\n",
       "      <td>Адмиралтейский</td>\n",
       "    </tr>\n",
       "    <tr>\n",
       "      <th>20234</th>\n",
       "      <td>2666736099</td>\n",
       "      <td>15500000</td>\n",
       "      <td>Санкт-Петербург, Суздальское ш., 18к2</td>\n",
       "      <td>Проспект Просвещенияот 31 мин.Парнасот 31 мин....</td>\n",
       "      <td>24.10.2022 в 12:51</td>\n",
       "      <td>2</td>\n",
       "      <td>62 м²</td>\n",
       "      <td>50 м²</td>\n",
       "      <td>8 из 20</td>\n",
       "      <td>балкон</td>\n",
       "      <td>...</td>\n",
       "      <td>2</td>\n",
       "      <td>NaN</td>\n",
       "      <td>NaN</td>\n",
       "      <td>NaN</td>\n",
       "      <td>NaN</td>\n",
       "      <td>NaN</td>\n",
       "      <td>https://avito.ru//sankt-peterburg/kvartiry/2-k...</td>\n",
       "      <td>60.059813, 30.280322</td>\n",
       "      <td>округ Коломяги</td>\n",
       "      <td>Приморский</td>\n",
       "    </tr>\n",
       "  </tbody>\n",
       "</table>\n",
       "<p>5 rows × 38 columns</p>\n",
       "</div>"
      ],
      "text/plain": [
       "               Id     Price                                    Address  \\\n",
       "20230  2666088270   8047000          Санкт-Петербург, пр-т Просвещения   \n",
       "20231  2666090487   6400000                   пр-т Ветеранов, стр. 5.2   \n",
       "20232  2666487955  10500000  Санкт-Петербург, 1-й Рабфаковский пер., 6   \n",
       "20233  2666654791   9900000                    Измайловский б-р, уч. 4   \n",
       "20234  2666736099  15500000      Санкт-Петербург, Суздальское ш., 18к2   \n",
       "\n",
       "                                          Nearest_Subway    Publication_date  \\\n",
       "20230  Проспект Просвещенияот 31 мин.Озеркиот 31 мин....  24.10.2022 в 08:51   \n",
       "20231                                 р-н Красносельский  24.10.2022 в 16:19   \n",
       "20232  Пролетарская16–20 мин.Обухово21–30 мин.Ломонос...  24.10.2022 в 13:33   \n",
       "20233  Балтийская21–30 мин.Московские ворота21–30 мин...  24.10.2022 в 11:05   \n",
       "20234  Проспект Просвещенияот 31 мин.Парнасот 31 мин....  24.10.2022 в 12:51   \n",
       "\n",
       "      Num_of_rooms Total_area Living_space     Floor Balcony  ... Cargo_lift  \\\n",
       "20230            2    58.1 м²          NaN  11 из 25  балкон  ...        NaN   \n",
       "20231            1    31.7 м²          NaN    2 из 4  балкон  ...        NaN   \n",
       "20232            2      68 м²          NaN    1 из 5     NaN  ...        NaN   \n",
       "20233            1      33 м²        12 м²   5 из 18  лоджия  ...          2   \n",
       "20234            2      62 м²        50 м²   8 из 20  балкон  ...          2   \n",
       "\n",
       "                      New_building_name                    Building  \\\n",
       "20230                               NaN                         NaN   \n",
       "20231  ЖК «Солнечный город. Резиденции»                  Корпус 5.2   \n",
       "20232                               NaN                         NaN   \n",
       "20233               Квартал «Галактика»  Корпус 9.3, стр. 2 (уч. 4)   \n",
       "20234                               NaN                         NaN   \n",
       "\n",
       "                                      Official_developer Participation_type  \\\n",
       "20230                                                NaN                NaN   \n",
       "20231   ООО «Специализированный застройщик «СЭТЛ ИНВЕСТ»      ДДУ по ФЗ 214   \n",
       "20232                                                NaN                NaN   \n",
       "20233  ООО «Специализированный Застройщик «Эталон Гал...      ДДУ по ФЗ 214   \n",
       "20234                                                NaN                NaN   \n",
       "\n",
       "              Due_date                                               Link  \\\n",
       "20230              NaN  https://avito.ru//sankt-peterburg/kvartiry/2-k...   \n",
       "20231  4 кв. 2022 года  https://avito.ru//sankt-peterburg/kvartiry/1-k...   \n",
       "20232              NaN  https://avito.ru//sankt-peterburg/kvartiry/2-k...   \n",
       "20233  4 кв. 2022 года  https://avito.ru//sankt-peterburg/kvartiry/1-k...   \n",
       "20234              NaN  https://avito.ru//sankt-peterburg/kvartiry/2-k...   \n",
       "\n",
       "                Coordinates                 WMO            Area  \n",
       "20230  60.045763, 30.369192          округ № 15      Выборгский  \n",
       "20231  59.846143, 30.250228        округ Дачное       Кировский  \n",
       "20232  59.858119, 30.475121    Обуховский округ         Невский  \n",
       "20233  59.903968, 30.306822  округ Измайловское  Адмиралтейский  \n",
       "20234  60.059813, 30.280322      округ Коломяги      Приморский  \n",
       "\n",
       "[5 rows x 38 columns]"
      ]
     },
     "execution_count": 7,
     "metadata": {},
     "output_type": "execute_result"
    }
   ],
   "source": [
    "df.tail()"
   ]
  },
  {
   "cell_type": "code",
   "execution_count": 8,
   "id": "627ceb15",
   "metadata": {},
   "outputs": [
    {
     "data": {
      "text/plain": [
       "Index(['Id', 'Price', 'Address', 'Nearest_Subway', 'Publication_date',\n",
       "       'Num_of_rooms', 'Total_area', 'Living_space', 'Floor', 'Balcony',\n",
       "       'Room_type', 'Ceiling_height', 'Bathroom', 'Windows', 'Repair',\n",
       "       'Furniture', 'Warm_floor', 'Decoration', 'Appliances', 'Sale_method',\n",
       "       'Deal_type', 'House_type', 'Year_build', 'Floors_in_house',\n",
       "       'Passenger_lift', 'Parking', 'In_house', 'Yard', 'Cargo_lift',\n",
       "       'New_building_name', 'Building', 'Official_developer',\n",
       "       'Participation_type', 'Due_date', 'Link', 'Coordinates', 'WMO', 'Area'],\n",
       "      dtype='object')"
      ]
     },
     "execution_count": 8,
     "metadata": {},
     "output_type": "execute_result"
    }
   ],
   "source": [
    "df.columns"
   ]
  },
  {
   "cell_type": "code",
   "execution_count": 9,
   "id": "f64e17ea",
   "metadata": {},
   "outputs": [],
   "source": [
    "#сразу сохраним наш датафрейм с новомыми фичами в отдельный файл\n",
    "df.to_csv('df_english.csv', index=False) "
   ]
  },
  {
   "cell_type": "code",
   "execution_count": 10,
   "id": "5e4b9838",
   "metadata": {},
   "outputs": [
    {
     "data": {
      "text/plain": [
       "(20235, 38)"
      ]
     },
     "execution_count": 10,
     "metadata": {},
     "output_type": "execute_result"
    }
   ],
   "source": [
    "# смотрим на общее количество наших данных, сколько строк и столбцов содержится. \n",
    "df.shape"
   ]
  },
  {
   "cell_type": "code",
   "execution_count": 11,
   "id": "d729a3d1",
   "metadata": {},
   "outputs": [
    {
     "name": "stdout",
     "output_type": "stream",
     "text": [
      "<class 'pandas.core.frame.DataFrame'>\n",
      "RangeIndex: 20235 entries, 0 to 20234\n",
      "Data columns (total 38 columns):\n",
      " #   Column              Non-Null Count  Dtype  \n",
      "---  ------              --------------  -----  \n",
      " 0   Id                  20235 non-null  int64  \n",
      " 1   Price               20235 non-null  int64  \n",
      " 2   Address             20231 non-null  object \n",
      " 3   Nearest_Subway      18219 non-null  object \n",
      " 4   Publication_date    20235 non-null  object \n",
      " 5   Num_of_rooms        20222 non-null  object \n",
      " 6   Total_area          20222 non-null  object \n",
      " 7   Living_space        17389 non-null  object \n",
      " 8   Floor               20222 non-null  object \n",
      " 9   Balcony             13758 non-null  object \n",
      " 10  Room_type           9767 non-null   object \n",
      " 11  Ceiling_height      10107 non-null  object \n",
      " 12  Bathroom            15669 non-null  object \n",
      " 13  Windows             13277 non-null  object \n",
      " 14  Repair              12817 non-null  object \n",
      " 15  Furniture           4709 non-null   object \n",
      " 16  Warm_floor          1269 non-null   object \n",
      " 17  Decoration          6911 non-null   object \n",
      " 18  Appliances          3385 non-null   object \n",
      " 19  Sale_method         14787 non-null  object \n",
      " 20  Deal_type           9081 non-null   object \n",
      " 21  House_type          20222 non-null  object \n",
      " 22  Year_build          9517 non-null   float64\n",
      " 23  Floors_in_house     20222 non-null  float64\n",
      " 24  Passenger_lift      10298 non-null  object \n",
      " 25  Parking             9414 non-null   object \n",
      " 26  In_house            4645 non-null   object \n",
      " 27  Yard                9021 non-null   object \n",
      " 28  Cargo_lift          8230 non-null   object \n",
      " 29  New_building_name   6705 non-null   object \n",
      " 30  Building            5505 non-null   object \n",
      " 31  Official_developer  6631 non-null   object \n",
      " 32  Participation_type  6631 non-null   object \n",
      " 33  Due_date            6631 non-null   object \n",
      " 34  Link                20235 non-null  object \n",
      " 35  Coordinates         20235 non-null  object \n",
      " 36  WMO                 19903 non-null  object \n",
      " 37  Area                18805 non-null  object \n",
      "dtypes: float64(2), int64(2), object(34)\n",
      "memory usage: 5.9+ MB\n"
     ]
    }
   ],
   "source": [
    "# посмотрим общую информацию о наших данных\n",
    "df.info()"
   ]
  },
  {
   "cell_type": "code",
   "execution_count": 12,
   "id": "9a55b269",
   "metadata": {},
   "outputs": [
    {
     "data": {
      "text/html": [
       "<div>\n",
       "<style scoped>\n",
       "    .dataframe tbody tr th:only-of-type {\n",
       "        vertical-align: middle;\n",
       "    }\n",
       "\n",
       "    .dataframe tbody tr th {\n",
       "        vertical-align: top;\n",
       "    }\n",
       "\n",
       "    .dataframe thead th {\n",
       "        text-align: right;\n",
       "    }\n",
       "</style>\n",
       "<table border=\"1\" class=\"dataframe\">\n",
       "  <thead>\n",
       "    <tr style=\"text-align: right;\">\n",
       "      <th></th>\n",
       "      <th>Total</th>\n",
       "      <th>Percent</th>\n",
       "    </tr>\n",
       "  </thead>\n",
       "  <tbody>\n",
       "    <tr>\n",
       "      <th>Warm_floor</th>\n",
       "      <td>18966</td>\n",
       "      <td>93.73</td>\n",
       "    </tr>\n",
       "    <tr>\n",
       "      <th>Appliances</th>\n",
       "      <td>16850</td>\n",
       "      <td>83.27</td>\n",
       "    </tr>\n",
       "    <tr>\n",
       "      <th>In_house</th>\n",
       "      <td>15590</td>\n",
       "      <td>77.04</td>\n",
       "    </tr>\n",
       "    <tr>\n",
       "      <th>Furniture</th>\n",
       "      <td>15526</td>\n",
       "      <td>76.73</td>\n",
       "    </tr>\n",
       "    <tr>\n",
       "      <th>Building</th>\n",
       "      <td>14730</td>\n",
       "      <td>72.79</td>\n",
       "    </tr>\n",
       "    <tr>\n",
       "      <th>Due_date</th>\n",
       "      <td>13604</td>\n",
       "      <td>67.23</td>\n",
       "    </tr>\n",
       "    <tr>\n",
       "      <th>Participation_type</th>\n",
       "      <td>13604</td>\n",
       "      <td>67.23</td>\n",
       "    </tr>\n",
       "    <tr>\n",
       "      <th>Official_developer</th>\n",
       "      <td>13604</td>\n",
       "      <td>67.23</td>\n",
       "    </tr>\n",
       "    <tr>\n",
       "      <th>New_building_name</th>\n",
       "      <td>13530</td>\n",
       "      <td>66.86</td>\n",
       "    </tr>\n",
       "    <tr>\n",
       "      <th>Decoration</th>\n",
       "      <td>13324</td>\n",
       "      <td>65.85</td>\n",
       "    </tr>\n",
       "    <tr>\n",
       "      <th>Cargo_lift</th>\n",
       "      <td>12005</td>\n",
       "      <td>59.33</td>\n",
       "    </tr>\n",
       "    <tr>\n",
       "      <th>Yard</th>\n",
       "      <td>11214</td>\n",
       "      <td>55.42</td>\n",
       "    </tr>\n",
       "    <tr>\n",
       "      <th>Deal_type</th>\n",
       "      <td>11154</td>\n",
       "      <td>55.12</td>\n",
       "    </tr>\n",
       "    <tr>\n",
       "      <th>Parking</th>\n",
       "      <td>10821</td>\n",
       "      <td>53.48</td>\n",
       "    </tr>\n",
       "    <tr>\n",
       "      <th>Year_build</th>\n",
       "      <td>10718</td>\n",
       "      <td>52.97</td>\n",
       "    </tr>\n",
       "    <tr>\n",
       "      <th>Room_type</th>\n",
       "      <td>10468</td>\n",
       "      <td>51.73</td>\n",
       "    </tr>\n",
       "    <tr>\n",
       "      <th>Ceiling_height</th>\n",
       "      <td>10128</td>\n",
       "      <td>50.05</td>\n",
       "    </tr>\n",
       "    <tr>\n",
       "      <th>Passenger_lift</th>\n",
       "      <td>9937</td>\n",
       "      <td>49.11</td>\n",
       "    </tr>\n",
       "    <tr>\n",
       "      <th>Repair</th>\n",
       "      <td>7418</td>\n",
       "      <td>36.66</td>\n",
       "    </tr>\n",
       "    <tr>\n",
       "      <th>Windows</th>\n",
       "      <td>6958</td>\n",
       "      <td>34.39</td>\n",
       "    </tr>\n",
       "    <tr>\n",
       "      <th>Balcony</th>\n",
       "      <td>6477</td>\n",
       "      <td>32.01</td>\n",
       "    </tr>\n",
       "    <tr>\n",
       "      <th>Sale_method</th>\n",
       "      <td>5448</td>\n",
       "      <td>26.92</td>\n",
       "    </tr>\n",
       "    <tr>\n",
       "      <th>Bathroom</th>\n",
       "      <td>4566</td>\n",
       "      <td>22.56</td>\n",
       "    </tr>\n",
       "    <tr>\n",
       "      <th>Living_space</th>\n",
       "      <td>2846</td>\n",
       "      <td>14.06</td>\n",
       "    </tr>\n",
       "    <tr>\n",
       "      <th>Nearest_Subway</th>\n",
       "      <td>2016</td>\n",
       "      <td>9.96</td>\n",
       "    </tr>\n",
       "    <tr>\n",
       "      <th>Area</th>\n",
       "      <td>1430</td>\n",
       "      <td>7.07</td>\n",
       "    </tr>\n",
       "    <tr>\n",
       "      <th>WMO</th>\n",
       "      <td>332</td>\n",
       "      <td>1.64</td>\n",
       "    </tr>\n",
       "    <tr>\n",
       "      <th>Floors_in_house</th>\n",
       "      <td>13</td>\n",
       "      <td>0.06</td>\n",
       "    </tr>\n",
       "    <tr>\n",
       "      <th>House_type</th>\n",
       "      <td>13</td>\n",
       "      <td>0.06</td>\n",
       "    </tr>\n",
       "    <tr>\n",
       "      <th>Floor</th>\n",
       "      <td>13</td>\n",
       "      <td>0.06</td>\n",
       "    </tr>\n",
       "    <tr>\n",
       "      <th>Total_area</th>\n",
       "      <td>13</td>\n",
       "      <td>0.06</td>\n",
       "    </tr>\n",
       "    <tr>\n",
       "      <th>Num_of_rooms</th>\n",
       "      <td>13</td>\n",
       "      <td>0.06</td>\n",
       "    </tr>\n",
       "    <tr>\n",
       "      <th>Address</th>\n",
       "      <td>4</td>\n",
       "      <td>0.02</td>\n",
       "    </tr>\n",
       "  </tbody>\n",
       "</table>\n",
       "</div>"
      ],
      "text/plain": [
       "                    Total  Percent\n",
       "Warm_floor          18966    93.73\n",
       "Appliances          16850    83.27\n",
       "In_house            15590    77.04\n",
       "Furniture           15526    76.73\n",
       "Building            14730    72.79\n",
       "Due_date            13604    67.23\n",
       "Participation_type  13604    67.23\n",
       "Official_developer  13604    67.23\n",
       "New_building_name   13530    66.86\n",
       "Decoration          13324    65.85\n",
       "Cargo_lift          12005    59.33\n",
       "Yard                11214    55.42\n",
       "Deal_type           11154    55.12\n",
       "Parking             10821    53.48\n",
       "Year_build          10718    52.97\n",
       "Room_type           10468    51.73\n",
       "Ceiling_height      10128    50.05\n",
       "Passenger_lift       9937    49.11\n",
       "Repair               7418    36.66\n",
       "Windows              6958    34.39\n",
       "Balcony              6477    32.01\n",
       "Sale_method          5448    26.92\n",
       "Bathroom             4566    22.56\n",
       "Living_space         2846    14.06\n",
       "Nearest_Subway       2016     9.96\n",
       "Area                 1430     7.07\n",
       "WMO                   332     1.64\n",
       "Floors_in_house        13     0.06\n",
       "House_type             13     0.06\n",
       "Floor                  13     0.06\n",
       "Total_area             13     0.06\n",
       "Num_of_rooms           13     0.06\n",
       "Address                 4     0.02"
      ]
     },
     "execution_count": 12,
     "metadata": {},
     "output_type": "execute_result"
    }
   ],
   "source": [
    "# посмотрим сколько всего пропусков по всем столбцам.\n",
    "# составим процентный список пропущенных значений\n",
    "# упорядочем все сверху вниз\n",
    "def missingValuesInfo(df):\n",
    "    total = df.isnull().sum().sort_values(ascending = False)\n",
    "    percent = round(df.isnull().sum().sort_values(ascending = False) / len(df)*100, 2)\n",
    "    temp = pd.concat([total, percent], axis=1, keys=['Total', 'Percent'])\n",
    "    return temp.loc[(temp['Total'] > 0)]\n",
    "\n",
    "missingValuesInfo(df)"
   ]
  },
  {
   "cell_type": "markdown",
   "id": "468243d5",
   "metadata": {},
   "source": [
    "Видно, что пропусков содержится очень много, с большей долей вероятности можно сделать предположение о том, что такая ситуация сложилаь в виду того, что продавцы сайта avito не всегда заполняют те или иные параметры в объявлении."
   ]
  },
  {
   "cell_type": "code",
   "execution_count": 13,
   "id": "da55a717",
   "metadata": {},
   "outputs": [
    {
     "data": {
      "text/plain": [
       "<AxesSubplot:>"
      ]
     },
     "execution_count": 13,
     "metadata": {},
     "output_type": "execute_result"
    },
    {
     "data": {
      "image/png": "[encoded data removed]",
      "text/plain": [
       "<Figure size 640x480 with 2 Axes>"
      ]
     },
     "metadata": {},
     "output_type": "display_data"
    }
   ],
   "source": [
    "# выведем все это в виде графической таблицы.\n",
    "cols = df.columns[:]\n",
    "# определяем цвета \n",
    "# желтый - пропущенные данные, синий - не пропущенные\n",
    "colours = ['#000099', '#ffff00'] \n",
    "sns.heatmap(df[cols].isnull(), cmap=sns.color_palette(colours))"
   ]
  },
  {
   "cell_type": "code",
   "execution_count": 14,
   "id": "b9f51a71",
   "metadata": {},
   "outputs": [
    {
     "name": "stdout",
     "output_type": "stream",
     "text": [
      "Area - 1430 none entries\n",
      "Количество полностью пустых строк = 0\n"
     ]
    }
   ],
   "source": [
    "#Посмотрим есть ли у нас полностью пропущенные строки\n",
    "def count_none():\n",
    "    for col in df.columns:\n",
    "        nasum = df[col].isna().sum()\n",
    "    print(f'{col} - {nasum} none entries')\n",
    "count_none()\n",
    "none_rows = np.all(df.isna().values, axis=1)\n",
    "num_none_rows = none_rows.sum()\n",
    "print(f'Количество полностью пустых строк = {num_none_rows}')\n",
    "     "
   ]
  },
  {
   "cell_type": "markdown",
   "id": "a9c55fa9",
   "metadata": {},
   "source": [
    "Как видно полностью пустые строки у нас отсутствуют это уже хорошо"
   ]
  },
  {
   "cell_type": "code",
   "execution_count": 15,
   "id": "df9c9022",
   "metadata": {},
   "outputs": [
    {
     "data": {
      "text/plain": [
       "0"
      ]
     },
     "execution_count": 15,
     "metadata": {},
     "output_type": "execute_result"
    }
   ],
   "source": [
    "#посмотрим имеются ли у нас повторяющиеся записи\n",
    "df.duplicated().sum()"
   ]
  },
  {
   "cell_type": "code",
   "execution_count": 16,
   "id": "3e637ca4",
   "metadata": {},
   "outputs": [
    {
     "data": {
      "text/plain": [
       "0.36258957252285645"
      ]
     },
     "execution_count": 16,
     "metadata": {},
     "output_type": "execute_result"
    }
   ],
   "source": [
    "#дубли по адресу\n",
    "df['Address'].nunique() / len(df)"
   ]
  },
  {
   "cell_type": "markdown",
   "id": "a951b10c",
   "metadata": {},
   "source": [
    "Более 63% объектов имеют повторяющиеся значения в адресе. Другими словами, в среднем, каждый адрес упоминается в датафрейме 3 раза.\n",
    "\n",
    "Тем не менее, рассмотрение дубликатов только по одному признаку представляется нецелесообразным. Для повышения вероятности нахождения дубликатов рассмотрим их наличие в 3х столбцах - Адрес, Общая_площадь, Этаж."
   ]
  },
  {
   "cell_type": "code",
   "execution_count": 17,
   "id": "d6fcf068",
   "metadata": {},
   "outputs": [
    {
     "data": {
      "text/plain": [
       "0.033110946380034596"
      ]
     },
     "execution_count": 17,
     "metadata": {},
     "output_type": "execute_result"
    }
   ],
   "source": [
    "df[['Address', 'Total_area', 'Floor']].duplicated().sum() / len(df)"
   ]
  },
  {
   "cell_type": "markdown",
   "id": "e1235469",
   "metadata": {},
   "source": [
    "Чуть более 3% данных попадают под указанный критерий, что может расцениваться как правдоподоный результат."
   ]
  },
  {
   "cell_type": "code",
   "execution_count": 18,
   "id": "2d12ba56",
   "metadata": {},
   "outputs": [
    {
     "data": {
      "text/plain": [
       "Id                    20235\n",
       "Price                  7266\n",
       "Address                7337\n",
       "Nearest_Subway         2269\n",
       "Publication_date       7690\n",
       "Num_of_rooms             12\n",
       "Total_area             1535\n",
       "Living_space            942\n",
       "Floor                   433\n",
       "Balcony                   3\n",
       "Room_type                 3\n",
       "Ceiling_height           89\n",
       "Bathroom                  3\n",
       "Windows                   7\n",
       "Repair                    4\n",
       "Furniture                 7\n",
       "Warm_floor                1\n",
       "Decoration                3\n",
       "Appliances               38\n",
       "Sale_method               5\n",
       "Deal_type                 6\n",
       "House_type                6\n",
       "Year_build              211\n",
       "Floors_in_house          36\n",
       "Passenger_lift            5\n",
       "Parking                  15\n",
       "In_house                  7\n",
       "Yard                      7\n",
       "Cargo_lift                5\n",
       "New_building_name       283\n",
       "Building                501\n",
       "Official_developer      233\n",
       "Participation_type        3\n",
       "Due_date                 20\n",
       "Link                  20235\n",
       "Coordinates            6840\n",
       "WMO                     139\n",
       "Area                     18\n",
       "dtype: int64"
      ]
     },
     "execution_count": 18,
     "metadata": {},
     "output_type": "execute_result"
    }
   ],
   "source": [
    "# посмотрим на количество уникальных значений по всем фичам\n",
    "df.nunique()"
   ]
  },
  {
   "cell_type": "markdown",
   "id": "c0ce14e0",
   "metadata": {},
   "source": [
    "Сразу смотрим, какие именно уникальные значения содержаться в фичах, которые нас интересуют. Нас будут интересовать следующие фичи:\n",
    "- `Balcony`\n",
    "- `Room_type`\n",
    "- `Bathroom`\n",
    "- `Yard`\n",
    "- `Repair`\n",
    "- `Furniture`\n",
    "- `Decoration`\n",
    "- `House_type`\n",
    "- `Passenger_lift`\n",
    "- `Cargo_lift`\n",
    "- `Participation_type`\n",
    "- `WMO`\n",
    "- `Area`\n"
   ]
  },
  {
   "cell_type": "code",
   "execution_count": 19,
   "id": "73171d89",
   "metadata": {},
   "outputs": [
    {
     "name": "stdout",
     "output_type": "stream",
     "text": [
      "Balcony: ['балкон' 'лоджия' 'балкон, лоджия']\n",
      "===========================================================================\n",
      "Room_type: ['изолированные' 'изолированные, смежные' 'смежные']\n",
      "===========================================================================\n",
      "Bathroom: ['раздельный' 'совмещенный' 'совмещенный, раздельный']\n",
      "===========================================================================\n",
      "Yard: ['детская площадка' 'закрытая территория'\n",
      " 'закрытая территория, детская площадка'\n",
      " 'детская площадка, спортивная площадка'\n",
      " 'закрытая территория, детская площадка, спортивная площадка'\n",
      " 'спортивная площадка' 'закрытая территория, спортивная площадка']\n",
      "===========================================================================\n",
      "Repair: ['косметический' 'дизайнерский' 'требует ремонта' 'евро']\n",
      "===========================================================================\n",
      "Furniture: ['кухня' 'кухня, хранение одежды, спальные места' 'кухня, спальные места'\n",
      " 'хранение одежды' 'кухня, хранение одежды' 'спальные места'\n",
      " 'хранение одежды, спальные места']\n",
      "===========================================================================\n",
      "Decoration: ['чистовая' 'предчистовая' 'без отделки']\n",
      "===========================================================================\n",
      "House_type: ['кирпичный' 'панельный' 'монолитный' 'монолитно-кирпичный' 'блочный'\n",
      " 'деревянный']\n",
      "===========================================================================\n",
      "Passenger_lift: ['2' '1' '3' 'нет' '4']\n",
      "===========================================================================\n",
      "Cargo_lift: ['нет' '1' '2' '4' '3']\n",
      "===========================================================================\n",
      "Participation_type: ['другое' 'ДДУ по ФЗ 214' 'ЖСК']\n",
      "===========================================================================\n",
      "WMO: ['Шушары' 'Литейный округ' 'округ Озеро Долгое' 'округ Гавань'\n",
      " 'округ Звёздное' 'округ Волковское' 'Южно-Приморский округ'\n",
      " 'округ Коломяги' 'округ Смольнинское' 'Владимирский округ'\n",
      " 'округ Московская застава' 'округ Ульянка' 'округ Красненькая речка'\n",
      " 'округ Морской' 'округ Сергиевское' 'округ Сампсониевское'\n",
      " 'Невский округ' 'округ Пороховые' 'округ Пискарёвка' 'округ № 65'\n",
      " 'округ Светлановское' 'округ Юнтолово' 'округ Ланское' 'округ Малая Охта'\n",
      " 'Народный округ' 'округ № 15' 'округ Правобережный'\n",
      " 'округ Комендантский аэродром' 'округ Семёновский' 'Колпино'\n",
      " 'округ Гражданка' 'округ Аптекарский остров' 'Финляндский округ'\n",
      " 'Парголово' 'округ Сосновая поляна' 'округ Пулковский меридиан'\n",
      " 'округ Лиговка-Ямская' 'Нарвский округ' 'округ Полюстрово'\n",
      " 'округ Оккервиль' 'Петровский округ' 'округ Чкаловское'\n",
      " 'округ Константиновское' 'Александровский округ'\n",
      " 'Аннинское городское поселение' 'округ Невская застава'\n",
      " 'округ Морские ворота' 'Мурино' 'округ Прометей' 'округ Измайловское'\n",
      " 'Виллозское городское поселение' 'Дворцовый округ' 'округ Большая Охта'\n",
      " 'округ Рыбацкое' 'Посадский округ' 'Павловск' 'округ Остров Декабристов'\n",
      " 'округ Горелово' 'Новоселье' 'Балканский округ' 'округ № 54' 'Пушкин'\n",
      " 'округ Урицк' 'Angren' 'Toshkent' 'Сестрорецк' 'округ Гагаринское'\n",
      " 'округ Купчино' 'округ № 7' 'округ Коломна' 'округ Сосновское'\n",
      " 'округ Шувалово-Озерки' 'Красное Село' 'Сенной округ' 'Петергоф'\n",
      " 'округ Северный' 'Душанбе' 'Васильевский округ' 'Металлострой' 'Репино'\n",
      " 'Низинское сельское поселение' 'округ Новоизмайловское' 'округ Княжево'\n",
      " 'округ Дачное' 'округ Ржевка' 'Обуховский округ' 'Адмиралтейский округ'\n",
      " 'Георгиевский округ' 'Зеленогорск' 'Свердловское городское поселение'\n",
      " 'Кронштадт' 'Стрельна' 'округ № 21' 'округ Лахта-Ольгино'\n",
      " 'Бугровское сельское поселение' 'округ Юго-Запад' 'Ивановский округ'\n",
      " 'Песочный' 'округ Автово' 'Понтонный' 'Kadıköy' 'Sector 4' 'Ломоносов'\n",
      " 'Москва' 'округ № 78' 'округ Кронверкское' 'Молодёжное'\n",
      " 'Введенский округ' 'округ Академическое' 'округ № 72'\n",
      " 'Веревское сельское поселение' 'Екатерингофский округ'\n",
      " 'Заневское городское поселение' 'Рахьинское городское поселение' 'None'\n",
      " 'Юкковское сельское поселение' 'Первомайское сельское поселение'\n",
      " 'Всеволожск' 'Серово' 'сельское поселение Село Стрельна'\n",
      " 'Бостандыкский район' 'Лисий Нос' 'Колтушское сельское поселение'\n",
      " 'Гатчина' 'Тельмановское сельское поселение' 'Сертолово' 'Никольское'\n",
      " 'Бугры' 'Աբովյան' 'Рыбное' 'Коммунарское городское поселение'\n",
      " 'Пениковское сельское поселение' 'Белоостров'\n",
      " 'Фёдоровское городское поселение' 'Город Всеволожск' 'Смолячково'\n",
      " 'Сапёрный' 'Тярлево' 'Левашово']\n",
      "===========================================================================\n",
      "Area: ['Пушкинский' 'Центральный' 'Приморский' 'Василеостровский' 'Московский'\n",
      " 'Фрунзенский' 'Красносельский' 'Кировский' 'Выборгский' 'Невский'\n",
      " 'Красногвардейский' 'Калининский' 'Адмиралтейский' 'Колпинский'\n",
      " 'Петроградский' 'Курортный' 'Петродворцовый' 'Кронштадтский']\n",
      "===========================================================================\n",
      "Appliances: ['холодильник, стиральная машина'\n",
      " 'кондиционер, холодильник, стиральная машина'\n",
      " 'холодильник, стиральная машина, посудомоечная машина, водонагреватель'\n",
      " 'холодильник, стиральная машина, посудомоечная машина'\n",
      " 'холодильник, стиральная машина, водонагреватель' 'холодильник'\n",
      " 'посудомоечная машина' 'посудомоечная машина, водонагреватель'\n",
      " 'кондиционер, холодильник, стиральная машина, посудомоечная машина, водонагреватель'\n",
      " 'стиральная машина'\n",
      " 'кондиционер, холодильник, посудомоечная машина, водонагреватель'\n",
      " 'холодильник, водонагреватель' 'водонагреватель'\n",
      " 'холодильник, посудомоечная машина' 'кондиционер'\n",
      " 'стиральная машина, посудомоечная машина'\n",
      " 'кондиционер, холодильник, стиральная машина, посудомоечная машина'\n",
      " 'стиральная машина, посудомоечная машина, водонагреватель'\n",
      " 'кондиционер, водонагреватель'\n",
      " 'кондиционер, холодильник, стиральная машина, водонагреватель'\n",
      " 'кондиционер, холодильник, посудомоечная машина'\n",
      " 'холодильник, посудомоечная машина, водонагреватель'\n",
      " 'стиральная машина, водонагреватель' 'кондиционер, посудомоечная машина'\n",
      " 'холодильник, плита, микроволновка, стиральная машина, посудомоечная машина, телевизор, фен, утюг'\n",
      " 'кондиционер, холодильник, водонагреватель'\n",
      " 'кондиционер, посудомоечная машина, водонагреватель'\n",
      " 'кондиционер, стиральная машина, водонагреватель'\n",
      " 'кондиционер, холодильник'\n",
      " 'холодильник, микроволновка, стиральная машина, посудомоечная машина, телевизор'\n",
      " 'кондиционер, стиральная машина'\n",
      " 'кондиционер, стиральная машина, посудомоечная машина, водонагреватель'\n",
      " 'кондиционер, холодильник, микроволновка, стиральная машина, посудомоечная машина, телевизор'\n",
      " 'кондиционер, холодильник, микроволновка, стиральная машина, телевизор'\n",
      " 'холодильник, стиральная машина, посудомоечная машина, телевизор'\n",
      " 'холодильник, микроволновка, стиральная машина, посудомоечная машина'\n",
      " 'кондиционер, стиральная машина, посудомоечная машина'\n",
      " 'кондиционер, холодильник, плита, микроволновка, стиральная машина, телевизор, фен, утюг']\n",
      "===========================================================================\n",
      "Num_of_rooms: ['3' '2' '1' 'студия' '4' '5' '7' '6' 'свободная планировка' '10 и больше'\n",
      " '8' '9']\n",
      "===========================================================================\n"
     ]
    }
   ],
   "source": [
    "for col in [\n",
    "    \"Balcony\", \"Room_type\", \"Bathroom\", \"Yard\", \n",
    "    \"Repair\", \"Furniture\", \"Decoration\", \"House_type\",\n",
    "    \"Passenger_lift\", \"Cargo_lift\", \"Participation_type\",\n",
    "    \"WMO\", \"Area\", \"Appliances\", \"Num_of_rooms\"\n",
    "]:\n",
    "    print(f'{col}: {df[col][df[col].notna()].unique()}\\n{\"=\"*75}')"
   ]
  },
  {
   "cell_type": "code",
   "execution_count": 20,
   "id": "44745245",
   "metadata": {},
   "outputs": [
    {
     "data": {
      "text/plain": [
       "28"
      ]
     },
     "execution_count": 20,
     "metadata": {},
     "output_type": "execute_result"
    }
   ],
   "source": [
    "sum(df['Num_of_rooms'] == 'свободная планировка')"
   ]
  },
  {
   "cell_type": "code",
   "execution_count": 21,
   "id": "12fccbcd",
   "metadata": {},
   "outputs": [
    {
     "name": "stdout",
     "output_type": "stream",
     "text": [
      "Balcony: ['балкон' 'лоджия' 'балкон, лоджия']\n",
      "===========================================================================\n",
      "Bathroom: ['раздельный' 'совмещенный' 'совмещенный, раздельный']\n",
      "===========================================================================\n",
      "Sale_method: ['свободная' 'альтернативная' 'переуступка' 'договор ЖСК'\n",
      " 'договор долевого участия']\n",
      "===========================================================================\n",
      "House_type: ['кирпичный' 'панельный' 'монолитный' 'монолитно-кирпичный' 'блочный'\n",
      " 'деревянный']\n",
      "===========================================================================\n"
     ]
    }
   ],
   "source": [
    "for col in [\n",
    "    \"Balcony\", \"Bathroom\", \"Sale_method\", \n",
    "        \"House_type\"\n",
    "]:\n",
    "    print(f'{col}: {df[col][df[col].notna()].unique()}\\n{\"=\"*75}')"
   ]
  },
  {
   "cell_type": "markdown",
   "id": "9c1f7992",
   "metadata": {},
   "source": [
    "Видно, что некоторые данные разделены некорректно, в связи с чем возникает псевдо уникальность."
   ]
  },
  {
   "cell_type": "markdown",
   "id": "da55b9e2",
   "metadata": {},
   "source": [
    "Наша целевая переменная (target) - `Price`"
   ]
  },
  {
   "cell_type": "code",
   "execution_count": 22,
   "id": "6885302c",
   "metadata": {},
   "outputs": [
    {
     "data": {
      "text/plain": [
       "count    2.023500e+04\n",
       "mean     1.350531e+07\n",
       "std      8.066536e+07\n",
       "min      7.689000e+03\n",
       "25%      6.186144e+06\n",
       "50%      8.580000e+06\n",
       "75%      1.383198e+07\n",
       "max      9.000000e+09\n",
       "Name: Price, dtype: float64"
      ]
     },
     "execution_count": 22,
     "metadata": {},
     "output_type": "execute_result"
    }
   ],
   "source": [
    "# посмотрим на наш таргет\n",
    "df['Price'].describe()"
   ]
  },
  {
   "cell_type": "markdown",
   "id": "7b98074d",
   "metadata": {},
   "source": [
    "Виден очень большой разброс в данных, что может быть как свидетельством мошеннической деятельности, так и ошибками пользователей при заполнении информации в объявлениях. Построим гистограмму значений между 25 и 75 перцентилями."
   ]
  },
  {
   "cell_type": "code",
   "execution_count": 23,
   "id": "1e32f8a1",
   "metadata": {},
   "outputs": [
    {
     "data": {
      "image/png": "[encoded data removed]",
      "text/plain": [
       "<Figure size 640x480 with 1 Axes>"
      ]
     },
     "metadata": {},
     "output_type": "display_data"
    }
   ],
   "source": [
    "df[(df['Price'] >= np.percentile(df['Price'], 25)) & \n",
    "   (df['Price'] <= np.percentile(df['Price'], 75))]['Price'].hist(bins=50, density=True)\n",
    "plt.show()"
   ]
  },
  {
   "cell_type": "markdown",
   "id": "f9a2fe5a",
   "metadata": {},
   "source": [
    "Гистограмма имеет очень рваный характер. Это обусловлено желанием пользователей объявить более \"красивую\" (округленную) цену. Такое распределение отрицательно скажется на точность работы моделей машинного обуения, так как абсолютно разные объекты обладают одинаковой стоимостью.\n",
    "\n",
    "Нивелирование такого распределения можно достич введя в рассмотрение стоимость квадратного метра."
   ]
  },
  {
   "cell_type": "markdown",
   "id": "1087143d",
   "metadata": {},
   "source": [
    "Также хочется посмотреть на наличие имеющихся выбросов в числовых фичах, а также на распределение признаков в категориальных. Для этого изначального оазобьем все наши фичи на числовые и категориальные."
   ]
  },
  {
   "cell_type": "code",
   "execution_count": 24,
   "id": "5be73534",
   "metadata": {},
   "outputs": [],
   "source": [
    "#Для начала сразу же разобьем наши фичи на числовые и категориальные.\n",
    "num_features = [cname for cname in df.columns if df[cname].dtype in ['int64', 'float64']]\n",
    "cat_features = [cname for cname in df.columns if df[cname].dtype == \"object\"]"
   ]
  },
  {
   "cell_type": "markdown",
   "id": "133da590",
   "metadata": {},
   "source": [
    "Посмотрим на выбросы в числовых переменных"
   ]
  },
  {
   "cell_type": "code",
   "execution_count": 29,
   "id": "776bf312",
   "metadata": {},
   "outputs": [],
   "source": [
    "def outliners_visualization(df, num_features):\n",
    "    \n",
    "    \"\"\" \n",
    "    Визуализация для поиска выбросов в числовых фичах. \n",
    "    \n",
    "    \"\"\"\n",
    "    \n",
    "    for num in num_features:\n",
    "\n",
    "        fig, ax = plt.subplots(2, figsize=(16, 12))\n",
    "        fig.suptitle(num)\n",
    "        \n",
    "        ax[0].grid(axis='both')\n",
    "        sns.scatterplot(x=df[num], y=df['Price'], ax=ax[0])\n",
    "        \n",
    "        ax[1].grid(axis='both')\n",
    "        sns.boxplot(x=df[num], ax=ax[1])\n",
    "        \n",
    "        plt.show()"
   ]
  },
  {
   "cell_type": "code",
   "execution_count": 30,
   "id": "4f1da992",
   "metadata": {},
   "outputs": [
    {
     "data": {
      "image/png": "[encoded data removed]",
      "text/plain": [
       "<Figure size 1600x1200 with 2 Axes>"
      ]
     },
     "metadata": {},
     "output_type": "display_data"
    },
    {
     "data": {
      "image/png": "[encoded data removed]",
      "text/plain": [
       "<Figure size 1600x1200 with 2 Axes>"
      ]
     },
     "metadata": {},
     "output_type": "display_data"
    },
    {
     "data": {
      "image/png": "[encoded data removed]",
      "text/plain": [
       "<Figure size 1600x1200 with 2 Axes>"
      ]
     },
     "metadata": {},
     "output_type": "display_data"
    },
    {
     "data": {
      "image/png": "[encoded data removed]",
      "text/plain": [
       "<Figure size 1600x1200 with 2 Axes>"
      ]
     },
     "metadata": {},
     "output_type": "display_data"
    }
   ],
   "source": [
    "outliners_visualization(df, num_features)"
   ]
  },
  {
   "cell_type": "markdown",
   "id": "58ba61fa",
   "metadata": {},
   "source": [
    "Признак id для нас не является необходимым, немногим позже мы от него избавимся.\n",
    "На боксплотах также можно увидеть выбросы в целевой переменной `Price`, о которых говорилось немногим выше.\n",
    "\n",
    "Что касается годов пстроек дома, то мы видим, что в основном года сосредоточены в диапазоне от 1990 до 2003гг, что свидетельствует об относительно небольшом сроке эксплуатации домов, а как итог и о том, что дома находятся в не самом худшем состоянии.\n",
    "\n",
    "Также видно, что в основном мы имеем дело с домами, в которых в среднем до 12 этажей. Также видно, что у нас есть дом, один дом, который сильно выбивается из общей картины и имеет аж свыше 70 этажей.\n"
   ]
  },
  {
   "cell_type": "markdown",
   "id": "4f268c3f",
   "metadata": {},
   "source": [
    "## Выводы.\n",
    "Из первичного EDA видно можно сделать следующие выводы:\n",
    "1. Есть признаки, которые будут лишь мешать при построение модели. От них нужно избавляться. Не несут никакой значимости для нашего проекта такие признаки, как например:\n",
    "- `Id`;\n",
    "- `Official_developer`; \n",
    "- `New_building_name`;\n",
    "- `Building`;\n",
    "- `link`\n",
    "2. Также следует избавиться от фичей, в которых пропусков свыше 65% и есть дубликаты.\n",
    "3. В фичах присутcвтуют лишние значения, которые предают псевдоуникальность, такие как например в признаке Balcony: 'балкон' 'лоджия' 'балкон, лоджия'. Нужно их разделить. \n",
    "4. В целевой переменной Price - есть выбросы, с которыми нужно будет бороться. Считаем нужным ввести новую целевую переменную, которая будет обозначать стоимость квадратного метра и рассчитываться по формуле Price/Total_area.\n",
    "5. Также в рамках данного исследования были собраны данные за период с начала октября по середину ноября, в связи с чем, именно в этом исследование нам не потребуется признак `Publication_date`. Отметим, что если рассматривать выборку на длительном протяжении времени, то этот признак может быть весьма значимым в связи с изменчивостью стоимости рынка цен на недвижимость в зависимости от сезона. "
   ]
  }
 ],
 "metadata": {
  "kernelspec": {
   "display_name": "Python 3 (ipykernel)",
   "language": "python",
   "name": "python3"
  },
  "language_info": {
   "codemirror_mode": {
    "name": "ipython",
    "version": 3
   },
   "file_extension": ".py",
   "mimetype": "text/x-python",
   "name": "python",
   "nbconvert_exporter": "python",
   "pygments_lexer": "ipython3",
   "version": "3.9.13"
  }
 },
 "nbformat": 4,
 "nbformat_minor": 5
}
