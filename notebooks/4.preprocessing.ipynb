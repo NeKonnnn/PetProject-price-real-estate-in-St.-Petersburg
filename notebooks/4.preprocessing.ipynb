{
 "cells": [
  {
   "cell_type": "code",
   "execution_count": 1,
   "id": "b2f4df6d",
   "metadata": {},
   "outputs": [],
   "source": [
    "import pandas as pd\n",
    "import numpy as np\n",
    "from sklearn.preprocessing import LabelEncoder\n",
    "from sklearn import preprocessing"
   ]
  },
  {
   "cell_type": "code",
   "execution_count": 2,
   "id": "31c0eb10",
   "metadata": {},
   "outputs": [],
   "source": [
    "df = pd.read_csv('last_df.csv')"
   ]
  },
  {
   "cell_type": "code",
   "execution_count": 3,
   "id": "6f776c7f",
   "metadata": {},
   "outputs": [
    {
     "data": {
      "text/html": [
       "<div>\n",
       "<style scoped>\n",
       "    .dataframe tbody tr th:only-of-type {\n",
       "        vertical-align: middle;\n",
       "    }\n",
       "\n",
       "    .dataframe tbody tr th {\n",
       "        vertical-align: top;\n",
       "    }\n",
       "\n",
       "    .dataframe thead th {\n",
       "        text-align: right;\n",
       "    }\n",
       "</style>\n",
       "<table border=\"1\" class=\"dataframe\">\n",
       "  <thead>\n",
       "    <tr style=\"text-align: right;\">\n",
       "      <th></th>\n",
       "      <th>Price</th>\n",
       "      <th>Num_of_rooms</th>\n",
       "      <th>Total_area</th>\n",
       "      <th>Living_space</th>\n",
       "      <th>Balcony</th>\n",
       "      <th>Bathroom</th>\n",
       "      <th>Windows</th>\n",
       "      <th>Sale_method</th>\n",
       "      <th>House_type</th>\n",
       "      <th>WMO</th>\n",
       "      <th>...</th>\n",
       "      <th>расстояние_до_обводный_канал</th>\n",
       "      <th>расстояние_до_волковская</th>\n",
       "      <th>расстояние_до_бухарестская</th>\n",
       "      <th>расстояние_до_международная</th>\n",
       "      <th>расстояние_до_дунайская</th>\n",
       "      <th>расстояние_до_проспект_славы</th>\n",
       "      <th>расстояние_до_шушары</th>\n",
       "      <th>group</th>\n",
       "      <th>Subway_station</th>\n",
       "      <th>Time_for_subway</th>\n",
       "    </tr>\n",
       "  </thead>\n",
       "  <tbody>\n",
       "    <tr>\n",
       "      <th>0</th>\n",
       "      <td>9800000</td>\n",
       "      <td>3.0</td>\n",
       "      <td>73</td>\n",
       "      <td>NaN</td>\n",
       "      <td>балкон</td>\n",
       "      <td>раздельный</td>\n",
       "      <td>во двор, на улицу, на солнечную сторону</td>\n",
       "      <td>свободная</td>\n",
       "      <td>кирпичный</td>\n",
       "      <td>Шушары</td>\n",
       "      <td>...</td>\n",
       "      <td>23.334</td>\n",
       "      <td>21.026</td>\n",
       "      <td>19.195</td>\n",
       "      <td>17.306</td>\n",
       "      <td>12.66</td>\n",
       "      <td>15.105</td>\n",
       "      <td>9.662</td>\n",
       "      <td>1.0</td>\n",
       "      <td>no_info</td>\n",
       "      <td>no_info</td>\n",
       "    </tr>\n",
       "  </tbody>\n",
       "</table>\n",
       "<p>1 rows × 93 columns</p>\n",
       "</div>"
      ],
      "text/plain": [
       "     Price  Num_of_rooms  Total_area  Living_space Balcony    Bathroom  \\\n",
       "0  9800000           3.0          73           NaN  балкон  раздельный   \n",
       "\n",
       "                                   Windows Sale_method House_type     WMO  \\\n",
       "0  во двор, на улицу, на солнечную сторону   свободная  кирпичный  Шушары   \n",
       "\n",
       "   ... расстояние_до_обводный_канал  расстояние_до_волковская  \\\n",
       "0  ...                       23.334                    21.026   \n",
       "\n",
       "   расстояние_до_бухарестская  расстояние_до_международная  \\\n",
       "0                      19.195                       17.306   \n",
       "\n",
       "   расстояние_до_дунайская  расстояние_до_проспект_славы  \\\n",
       "0                    12.66                        15.105   \n",
       "\n",
       "   расстояние_до_шушары  group  Subway_station  Time_for_subway  \n",
       "0                 9.662    1.0         no_info          no_info  \n",
       "\n",
       "[1 rows x 93 columns]"
      ]
     },
     "execution_count": 3,
     "metadata": {},
     "output_type": "execute_result"
    }
   ],
   "source": [
    "df.head(1)"
   ]
  },
  {
   "cell_type": "markdown",
   "id": "8a4b67c7",
   "metadata": {},
   "source": [
    "Посоветовавшись с риэлтором, который выступал в качестве эксперта было принято решение также удалить фичу 'Sale_method'"
   ]
  },
  {
   "cell_type": "code",
   "execution_count": 4,
   "id": "99dd29d8",
   "metadata": {},
   "outputs": [],
   "source": [
    "df = df.drop('Sale_method', axis=1)"
   ]
  },
  {
   "cell_type": "markdown",
   "id": "5375cc66",
   "metadata": {},
   "source": [
    "### Вытаскиваем уникальные значения из некоторых категориальных фичей"
   ]
  },
  {
   "cell_type": "code",
   "execution_count": 5,
   "id": "924d170e",
   "metadata": {},
   "outputs": [
    {
     "name": "stdout",
     "output_type": "stream",
     "text": [
      "('балкон', 'Balcony_1')\n",
      "('лоджия', 'Balcony_2')\n",
      "('совмещенный', 'Bathroom_1')\n",
      "('раздельный', 'Bathroom_2')\n",
      "('на улицу', 'Windows_1')\n",
      "('на солнечную сторону', 'Windows_2')\n",
      "('во двор', 'Windows_3')\n",
      "('монолитно-кирпичный', 'House_type_1')\n",
      "('монолитный', 'House_type_2')\n",
      "('кирпичный', 'House_type_3')\n",
      "('панельный', 'House_type_4')\n",
      "('блочный', 'House_type_5')\n"
     ]
    }
   ],
   "source": [
    "# преобразуем категориальные признаки.\n",
    "def convert_lists(df: pd.DataFrame) -> pd.DataFrame:\n",
    "    cols = [\n",
    "        \"Balcony\", \"Bathroom\", \n",
    "        \"Windows\", \"House_type\"\n",
    "           ]\n",
    "    new_cols = []\n",
    "    for col in cols:\n",
    "        series = df.loc[:, col]\n",
    "        data = []\n",
    "        unique_values = set()\n",
    "        new_cols_data = []\n",
    "\n",
    "        for row in series.values:\n",
    "            row_c = [value.strip() for value in (row.split(\",\") if isinstance(row, str) else [])]\n",
    "            for element in row_c:\n",
    "                if not element in unique_values:\n",
    "                    unique_values.add(element)\n",
    "            data.append(row_c)\n",
    "    \n",
    "        unique_values = list(unique_values)\n",
    "\n",
    "        for row in data:\n",
    "            new_cols_data.append([1 if value in row else 0 for value in unique_values])\n",
    "    \n",
    "        col_names = [f\"{col}_{i+1}\" for i in range(len(unique_values))]\n",
    "        new_cols.append(pd.DataFrame(data=new_cols_data, columns=col_names, dtype=np.int8))\n",
    "        print(\"\\n\".join(map(str,zip(unique_values, col_names))))\n",
    "\n",
    "        df.drop(columns=[col], axis=1, inplace=True)\n",
    "\n",
    "    return pd.concat([df]+new_cols, axis=1)\n",
    "\n",
    "df = convert_lists(df)"
   ]
  },
  {
   "cell_type": "code",
   "execution_count": 6,
   "id": "64c8ff0c",
   "metadata": {},
   "outputs": [],
   "source": [
    "num_features = [cname for cname in df.columns if df[cname].dtype in ['int64', 'float64']]\n",
    "cat_features = [cname for cname in df.columns if df[cname].dtype == \"object\"]"
   ]
  },
  {
   "cell_type": "code",
   "execution_count": 7,
   "id": "808db544",
   "metadata": {},
   "outputs": [
    {
     "data": {
      "text/plain": [
       "['WMO', 'name', 'Subway_station', 'Time_for_subway']"
      ]
     },
     "execution_count": 7,
     "metadata": {},
     "output_type": "execute_result"
    }
   ],
   "source": [
    "cat_features"
   ]
  },
  {
   "cell_type": "code",
   "execution_count": 8,
   "id": "799050f0",
   "metadata": {},
   "outputs": [
    {
     "data": {
      "text/plain": [
       "0       no_info\n",
       "1            15\n",
       "2            10\n",
       "3            31\n",
       "4            10\n",
       "         ...   \n",
       "1452    no_info\n",
       "1453    no_info\n",
       "1454    no_info\n",
       "1455    no_info\n",
       "1456    no_info\n",
       "Name: Time_for_subway, Length: 1457, dtype: object"
      ]
     },
     "execution_count": 8,
     "metadata": {},
     "output_type": "execute_result"
    }
   ],
   "source": [
    "df['Time_for_subway']"
   ]
  },
  {
   "cell_type": "code",
   "execution_count": 9,
   "id": "90488312",
   "metadata": {},
   "outputs": [
    {
     "data": {
      "text/plain": [
       "array(['no_info', 'Гостиный двор', 'Комендантский проспект', 'Приморская',\n",
       "       'Звёздная', 'Международная', 'Чернышевская', 'Проспект Ветеранов',\n",
       "       'Владимирская', 'Электросила', 'Автово', 'Удельная',\n",
       "       'Проспект Просвещения', 'Лесная', 'Проспект Большевиков',\n",
       "       'Ладожская', 'Площадь Александра Невского 1', 'Площадь Мужества',\n",
       "       'Беговая', 'Новочеркасская', 'Обухово', 'Пионерская',\n",
       "       'Технологический институт 2', 'Академическая', 'Петроградская',\n",
       "       'Московская', 'Площадь Александра Невского 2', 'Парнас', 'Озерки',\n",
       "       'Волковская', 'Нарвская', 'Крестовский остров', 'Чкаловская',\n",
       "       'Дунайская', 'Улица Дыбенко', 'Девяткино', 'Гражданский проспект',\n",
       "       'Невский проспект', 'Рыбацкое', 'Горьковская',\n",
       "       'Технологический институт', 'Фрунзенская', 'Елизаровская',\n",
       "       'Спортивная', 'Чёрная речка', 'Купчино', 'Василеостровская',\n",
       "       'Обводный канал', 'Балтийская', 'Спасская', 'Лиговский проспект',\n",
       "       'Бухарестская', 'Садовая', 'Ленинский проспект', 'Маяковская',\n",
       "       'Пролетарская', 'Адмиралтейская', 'Выборгская', 'Площадь Ленина',\n",
       "       'Достоевская', 'Парк Победы', 'Ломоносовская', 'Старая деревня',\n",
       "       'Площадь Восстания', 'Кировский завод', 'Политехническая',\n",
       "       'Московские ворота', 'Сенная площадь', 'Пушкинская',\n",
       "       'Проспект Славы', 'Звенигородская'], dtype=object)"
      ]
     },
     "execution_count": 9,
     "metadata": {},
     "output_type": "execute_result"
    }
   ],
   "source": [
    "df['Subway_station'].unique()"
   ]
  },
  {
   "cell_type": "markdown",
   "id": "bf99e2fb",
   "metadata": {},
   "source": [
    "Воспользуем Label encoder, чтобы разобраться со столбцом "
   ]
  },
  {
   "cell_type": "code",
   "execution_count": 10,
   "id": "00191095",
   "metadata": {},
   "outputs": [],
   "source": [
    "categorical_feature_mask = df.dtypes==object\n",
    "categorical_cols = df.columns[categorical_feature_mask].tolist()"
   ]
  },
  {
   "cell_type": "code",
   "execution_count": 11,
   "id": "1ee455ae",
   "metadata": {},
   "outputs": [],
   "source": [
    "le = LabelEncoder()\n",
    "df[cat_features] = df[cat_features].apply(lambda col: le.fit_transform(col))"
   ]
  },
  {
   "cell_type": "code",
   "execution_count": 12,
   "id": "53044580",
   "metadata": {},
   "outputs": [
    {
     "data": {
      "text/plain": [
       "0"
      ]
     },
     "execution_count": 12,
     "metadata": {},
     "output_type": "execute_result"
    }
   ],
   "source": [
    "df['name'].isnull().sum()"
   ]
  },
  {
   "cell_type": "markdown",
   "id": "c082ff7c",
   "metadata": {},
   "source": [
    "### Заполняем оставшиеся пропуски"
   ]
  },
  {
   "cell_type": "code",
   "execution_count": 13,
   "id": "8ba558ca",
   "metadata": {},
   "outputs": [],
   "source": [
    "# в жилой площади пропуски заменим на среднее значение по столбцу\n",
    "df['Living_space'] = df['Living_space'].fillna(df['Living_space'].mean())"
   ]
  },
  {
   "cell_type": "code",
   "execution_count": 14,
   "id": "ee2486fd",
   "metadata": {},
   "outputs": [],
   "source": [
    "# name и group вместо пропусков поставим значение 0\n",
    "df[['name', 'group']] = df[['name','group']].fillna(0)"
   ]
  },
  {
   "cell_type": "code",
   "execution_count": 15,
   "id": "095f5a57",
   "metadata": {},
   "outputs": [
    {
     "data": {
      "text/html": [
       "<div>\n",
       "<style scoped>\n",
       "    .dataframe tbody tr th:only-of-type {\n",
       "        vertical-align: middle;\n",
       "    }\n",
       "\n",
       "    .dataframe tbody tr th {\n",
       "        vertical-align: top;\n",
       "    }\n",
       "\n",
       "    .dataframe thead th {\n",
       "        text-align: right;\n",
       "    }\n",
       "</style>\n",
       "<table border=\"1\" class=\"dataframe\">\n",
       "  <thead>\n",
       "    <tr style=\"text-align: right;\">\n",
       "      <th></th>\n",
       "      <th>Price</th>\n",
       "      <th>Num_of_rooms</th>\n",
       "      <th>Total_area</th>\n",
       "      <th>Living_space</th>\n",
       "      <th>WMO</th>\n",
       "      <th>name</th>\n",
       "      <th>log_price</th>\n",
       "      <th>Price_m_2</th>\n",
       "      <th>Price_m_2_cat</th>\n",
       "      <th>lat_object</th>\n",
       "      <th>...</th>\n",
       "      <th>Bathroom_1</th>\n",
       "      <th>Bathroom_2</th>\n",
       "      <th>Windows_1</th>\n",
       "      <th>Windows_2</th>\n",
       "      <th>Windows_3</th>\n",
       "      <th>House_type_1</th>\n",
       "      <th>House_type_2</th>\n",
       "      <th>House_type_3</th>\n",
       "      <th>House_type_4</th>\n",
       "      <th>House_type_5</th>\n",
       "    </tr>\n",
       "  </thead>\n",
       "  <tbody>\n",
       "    <tr>\n",
       "      <th>count</th>\n",
       "      <td>1.457000e+03</td>\n",
       "      <td>1457.000000</td>\n",
       "      <td>1457.000000</td>\n",
       "      <td>1457.000000</td>\n",
       "      <td>1457.000000</td>\n",
       "      <td>1457.000000</td>\n",
       "      <td>1457.000000</td>\n",
       "      <td>1457.000000</td>\n",
       "      <td>1457.000000</td>\n",
       "      <td>1457.000000</td>\n",
       "      <td>...</td>\n",
       "      <td>1457.000000</td>\n",
       "      <td>1457.000000</td>\n",
       "      <td>1457.000000</td>\n",
       "      <td>1457.000000</td>\n",
       "      <td>1457.000000</td>\n",
       "      <td>1457.000000</td>\n",
       "      <td>1457.000000</td>\n",
       "      <td>1457.000000</td>\n",
       "      <td>1457.000000</td>\n",
       "      <td>1457.000000</td>\n",
       "    </tr>\n",
       "    <tr>\n",
       "      <th>mean</th>\n",
       "      <td>2.567371e+07</td>\n",
       "      <td>2.514070</td>\n",
       "      <td>96.301990</td>\n",
       "      <td>52.895850</td>\n",
       "      <td>58.205216</td>\n",
       "      <td>9.550446</td>\n",
       "      <td>0.617454</td>\n",
       "      <td>253772.834904</td>\n",
       "      <td>2.260810</td>\n",
       "      <td>59.941930</td>\n",
       "      <td>...</td>\n",
       "      <td>0.321894</td>\n",
       "      <td>0.445436</td>\n",
       "      <td>0.402883</td>\n",
       "      <td>0.110501</td>\n",
       "      <td>0.415237</td>\n",
       "      <td>0.079616</td>\n",
       "      <td>0.409746</td>\n",
       "      <td>0.448181</td>\n",
       "      <td>0.059025</td>\n",
       "      <td>0.003432</td>\n",
       "    </tr>\n",
       "    <tr>\n",
       "      <th>std</th>\n",
       "      <td>2.492439e+07</td>\n",
       "      <td>1.692331</td>\n",
       "      <td>74.772857</td>\n",
       "      <td>47.669105</td>\n",
       "      <td>29.023811</td>\n",
       "      <td>5.789018</td>\n",
       "      <td>0.864135</td>\n",
       "      <td>92267.871139</td>\n",
       "      <td>1.324664</td>\n",
       "      <td>0.077373</td>\n",
       "      <td>...</td>\n",
       "      <td>0.467363</td>\n",
       "      <td>0.497184</td>\n",
       "      <td>0.490646</td>\n",
       "      <td>0.313621</td>\n",
       "      <td>0.492932</td>\n",
       "      <td>0.270790</td>\n",
       "      <td>0.491956</td>\n",
       "      <td>0.497478</td>\n",
       "      <td>0.235753</td>\n",
       "      <td>0.058500</td>\n",
       "    </tr>\n",
       "    <tr>\n",
       "      <th>min</th>\n",
       "      <td>1.925000e+06</td>\n",
       "      <td>0.000000</td>\n",
       "      <td>10.000000</td>\n",
       "      <td>5.000000</td>\n",
       "      <td>0.000000</td>\n",
       "      <td>0.000000</td>\n",
       "      <td>-1.612979</td>\n",
       "      <td>107428.571429</td>\n",
       "      <td>0.000000</td>\n",
       "      <td>59.573957</td>\n",
       "      <td>...</td>\n",
       "      <td>0.000000</td>\n",
       "      <td>0.000000</td>\n",
       "      <td>0.000000</td>\n",
       "      <td>0.000000</td>\n",
       "      <td>0.000000</td>\n",
       "      <td>0.000000</td>\n",
       "      <td>0.000000</td>\n",
       "      <td>0.000000</td>\n",
       "      <td>0.000000</td>\n",
       "      <td>0.000000</td>\n",
       "    </tr>\n",
       "    <tr>\n",
       "      <th>25%</th>\n",
       "      <td>9.710763e+06</td>\n",
       "      <td>1.000000</td>\n",
       "      <td>47.000000</td>\n",
       "      <td>26.300000</td>\n",
       "      <td>32.000000</td>\n",
       "      <td>4.000000</td>\n",
       "      <td>0.005329</td>\n",
       "      <td>183782.882583</td>\n",
       "      <td>1.000000</td>\n",
       "      <td>59.903877</td>\n",
       "      <td>...</td>\n",
       "      <td>0.000000</td>\n",
       "      <td>0.000000</td>\n",
       "      <td>0.000000</td>\n",
       "      <td>0.000000</td>\n",
       "      <td>0.000000</td>\n",
       "      <td>0.000000</td>\n",
       "      <td>0.000000</td>\n",
       "      <td>0.000000</td>\n",
       "      <td>0.000000</td>\n",
       "      <td>0.000000</td>\n",
       "    </tr>\n",
       "    <tr>\n",
       "      <th>50%</th>\n",
       "      <td>1.890000e+07</td>\n",
       "      <td>3.000000</td>\n",
       "      <td>83.000000</td>\n",
       "      <td>48.500000</td>\n",
       "      <td>59.000000</td>\n",
       "      <td>11.000000</td>\n",
       "      <td>0.671256</td>\n",
       "      <td>235527.698211</td>\n",
       "      <td>2.000000</td>\n",
       "      <td>59.947176</td>\n",
       "      <td>...</td>\n",
       "      <td>0.000000</td>\n",
       "      <td>0.000000</td>\n",
       "      <td>0.000000</td>\n",
       "      <td>0.000000</td>\n",
       "      <td>0.000000</td>\n",
       "      <td>0.000000</td>\n",
       "      <td>0.000000</td>\n",
       "      <td>0.000000</td>\n",
       "      <td>0.000000</td>\n",
       "      <td>0.000000</td>\n",
       "    </tr>\n",
       "    <tr>\n",
       "      <th>75%</th>\n",
       "      <td>3.250000e+07</td>\n",
       "      <td>3.000000</td>\n",
       "      <td>125.000000</td>\n",
       "      <td>61.600000</td>\n",
       "      <td>84.000000</td>\n",
       "      <td>14.000000</td>\n",
       "      <td>1.213335</td>\n",
       "      <td>301431.560272</td>\n",
       "      <td>4.000000</td>\n",
       "      <td>59.989090</td>\n",
       "      <td>...</td>\n",
       "      <td>1.000000</td>\n",
       "      <td>1.000000</td>\n",
       "      <td>1.000000</td>\n",
       "      <td>0.000000</td>\n",
       "      <td>1.000000</td>\n",
       "      <td>0.000000</td>\n",
       "      <td>1.000000</td>\n",
       "      <td>1.000000</td>\n",
       "      <td>0.000000</td>\n",
       "      <td>0.000000</td>\n",
       "    </tr>\n",
       "    <tr>\n",
       "      <th>max</th>\n",
       "      <td>3.300000e+08</td>\n",
       "      <td>10.000000</td>\n",
       "      <td>1024.000000</td>\n",
       "      <td>1000.000000</td>\n",
       "      <td>103.000000</td>\n",
       "      <td>18.000000</td>\n",
       "      <td>3.531187</td>\n",
       "      <td>534304.806500</td>\n",
       "      <td>4.000000</td>\n",
       "      <td>60.194562</td>\n",
       "      <td>...</td>\n",
       "      <td>1.000000</td>\n",
       "      <td>1.000000</td>\n",
       "      <td>1.000000</td>\n",
       "      <td>1.000000</td>\n",
       "      <td>1.000000</td>\n",
       "      <td>1.000000</td>\n",
       "      <td>1.000000</td>\n",
       "      <td>1.000000</td>\n",
       "      <td>1.000000</td>\n",
       "      <td>1.000000</td>\n",
       "    </tr>\n",
       "  </tbody>\n",
       "</table>\n",
       "<p>8 rows × 100 columns</p>\n",
       "</div>"
      ],
      "text/plain": [
       "              Price  Num_of_rooms   Total_area  Living_space          WMO  \\\n",
       "count  1.457000e+03   1457.000000  1457.000000   1457.000000  1457.000000   \n",
       "mean   2.567371e+07      2.514070    96.301990     52.895850    58.205216   \n",
       "std    2.492439e+07      1.692331    74.772857     47.669105    29.023811   \n",
       "min    1.925000e+06      0.000000    10.000000      5.000000     0.000000   \n",
       "25%    9.710763e+06      1.000000    47.000000     26.300000    32.000000   \n",
       "50%    1.890000e+07      3.000000    83.000000     48.500000    59.000000   \n",
       "75%    3.250000e+07      3.000000   125.000000     61.600000    84.000000   \n",
       "max    3.300000e+08     10.000000  1024.000000   1000.000000   103.000000   \n",
       "\n",
       "              name    log_price      Price_m_2  Price_m_2_cat   lat_object  \\\n",
       "count  1457.000000  1457.000000    1457.000000    1457.000000  1457.000000   \n",
       "mean      9.550446     0.617454  253772.834904       2.260810    59.941930   \n",
       "std       5.789018     0.864135   92267.871139       1.324664     0.077373   \n",
       "min       0.000000    -1.612979  107428.571429       0.000000    59.573957   \n",
       "25%       4.000000     0.005329  183782.882583       1.000000    59.903877   \n",
       "50%      11.000000     0.671256  235527.698211       2.000000    59.947176   \n",
       "75%      14.000000     1.213335  301431.560272       4.000000    59.989090   \n",
       "max      18.000000     3.531187  534304.806500       4.000000    60.194562   \n",
       "\n",
       "       ...   Bathroom_1   Bathroom_2    Windows_1    Windows_2    Windows_3  \\\n",
       "count  ...  1457.000000  1457.000000  1457.000000  1457.000000  1457.000000   \n",
       "mean   ...     0.321894     0.445436     0.402883     0.110501     0.415237   \n",
       "std    ...     0.467363     0.497184     0.490646     0.313621     0.492932   \n",
       "min    ...     0.000000     0.000000     0.000000     0.000000     0.000000   \n",
       "25%    ...     0.000000     0.000000     0.000000     0.000000     0.000000   \n",
       "50%    ...     0.000000     0.000000     0.000000     0.000000     0.000000   \n",
       "75%    ...     1.000000     1.000000     1.000000     0.000000     1.000000   \n",
       "max    ...     1.000000     1.000000     1.000000     1.000000     1.000000   \n",
       "\n",
       "       House_type_1  House_type_2  House_type_3  House_type_4  House_type_5  \n",
       "count   1457.000000   1457.000000   1457.000000   1457.000000   1457.000000  \n",
       "mean       0.079616      0.409746      0.448181      0.059025      0.003432  \n",
       "std        0.270790      0.491956      0.497478      0.235753      0.058500  \n",
       "min        0.000000      0.000000      0.000000      0.000000      0.000000  \n",
       "25%        0.000000      0.000000      0.000000      0.000000      0.000000  \n",
       "50%        0.000000      0.000000      0.000000      0.000000      0.000000  \n",
       "75%        0.000000      1.000000      1.000000      0.000000      0.000000  \n",
       "max        1.000000      1.000000      1.000000      1.000000      1.000000  \n",
       "\n",
       "[8 rows x 100 columns]"
      ]
     },
     "execution_count": 15,
     "metadata": {},
     "output_type": "execute_result"
    }
   ],
   "source": [
    "df.describe()"
   ]
  },
  {
   "cell_type": "markdown",
   "id": "f55a8b0a",
   "metadata": {},
   "source": [
    "### Нормализация данных"
   ]
  },
  {
   "cell_type": "code",
   "execution_count": 16,
   "id": "e9be232a",
   "metadata": {},
   "outputs": [],
   "source": [
    "# columns = df.columns"
   ]
  },
  {
   "cell_type": "code",
   "execution_count": 17,
   "id": "d494a08f",
   "metadata": {},
   "outputs": [],
   "source": [
    "# #Будем использовать метод normalize\n",
    "# normalize = preprocessing.normalize(df)\n",
    "# df = pd.DataFrame(normalize, columns=columns)"
   ]
  },
  {
   "cell_type": "code",
   "execution_count": 18,
   "id": "4368b2c3",
   "metadata": {},
   "outputs": [],
   "source": [
    "df.to_csv('clean.csv', index=False)"
   ]
  }
 ],
 "metadata": {
  "kernelspec": {
   "display_name": "Python 3 (ipykernel)",
   "language": "python",
   "name": "python3"
  },
  "language_info": {
   "codemirror_mode": {
    "name": "ipython",
    "version": 3
   },
   "file_extension": ".py",
   "mimetype": "text/x-python",
   "name": "python",
   "nbconvert_exporter": "python",
   "pygments_lexer": "ipython3",
   "version": "3.9.13"
  }
 },
 "nbformat": 4,
 "nbformat_minor": 5
}
