{
 "cells": [
  {
   "cell_type": "code",
   "execution_count": null,
   "id": "b2f4df6d",
   "metadata": {},
   "outputs": [],
   "source": [
    "import pandas as pd\n",
    "import numpy as np"
   ]
  },
  {
   "cell_type": "code",
   "execution_count": null,
   "id": "31c0eb10",
   "metadata": {},
   "outputs": [],
   "source": [
    "df = pd.read_csv('')"
   ]
  },
  {
   "cell_type": "markdown",
   "id": "5375cc66",
   "metadata": {},
   "source": [
    "### Вытаскиваем уникальные значения из некоторых категориальных фичей¶"
   ]
  },
  {
   "cell_type": "code",
   "execution_count": null,
   "id": "924d170e",
   "metadata": {},
   "outputs": [],
   "source": [
    "#это метод OHE.\n",
    "def convert_lists(df: pd.DataFrame) -> pd.DataFrame:\n",
    "    cols = [\n",
    "        \"Balcony\", \"Bathroom\", \"Windows\", \"Sale_method\",\n",
    "        \"House_type\"\n",
    "           ]\n",
    "    new_cols = []\n",
    "    for col in cols:\n",
    "        series = df.loc[:, col]\n",
    "        data = []\n",
    "        unique_values = set()\n",
    "        new_cols_data = []\n",
    "\n",
    "        for row in series.values:\n",
    "            row_c = [value.strip() for value in (row.split(\",\") if isinstance(row, str) else [])]\n",
    "            for element in row_c:\n",
    "                if not element in unique_values:\n",
    "                    unique_values.add(element)\n",
    "            data.append(row_c)\n",
    "    \n",
    "        unique_values = list(unique_values)\n",
    "\n",
    "        for row in data:\n",
    "            new_cols_data.append([1 if value in row else 0 for value in unique_values])\n",
    "    \n",
    "        col_names = [f\"{col}_{i+1}\" for i in range(len(unique_values))]\n",
    "        new_cols.append(pd.DataFrame(data=new_cols_data, columns=col_names, dtype=np.int8))\n",
    "        print(\"\\n\".join(map(str,zip(unique_values, col_names))))\n",
    "\n",
    "        df.drop(columns=[col], axis=1, inplace=True)\n",
    "\n",
    "    return pd.concat([df]+new_cols, axis=1)\n",
    "\n",
    "df = convert_lists(df)"
   ]
  }
 ],
 "metadata": {
  "kernelspec": {
   "display_name": "Python 3 (ipykernel)",
   "language": "python",
   "name": "python3"
  },
  "language_info": {
   "codemirror_mode": {
    "name": "ipython",
    "version": 3
   },
   "file_extension": ".py",
   "mimetype": "text/x-python",
   "name": "python",
   "nbconvert_exporter": "python",
   "pygments_lexer": "ipython3",
   "version": "3.9.13"
  }
 },
 "nbformat": 4,
 "nbformat_minor": 5
}
